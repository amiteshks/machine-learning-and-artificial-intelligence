{
 "cells": [
  {
   "cell_type": "markdown",
   "id": "cf04f77e-7dd4-4110-a1be-552dd64a4426",
   "metadata": {},
   "source": [
    "## 📌 Generative AI Healthcare Assistant for Doctor Scheduling & Patient Inquiries:\n",
    "\r\n",
    "This project leverages **Generative AI (OpenAI + LangChain)** to create a **smart healthcare assistant** that helps patients with:\r\n",
    "- ✅ **Doctor availability inquiries** (e.g., \"When is Dr. Patel available?\")\r\n",
    "- ✅ **Medical treatment details** (e.g., \"What is the recovery time for knee replacement?\")\r\n",
    "- ✅ **General health inquiries** (e.g., \"What are the symptoms of a heart attack?\")\r\n",
    "\r\n",
    "The assistant **retrieves structured data** from a **hospital scheduling database** (or API) and **combines it with Generative AI responses**, ensuring **accurate, up-to-date, and natural-sounding answers**.\r\n",
    "\r\n",
    "---\r\n",
    "\r\n",
    "## 🛠️ Key Features\r\n",
    "- ✅ **Retrieval-Augmented Generation (RAG)** – Fetches **doctor schedules dynamically**\r\n",
    "- ✅ **Hybrid Response Generation** – Uses **structured JSON** for known data & **AI-generated text** for general queries\r\n",
    "- ✅ **Function Calling (Optional)** – Integrates with **live hospital scheduling APIs**\r\n",
    "- ✅ **Scalable & Extendable** – Supports **vector databases, SQL, or a live hospital database  \r\n",
    "\r\n",
    "---\r\n",
    "\r\n",
    "## 🔧 Technologies Used\r\n",
    "- 🏗 **LangChain** – Handles AI conversation flow  \r\n",
    "- 🤖 **OpenAI GPT-4o** – Generates patient-friendly responses  \r\n",
    "- 📄 **JSON** – Manages doctostions or improvements? Feel free to contribute! 🚀\r\n",
    "\"\"\"\r\n"
   ]
  },
  {
   "cell_type": "markdown",
   "id": "4da12670-687f-4141-913e-95d6680123ee",
   "metadata": {},
   "source": [
    "# Implementation is shown below:\n",
    "---\n",
    "#### Import OS, JSON and Langchain libraries"
   ]
  },
  {
   "cell_type": "code",
   "execution_count": 92,
   "id": "e01eae7e-4990-478a-b081-a892921049b0",
   "metadata": {},
   "outputs": [],
   "source": [
    "\n",
    "import os\n",
    "import json\n",
    "from langchain_openai import ChatOpenAI  #   LangChain: OpenAI Chat Model\n",
    "from langchain_core.messages import SystemMessage, HumanMessage  #   LangChain: Message Handling"
   ]
  },
  {
   "cell_type": "markdown",
   "id": "d7774f0f-1140-4642-be47-8e2d9cd9f03c",
   "metadata": {},
   "source": [
    "### Synthetic Data - This could be read from an API or a Database"
   ]
  },
  {
   "cell_type": "code",
   "execution_count": 95,
   "id": "f95051d1-3a91-4c56-819a-02309ed6a109",
   "metadata": {},
   "outputs": [],
   "source": [
    "#   Simulated Healthcare Database\n",
    "HEALTHCARE_DATA = {\n",
    "    \"Dr. Smith\": {\n",
    "        \"specialization\": \"Cardiology\",\n",
    "        \"availability\": \"Mon-Fri, 9 AM - 5 PM\",\n",
    "        \"contact\": \"555-1234\",\n",
    "    },\n",
    "    \"Dr. Patel\": {\n",
    "        \"specialization\": \"Orthopedics\",\n",
    "        \"availability\": \"Tue-Thu, 10 AM - 4 PM\",\n",
    "        \"contact\": \"555-5678\",\n",
    "    },\n",
    "    \"MRI Scan\": {\n",
    "        \"procedure\": \"Magnetic Resonance Imaging for detailed body scans.\",\n",
    "        \"insurance_coverage\": \"Covered by most insurance providers.\",\n",
    "        \"cost\": \"$500 per scan.\",\n",
    "    },\n",
    "    \"Knee Replacement Surgery\": {\n",
    "        \"procedure\": \"Surgical procedure to replace knee joint with an artificial implant.\",\n",
    "        \"recovery_time\": \"6-12 weeks with physiotherapy.\",\n",
    "        \"insurance_coverage\": \"Depends on provider, usually partially covered.\",\n",
    "    },\n",
    "}\n",
    "\n",
    "#   LangChain: Initializing OpenAI Chat Model\n",
    "llm = ChatOpenAI(\n",
    "    model=\"gpt-4o-mini\"\n",
    ")"
   ]
  },
  {
   "cell_type": "markdown",
   "id": "bf73bd7d-4367-48f9-bb7c-09e6720bdfd6",
   "metadata": {},
   "source": [
    "### Create Langchain pipeline using Open AI API"
   ]
  },
  {
   "cell_type": "code",
   "execution_count": 97,
   "id": "19f5b2c0-58bc-4be2-904f-9515819e01ff",
   "metadata": {},
   "outputs": [],
   "source": [
    "healthcare_context = json.dumps(HEALTHCARE_DATA, indent=2)\n",
    "#  LangChain: AI-Driven Patient Assistant with Database Lookup\n",
    "def healthcare_assistant(user_query):\n",
    "    \"\"\"\n",
    "    Processes a patient query, looks up structured data when possible, \n",
    "    and falls back to LLM for general healthcare questions.\n",
    "    \"\"\"\n",
    "\n",
    "    #  Step 1: Ask OpenAI to detect the query type\n",
    "    messages = [\n",
    "        SystemMessage(content=f\"You are a healthcare assistant with access to hospital scheduling data. \"\n",
    "                              f\"Here is the doctor availability data:\\n{healthcare_context}\\n\"\n",
    "                              \"Use this information to answer user queries.\"),\n",
    "        HumanMessage(content=user_query),\n",
    "    ]\n",
    "    \n",
    "    response = llm.invoke(messages)  #  LangChain: Call AI Model\n",
    "    \n",
    "    #  Step 2: Extract the response\n",
    "    extracted_term = response.content.strip()\n",
    "\n",
    "    return extracted_term  #  Return free-text AI-generated response"
   ]
  },
  {
   "cell_type": "code",
   "execution_count": 98,
   "id": "da05af95-608f-4762-9a31-fced35fbf32f",
   "metadata": {},
   "outputs": [],
   "source": [
    "### Few examples of how this works"
   ]
  },
  {
   "cell_type": "code",
   "execution_count": 102,
   "id": "c95f09d7-f7f2-4d92-a1e9-8a16b3adef46",
   "metadata": {},
   "outputs": [
    {
     "name": "stdout",
     "output_type": "stream",
     "text": [
      "🔹 Response 1:\n",
      " Dr. Patel is available for consultation on Tuesday through Thursday, from 10 AM to 4 PM. If you would like to schedule an appointment, please check if it falls within those days and times.\n"
     ]
    }
   ],
   "source": [
    "#   Example 1: Doctor inquiry (expected JSON response from database)\n",
    "user_query_1 = \"Is Dr. Patel available for consultation?\"\n",
    "print(\"🔹 Response 1:\\n\", healthcare_assistant(user_query_1))"
   ]
  },
  {
   "cell_type": "code",
   "execution_count": 103,
   "id": "d89a7354-0c8e-4b36-9f48-93c39431b17f",
   "metadata": {},
   "outputs": [
    {
     "name": "stdout",
     "output_type": "stream",
     "text": [
      "\n",
      "🔹 Response 2:\n",
      " The recovery time for Knee Replacement Surgery is typically 6 to 12 weeks, which includes physiotherapy.\n"
     ]
    }
   ],
   "source": [
    "\n",
    "#   Example 2: Treatment inquiry (expected JSON response from database)\n",
    "user_query_2 = \"What is the recovery time for Knee Replacement Surgery?\"\n",
    "print(\"\\n🔹 Response 2:\\n\", healthcare_assistant(user_query_2))\n"
   ]
  },
  {
   "cell_type": "code",
   "execution_count": 104,
   "id": "4c21dbcd-c3ba-4b63-a7af-b5931250b029",
   "metadata": {},
   "outputs": [
    {
     "name": "stdout",
     "output_type": "stream",
     "text": [
      "\n",
      "🔹 Response 3:\n",
      " The symptoms of a heart attack can vary from person to person, but common signs include:\n",
      "\n",
      "1. **Chest Pain or Discomfort**: Often described as a feeling of pressure, squeezing, fullness, or pain in the center or left side of the chest. This may last for more than a few minutes or go away and come back.\n",
      "\n",
      "2. **Shortness of Breath**: This may occur with or without chest discomfort.\n",
      "\n",
      "3. **Other Discomfort**: Pain or discomfort in one or both arms, the back, neck, jaw, or stomach.\n",
      "\n",
      "4. **Nausea or Lightheadedness**: Some people may experience nausea, vomiting, or dizziness.\n",
      "\n",
      "5. **Cold Sweat**: Breaking out in a cold sweat is also a potential symptom.\n",
      "\n",
      "If you or someone else may be experiencing these symptoms, it is important to seek medical attention immediately.\n"
     ]
    }
   ],
   "source": [
    "#   Example 3: General health inquiry (expected LLM-generated response)\n",
    "user_query_3 = \"What are the symptoms of a heart attack?\"\n",
    "print(\"\\n🔹 Response 3:\\n\", healthcare_assistant(user_query_3))"
   ]
  },
  {
   "cell_type": "markdown",
   "id": "2490ea27-5b30-45b5-b186-cd1e87c9bdee",
   "metadata": {},
   "source": [
    "---\n",
    "### 🚀 Potential Enhancements\n",
    "- 🔹 **Enhance with memory** (multi-turn conversations)\n",
    "- 🔹 **Connect with live hospital scheduling APIs**\n",
    "- 🔹 **Enable voice-based interactions (speech-to-text + AI response)**"
   ]
  },
  {
   "cell_type": "code",
   "execution_count": null,
   "id": "0b655863-6483-4ff2-96d5-5cc1dd6e6445",
   "metadata": {},
   "outputs": [],
   "source": []
  }
 ],
 "metadata": {
  "kernelspec": {
   "display_name": "Python 3 (ipykernel)",
   "language": "python",
   "name": "python3"
  },
  "language_info": {
   "codemirror_mode": {
    "name": "ipython",
    "version": 3
   },
   "file_extension": ".py",
   "mimetype": "text/x-python",
   "name": "python",
   "nbconvert_exporter": "python",
   "pygments_lexer": "ipython3",
   "version": "3.12.4"
  }
 },
 "nbformat": 4,
 "nbformat_minor": 5
}

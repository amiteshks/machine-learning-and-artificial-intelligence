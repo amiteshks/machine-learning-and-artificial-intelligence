{
 "cells": [
  {
   "cell_type": "code",
   "execution_count": 78,
   "id": "2a28b3c5-87bb-4594-b5dc-f837d98e5f89",
   "metadata": {},
   "outputs": [],
   "source": [
    "from langchain_openai import ChatOpenAI\n",
    "from langgraph.graph import MessagesState, StateGraph\n",
    "from langchain_core.messages import HumanMessage, SystemMessage\n",
    "from IPython.display import Image, display\n",
    "from langgraph.graph import StateGraph, START, END\n",
    "from typing_extensions import TypedDict\n",
    "from openai import OpenAI\n",
    "import json\n",
    "from healthcare_tools import tools_list, discharge_patient, get_patient_status\n",
    "from langgraph.prebuilt import ToolNode\n"
   ]
  },
  {
   "cell_type": "code",
   "execution_count": 79,
   "id": "75272ec2",
   "metadata": {},
   "outputs": [],
   "source": [
    "# Tools\n",
    "def discharge_patient(state):\n",
    "    \"\"\"Discharge a patient from the hospital given their patient ID.\n",
    "    \n",
    "    Args:\n",
    "        state: A dictionary containing patient_id and other state information\n",
    "    \n",
    "    Returns:\n",
    "        The updated state dictionary\n",
    "    \"\"\"\n",
    "    patient_id = state['patient_id']\n",
    "    print(\"discharge_patient\")\n",
    "    print(state) \n",
    "    discharge_patient(patient_id)  \n",
    "    return state\n",
    "\n",
    "\n",
    "def get_patient_info(state):\n",
    "    \"\"\"Retrieve patient information given their patient ID.\n",
    "    \n",
    "    Args:\n",
    "        state: A dictionary containing patient_id and other state information\n",
    "    \n",
    "    Returns:\n",
    "        The updated state dictionary\n",
    "    \"\"\"\n",
    "    patient_id = state['patient_id']\n",
    "    print(\"get_patient_info\")\n",
    "    print(state)\n",
    "    get_patient_status(patient_id)\n",
    "    return state    \n",
    "\n",
    "def tools_condition(state):\n",
    "    print(\"are_tools_needed\")\n",
    "    \n",
    "    # Get the tool name from the last assistant message\n",
    "    messages = state.get('messages', [])\n",
    "    if messages and hasattr(messages[-1], 'tool_calls'):\n",
    "        tool_calls = messages[-1].tool_calls\n",
    "        if tool_calls:\n",
    "            tool_name = tool_calls[0].function.name\n",
    "            if tool_name == 'discharge_patient':\n",
    "                return 'discharge_patient'\n",
    "            elif tool_name == 'get_patient_info':\n",
    "                return 'get_patient_info'\n",
    "    return END\n"
   ]
  },
  {
   "cell_type": "code",
   "execution_count": 80,
   "id": "ca6c4680",
   "metadata": {},
   "outputs": [],
   "source": [
    "\n",
    "client = OpenAI()\n",
    "\n",
    "def call_open_ai (messages):\n",
    "    response = client.chat.completions.create(\n",
    "    model=\"gpt-4o-mini\",\n",
    "    messages=messages,\n",
    "    tools=tools_list\n",
    "    )\n",
    "    return response\n",
    "\n",
    "\n",
    "\n",
    "def admin_assistant(state):\n",
    "    print (\"admin_assistant\")\n",
    "\n",
    "    print (state)   \n",
    "    messages = state['messages']\n",
    "    response = call_open_ai(messages)\n",
    "    messages.append(response.choices[0].message)\n",
    "    state['messages'] = messages\n",
    "    return state\n",
    "   \n",
    "    "
   ]
  },
  {
   "cell_type": "code",
   "execution_count": 81,
   "id": "8683cb7f",
   "metadata": {},
   "outputs": [],
   "source": [
    "from langchain.tools import Tool\n",
    "# tools = [\n",
    "#     Tool(\n",
    "#         name=\"discharge_patient\",\n",
    "#         func=discharge_patient,\n",
    "#         description=\"Discharge a patient from the hospital given their patient ID\"\n",
    "#     ),\n",
    "#     Tool(\n",
    "#         name=\"get_patient_info\",\n",
    "#         func=get_patient_info,\n",
    "#         description=\"Retrieve patient information given their patient ID\"\n",
    "#     )\n",
    "# ]\n",
    "tools = [discharge_patient, get_patient_info]\n",
    "# Set up the workflow\n",
    "workflow = StateGraph(MessagesState)\n",
    "workflow.add_node(\"admin_assistant\", admin_assistant)\n",
    "workflow.add_node(\"tools\", ToolNode(tools))\n",
    "\n",
    "# Set up the edges\n",
    "workflow.add_edge(START, \"admin_assistant\")\n",
    "workflow.add_conditional_edges(\n",
    "    \"admin_assistant\",\n",
    "    tools_condition,\n",
    "    {\n",
    "        \"discharge_patient\": \"tools\",\n",
    "        \"get_patient_info\": \"tools\"\n",
    "    }\n",
    ")\n",
    "workflow.add_edge(\"tools\", \"admin_assistant\")\n",
    "\n",
    "# Compile the graph\n",
    "workflows_app = workflow.compile()"
   ]
  },
  {
   "cell_type": "code",
   "execution_count": 74,
   "id": "c16a03cc",
   "metadata": {},
   "outputs": [
    {
     "name": "stdout",
     "output_type": "stream",
     "text": [
      "tools_list [{'type': 'function', 'function': {'name': 'discharge_patient', 'description': 'Discharge a Patient', 'parameters': {'type': 'object', 'properties': {'patient_id': {'type': 'string', 'description': 'Patient ID for the patient'}}, 'required': ['patient_id']}}}, {'type': 'function', 'function': {'name': 'get_patient_status', 'description': 'Provide status of the patient', 'parameters': {'type': 'object', 'properties': {'patient_id': {'type': 'string', 'description': 'Patient ID for the patient'}}, 'required': ['patient_id']}}}]\n"
     ]
    },
    {
     "ename": "TypeError",
     "evalue": "unhashable type: 'Tool'",
     "output_type": "error",
     "traceback": [
      "\u001b[1;31m---------------------------------------------------------------------------\u001b[0m",
      "\u001b[1;31mTypeError\u001b[0m                                 Traceback (most recent call last)",
      "Cell \u001b[1;32mIn[74], line 32\u001b[0m\n\u001b[0;32m     30\u001b[0m workflow\u001b[38;5;241m.\u001b[39madd_conditional_edges(\u001b[38;5;124m\"\u001b[39m\u001b[38;5;124madmin_assistant\u001b[39m\u001b[38;5;124m\"\u001b[39m, tools_condition)\n\u001b[0;32m     31\u001b[0m workflow\u001b[38;5;241m.\u001b[39madd_edge(\u001b[38;5;124m\"\u001b[39m\u001b[38;5;124mdischarge_patient\u001b[39m\u001b[38;5;124m\"\u001b[39m, END)\n\u001b[1;32m---> 32\u001b[0m \u001b[43mworkflow\u001b[49m\u001b[38;5;241;43m.\u001b[39;49m\u001b[43madd_edge\u001b[49m\u001b[43m(\u001b[49m\u001b[43mtools\u001b[49m\u001b[43m,\u001b[49m\u001b[43m \u001b[49m\u001b[38;5;124;43m\"\u001b[39;49m\u001b[38;5;124;43madmin_assistant\u001b[39;49m\u001b[38;5;124;43m\"\u001b[39;49m\u001b[43m)\u001b[49m\n\u001b[0;32m     35\u001b[0m \u001b[38;5;66;03m# Compile the graph\u001b[39;00m\n\u001b[0;32m     36\u001b[0m workflows_app \u001b[38;5;241m=\u001b[39m workflow\u001b[38;5;241m.\u001b[39mcompile()\n",
      "File \u001b[1;32m~\\AppData\\Local\\Packages\\PythonSoftwareFoundation.Python.3.12_qbz5n2kfra8p0\\LocalCache\\local-packages\\Python312\\site-packages\\langgraph\\graph\\state.py:454\u001b[0m, in \u001b[0;36mStateGraph.add_edge\u001b[1;34m(self, start_key, end_key)\u001b[0m\n\u001b[0;32m    452\u001b[0m     \u001b[38;5;28;01mif\u001b[39;00m start \u001b[38;5;241m==\u001b[39m END:\n\u001b[0;32m    453\u001b[0m         \u001b[38;5;28;01mraise\u001b[39;00m \u001b[38;5;167;01mValueError\u001b[39;00m(\u001b[38;5;124m\"\u001b[39m\u001b[38;5;124mEND cannot be a start node\u001b[39m\u001b[38;5;124m\"\u001b[39m)\n\u001b[1;32m--> 454\u001b[0m     \u001b[38;5;28;01mif\u001b[39;00m \u001b[43mstart\u001b[49m\u001b[43m \u001b[49m\u001b[38;5;129;43;01mnot\u001b[39;49;00m\u001b[43m \u001b[49m\u001b[38;5;129;43;01min\u001b[39;49;00m\u001b[43m \u001b[49m\u001b[38;5;28;43mself\u001b[39;49m\u001b[38;5;241;43m.\u001b[39;49m\u001b[43mnodes\u001b[49m:\n\u001b[0;32m    455\u001b[0m         \u001b[38;5;28;01mraise\u001b[39;00m \u001b[38;5;167;01mValueError\u001b[39;00m(\u001b[38;5;124mf\u001b[39m\u001b[38;5;124m\"\u001b[39m\u001b[38;5;124mNeed to add_node `\u001b[39m\u001b[38;5;132;01m{\u001b[39;00mstart\u001b[38;5;132;01m}\u001b[39;00m\u001b[38;5;124m` first\u001b[39m\u001b[38;5;124m\"\u001b[39m)\n\u001b[0;32m    456\u001b[0m \u001b[38;5;28;01mif\u001b[39;00m end_key \u001b[38;5;241m==\u001b[39m START:\n",
      "\u001b[1;31mTypeError\u001b[0m: unhashable type: 'Tool'"
     ]
    }
   ],
   "source": [
    "from langgraph.prebuilt import ToolNode\n",
    "from langchain.tools import Tool\n",
    "\n",
    "tools = [discharge_patient, get_patient_info]\n",
    "# tools = [\n",
    "#     Tool(\n",
    "#         name=\"discharge_patient\",\n",
    "#         func=discharge_patient,\n",
    "#         description=\"Discharge a patient from the hospital given their patient ID\"\n",
    "#     ),\n",
    "#     Tool(\n",
    "#         name=\"get_patient_info\",\n",
    "#         func=get_patient_info,\n",
    "#         description=\"Retrieve patient information given their patient ID\"\n",
    "#     )\n",
    "# ]\n",
    "\n",
    "print (\"tools_list\", tools_list)\n",
    "\n",
    "workflow = StateGraph(MessagesState)\n",
    "# Add the initial system message node\n",
    "workflow.add_node(\"admin_assistant\", admin_assistant)\n",
    "# workflow.add_node(\"tools\", ToolNode(tools_list))\n",
    "workflow.add_node(\"tools\", ToolNode(tools))\n",
    "\n",
    "\n",
    "# Set the entry point\n",
    "# workflow.set_entry_point(\"admin_assistant\")\n",
    "workflow.add_edge(START, \"admin_assistant\")\n",
    "workflow.add_conditional_edges(\"admin_assistant\", tools_condition)\n",
    "workflow.add_edge(\"discharge_patient\", END)\n",
    "workflow.add_edge(tools, \"admin_assistant\")\n",
    "\n",
    "\n",
    "# Compile the graph\n",
    "workflows_app = workflow.compile()\n",
    "\n",
    "display(Image(workflows_app.get_graph().draw_mermaid_png()))"
   ]
  },
  {
   "cell_type": "code",
   "execution_count": 51,
   "id": "cbd6d33a",
   "metadata": {},
   "outputs": [
    {
     "ename": "InvalidUpdateError",
     "evalue": "Expected dict, got [{'role': 'system', 'content': 'You are a helpful assistant. Either answer a question or invoke the following tools:discharge_patient(patient_id)get_patient_status(patient_id)'}, {'role': 'user', 'content': \"What's the largest limb in the body?\"}]\nFor troubleshooting, visit: https://python.langchain.com/docs/troubleshooting/errors/INVALID_GRAPH_NODE_RETURN_VALUE",
     "output_type": "error",
     "traceback": [
      "\u001b[1;31m---------------------------------------------------------------------------\u001b[0m",
      "\u001b[1;31mInvalidUpdateError\u001b[0m                        Traceback (most recent call last)",
      "Cell \u001b[1;32mIn[51], line 12\u001b[0m\n\u001b[0;32m      2\u001b[0m user_input \u001b[38;5;241m=\u001b[39m \u001b[38;5;124m\"\u001b[39m\u001b[38;5;124mWhat\u001b[39m\u001b[38;5;124m'\u001b[39m\u001b[38;5;124ms the largest limb in the body?\u001b[39m\u001b[38;5;124m\"\u001b[39m\n\u001b[0;32m      3\u001b[0m messages \u001b[38;5;241m=\u001b[39m [\n\u001b[0;32m      4\u001b[0m     \u001b[38;5;66;03m# System message defines the AI's role and available tools\u001b[39;00m\n\u001b[0;32m      5\u001b[0m     {\u001b[38;5;124m\"\u001b[39m\u001b[38;5;124mrole\u001b[39m\u001b[38;5;124m\"\u001b[39m: \u001b[38;5;124m\"\u001b[39m\u001b[38;5;124msystem\u001b[39m\u001b[38;5;124m\"\u001b[39m, \u001b[38;5;124m\"\u001b[39m\u001b[38;5;124mcontent\u001b[39m\u001b[38;5;124m\"\u001b[39m: \u001b[38;5;124m\"\u001b[39m\u001b[38;5;124mYou are a helpful assistant. Either answer a question or invoke the following tools:\u001b[39m\u001b[38;5;124m\"\u001b[39m\\\n\u001b[1;32m   (...)\u001b[0m\n\u001b[0;32m     10\u001b[0m     {\u001b[38;5;124m\"\u001b[39m\u001b[38;5;124mrole\u001b[39m\u001b[38;5;124m\"\u001b[39m: \u001b[38;5;124m\"\u001b[39m\u001b[38;5;124muser\u001b[39m\u001b[38;5;124m\"\u001b[39m, \u001b[38;5;124m\"\u001b[39m\u001b[38;5;124mcontent\u001b[39m\u001b[38;5;124m\"\u001b[39m: user_input}\n\u001b[0;32m     11\u001b[0m ] \n\u001b[1;32m---> 12\u001b[0m \u001b[43mworkflows_app\u001b[49m\u001b[38;5;241;43m.\u001b[39;49m\u001b[43minvoke\u001b[49m\u001b[43m(\u001b[49m\u001b[43mmessages\u001b[49m\u001b[43m)\u001b[49m  \n",
      "File \u001b[1;32m~\\AppData\\Local\\Packages\\PythonSoftwareFoundation.Python.3.12_qbz5n2kfra8p0\\LocalCache\\local-packages\\Python312\\site-packages\\langgraph\\pregel\\__init__.py:2069\u001b[0m, in \u001b[0;36minvoke\u001b[1;34m(self, input, config, stream_mode, output_keys, interrupt_before, interrupt_after, debug, **kwargs)\u001b[0m\n\u001b[0;32m   2061\u001b[0m \u001b[38;5;66;03m# enable concurrent streaming\u001b[39;00m\n\u001b[0;32m   2062\u001b[0m \u001b[38;5;28;01mif\u001b[39;00m (\n\u001b[0;32m   2063\u001b[0m     \u001b[38;5;28mself\u001b[39m\u001b[38;5;241m.\u001b[39mstream_eager\n\u001b[0;32m   2064\u001b[0m     \u001b[38;5;129;01mor\u001b[39;00m subgraphs\n\u001b[0;32m   2065\u001b[0m     \u001b[38;5;129;01mor\u001b[39;00m \u001b[38;5;124m\"\u001b[39m\u001b[38;5;124mmessages\u001b[39m\u001b[38;5;124m\"\u001b[39m \u001b[38;5;129;01min\u001b[39;00m stream_modes\n\u001b[0;32m   2066\u001b[0m     \u001b[38;5;129;01mor\u001b[39;00m \u001b[38;5;124m\"\u001b[39m\u001b[38;5;124mcustom\u001b[39m\u001b[38;5;124m\"\u001b[39m \u001b[38;5;129;01min\u001b[39;00m stream_modes\n\u001b[0;32m   2067\u001b[0m ):\n\u001b[1;32m-> 2069\u001b[0m     \u001b[38;5;28;01mdef\u001b[39;00m\u001b[38;5;250m \u001b[39m\u001b[38;5;21mget_waiter\u001b[39m() \u001b[38;5;241m-\u001b[39m\u001b[38;5;241m>\u001b[39m asyncio\u001b[38;5;241m.\u001b[39mTask[\u001b[38;5;28;01mNone\u001b[39;00m]:\n\u001b[0;32m   2070\u001b[0m         \u001b[38;5;28;01mreturn\u001b[39;00m aioloop\u001b[38;5;241m.\u001b[39mcreate_task(stream\u001b[38;5;241m.\u001b[39mwait())\n\u001b[0;32m   2072\u001b[0m \u001b[38;5;28;01melse\u001b[39;00m:\n",
      "File \u001b[1;32m~\\AppData\\Local\\Packages\\PythonSoftwareFoundation.Python.3.12_qbz5n2kfra8p0\\LocalCache\\local-packages\\Python312\\site-packages\\langgraph\\pregel\\__init__.py:1724\u001b[0m, in \u001b[0;36mstream\u001b[1;34m(self, input, config, stream_mode, output_keys, interrupt_before, interrupt_after, debug, subgraphs)\u001b[0m\n\u001b[0;32m   1701\u001b[0m run_manager \u001b[38;5;241m=\u001b[39m callback_manager\u001b[38;5;241m.\u001b[39mon_chain_start(\n\u001b[0;32m   1702\u001b[0m     \u001b[38;5;28;01mNone\u001b[39;00m,\n\u001b[0;32m   1703\u001b[0m     \u001b[38;5;28minput\u001b[39m,\n\u001b[0;32m   1704\u001b[0m     name\u001b[38;5;241m=\u001b[39mconfig\u001b[38;5;241m.\u001b[39mget(\u001b[38;5;124m\"\u001b[39m\u001b[38;5;124mrun_name\u001b[39m\u001b[38;5;124m\"\u001b[39m, \u001b[38;5;28mself\u001b[39m\u001b[38;5;241m.\u001b[39mget_name()),\n\u001b[0;32m   1705\u001b[0m     run_id\u001b[38;5;241m=\u001b[39mconfig\u001b[38;5;241m.\u001b[39mget(\u001b[38;5;124m\"\u001b[39m\u001b[38;5;124mrun_id\u001b[39m\u001b[38;5;124m\"\u001b[39m),\n\u001b[0;32m   1706\u001b[0m )\n\u001b[0;32m   1707\u001b[0m \u001b[38;5;28;01mtry\u001b[39;00m:\n\u001b[0;32m   1708\u001b[0m     \u001b[38;5;66;03m# assign defaults\u001b[39;00m\n\u001b[0;32m   1709\u001b[0m     (\n\u001b[0;32m   1710\u001b[0m         debug,\n\u001b[0;32m   1711\u001b[0m         stream_modes,\n\u001b[0;32m   1712\u001b[0m         output_keys,\n\u001b[0;32m   1713\u001b[0m         interrupt_before_,\n\u001b[0;32m   1714\u001b[0m         interrupt_after_,\n\u001b[0;32m   1715\u001b[0m         checkpointer,\n\u001b[0;32m   1716\u001b[0m         store,\n\u001b[0;32m   1717\u001b[0m     ) \u001b[38;5;241m=\u001b[39m \u001b[38;5;28mself\u001b[39m\u001b[38;5;241m.\u001b[39m_defaults(\n\u001b[0;32m   1718\u001b[0m         config,\n\u001b[0;32m   1719\u001b[0m         stream_mode\u001b[38;5;241m=\u001b[39mstream_mode,\n\u001b[0;32m   1720\u001b[0m         output_keys\u001b[38;5;241m=\u001b[39moutput_keys,\n\u001b[0;32m   1721\u001b[0m         interrupt_before\u001b[38;5;241m=\u001b[39minterrupt_before,\n\u001b[0;32m   1722\u001b[0m         interrupt_after\u001b[38;5;241m=\u001b[39minterrupt_after,\n\u001b[0;32m   1723\u001b[0m         debug\u001b[38;5;241m=\u001b[39mdebug,\n\u001b[1;32m-> 1724\u001b[0m     )\n\u001b[0;32m   1725\u001b[0m     \u001b[38;5;66;03m# set up subgraph checkpointing\u001b[39;00m\n\u001b[0;32m   1726\u001b[0m     \u001b[38;5;28;01mif\u001b[39;00m \u001b[38;5;28mself\u001b[39m\u001b[38;5;241m.\u001b[39mcheckpointer \u001b[38;5;129;01mis\u001b[39;00m \u001b[38;5;28;01mTrue\u001b[39;00m:\n",
      "File \u001b[1;32m~\\AppData\\Local\\Packages\\PythonSoftwareFoundation.Python.3.12_qbz5n2kfra8p0\\LocalCache\\local-packages\\Python312\\site-packages\\langgraph\\pregel\\runner.py:230\u001b[0m, in \u001b[0;36mPregelRunner.tick\u001b[1;34m(self, tasks, reraise, timeout, retry_policy, get_waiter)\u001b[0m\n\u001b[0;32m    228\u001b[0m t \u001b[38;5;241m=\u001b[39m tasks[\u001b[38;5;241m0\u001b[39m]\n\u001b[0;32m    229\u001b[0m \u001b[38;5;28;01mtry\u001b[39;00m:\n\u001b[1;32m--> 230\u001b[0m     \u001b[43mrun_with_retry\u001b[49m\u001b[43m(\u001b[49m\n\u001b[0;32m    231\u001b[0m \u001b[43m        \u001b[49m\u001b[43mt\u001b[49m\u001b[43m,\u001b[49m\n\u001b[0;32m    232\u001b[0m \u001b[43m        \u001b[49m\u001b[43mretry_policy\u001b[49m\u001b[43m,\u001b[49m\n\u001b[0;32m    233\u001b[0m \u001b[43m        \u001b[49m\u001b[43mconfigurable\u001b[49m\u001b[38;5;241;43m=\u001b[39;49m\u001b[43m{\u001b[49m\n\u001b[0;32m    234\u001b[0m \u001b[43m            \u001b[49m\u001b[43mCONFIG_KEY_SEND\u001b[49m\u001b[43m:\u001b[49m\u001b[43m \u001b[49m\u001b[43mpartial\u001b[49m\u001b[43m(\u001b[49m\u001b[43mwriter\u001b[49m\u001b[43m,\u001b[49m\u001b[43m \u001b[49m\u001b[43mt\u001b[49m\u001b[43m)\u001b[49m\u001b[43m,\u001b[49m\n\u001b[0;32m    235\u001b[0m \u001b[43m            \u001b[49m\u001b[43mCONFIG_KEY_CALL\u001b[49m\u001b[43m:\u001b[49m\u001b[43m \u001b[49m\u001b[43mpartial\u001b[49m\u001b[43m(\u001b[49m\u001b[43mcall\u001b[49m\u001b[43m,\u001b[49m\u001b[43m \u001b[49m\u001b[43mt\u001b[49m\u001b[43m)\u001b[49m\u001b[43m,\u001b[49m\n\u001b[0;32m    236\u001b[0m \u001b[43m        \u001b[49m\u001b[43m}\u001b[49m\u001b[43m,\u001b[49m\n\u001b[0;32m    237\u001b[0m \u001b[43m    \u001b[49m\u001b[43m)\u001b[49m\n\u001b[0;32m    238\u001b[0m     \u001b[38;5;28mself\u001b[39m\u001b[38;5;241m.\u001b[39mcommit(t, \u001b[38;5;28;01mNone\u001b[39;00m)\n\u001b[0;32m    239\u001b[0m \u001b[38;5;28;01mexcept\u001b[39;00m \u001b[38;5;167;01mException\u001b[39;00m \u001b[38;5;28;01mas\u001b[39;00m exc:\n",
      "File \u001b[1;32m~\\AppData\\Local\\Packages\\PythonSoftwareFoundation.Python.3.12_qbz5n2kfra8p0\\LocalCache\\local-packages\\Python312\\site-packages\\langgraph\\pregel\\retry.py:40\u001b[0m, in \u001b[0;36mrun_with_retry\u001b[1;34m(task, retry_policy, configurable)\u001b[0m\n\u001b[0;32m     38\u001b[0m     task\u001b[38;5;241m.\u001b[39mwrites\u001b[38;5;241m.\u001b[39mclear()\n\u001b[0;32m     39\u001b[0m     \u001b[38;5;66;03m# run the task\u001b[39;00m\n\u001b[1;32m---> 40\u001b[0m     \u001b[38;5;28;01mreturn\u001b[39;00m \u001b[43mtask\u001b[49m\u001b[38;5;241;43m.\u001b[39;49m\u001b[43mproc\u001b[49m\u001b[38;5;241;43m.\u001b[39;49m\u001b[43minvoke\u001b[49m\u001b[43m(\u001b[49m\u001b[43mtask\u001b[49m\u001b[38;5;241;43m.\u001b[39;49m\u001b[43minput\u001b[49m\u001b[43m,\u001b[49m\u001b[43m \u001b[49m\u001b[43mconfig\u001b[49m\u001b[43m)\u001b[49m\n\u001b[0;32m     41\u001b[0m \u001b[38;5;28;01mexcept\u001b[39;00m ParentCommand \u001b[38;5;28;01mas\u001b[39;00m exc:\n\u001b[0;32m     42\u001b[0m     ns: \u001b[38;5;28mstr\u001b[39m \u001b[38;5;241m=\u001b[39m config[CONF][CONFIG_KEY_CHECKPOINT_NS]\n",
      "File \u001b[1;32m~\\AppData\\Local\\Packages\\PythonSoftwareFoundation.Python.3.12_qbz5n2kfra8p0\\LocalCache\\local-packages\\Python312\\site-packages\\langgraph\\utils\\runnable.py:506\u001b[0m, in \u001b[0;36minvoke\u001b[1;34m(self, input, config, **kwargs)\u001b[0m\n\u001b[0;32m    498\u001b[0m \u001b[38;5;28;01mdef\u001b[39;00m\u001b[38;5;250m \u001b[39m\u001b[38;5;21m__ror__\u001b[39m(\n\u001b[0;32m    499\u001b[0m     \u001b[38;5;28mself\u001b[39m,\n\u001b[0;32m    500\u001b[0m     other: Any,\n\u001b[0;32m    501\u001b[0m ) \u001b[38;5;241m-\u001b[39m\u001b[38;5;241m>\u001b[39m Runnable:\n\u001b[0;32m    502\u001b[0m     \u001b[38;5;28;01mif\u001b[39;00m \u001b[38;5;28misinstance\u001b[39m(other, RunnableSequence):\n\u001b[0;32m    503\u001b[0m         \u001b[38;5;28;01mreturn\u001b[39;00m RunnableSequence(\n\u001b[0;32m    504\u001b[0m             other\u001b[38;5;241m.\u001b[39mfirst,\n\u001b[0;32m    505\u001b[0m             \u001b[38;5;241m*\u001b[39mother\u001b[38;5;241m.\u001b[39mmiddle,\n\u001b[1;32m--> 506\u001b[0m             other\u001b[38;5;241m.\u001b[39mlast,\n\u001b[0;32m    507\u001b[0m             \u001b[38;5;241m*\u001b[39m\u001b[38;5;28mself\u001b[39m\u001b[38;5;241m.\u001b[39msteps,\n\u001b[0;32m    508\u001b[0m             name\u001b[38;5;241m=\u001b[39mother\u001b[38;5;241m.\u001b[39mname \u001b[38;5;129;01mor\u001b[39;00m \u001b[38;5;28mself\u001b[39m\u001b[38;5;241m.\u001b[39mname,\n\u001b[0;32m    509\u001b[0m         )\n\u001b[0;32m    510\u001b[0m     \u001b[38;5;28;01melif\u001b[39;00m \u001b[38;5;28misinstance\u001b[39m(other, RunnableSeq):\n\u001b[0;32m    511\u001b[0m         \u001b[38;5;28;01mreturn\u001b[39;00m RunnableSeq(\n\u001b[0;32m    512\u001b[0m             \u001b[38;5;241m*\u001b[39mother\u001b[38;5;241m.\u001b[39msteps,\n\u001b[0;32m    513\u001b[0m             \u001b[38;5;241m*\u001b[39m\u001b[38;5;28mself\u001b[39m\u001b[38;5;241m.\u001b[39msteps,\n\u001b[0;32m    514\u001b[0m             name\u001b[38;5;241m=\u001b[39mother\u001b[38;5;241m.\u001b[39mname \u001b[38;5;129;01mor\u001b[39;00m \u001b[38;5;28mself\u001b[39m\u001b[38;5;241m.\u001b[39mname,\n\u001b[0;32m    515\u001b[0m         )\n",
      "File \u001b[1;32m~\\AppData\\Local\\Packages\\PythonSoftwareFoundation.Python.3.12_qbz5n2kfra8p0\\LocalCache\\local-packages\\Python312\\site-packages\\langgraph\\utils\\runnable.py:262\u001b[0m, in \u001b[0;36minvoke\u001b[1;34m(self, input, config, **kwargs)\u001b[0m\n\u001b[0;32m    256\u001b[0m     \u001b[38;5;28;01mraise\u001b[39;00m \u001b[38;5;167;01mTypeError\u001b[39;00m(\n\u001b[0;32m    257\u001b[0m         \u001b[38;5;124mf\u001b[39m\u001b[38;5;124m'\u001b[39m\u001b[38;5;124mNo synchronous function provided to \u001b[39m\u001b[38;5;124m\"\u001b[39m\u001b[38;5;132;01m{\u001b[39;00m\u001b[38;5;28mself\u001b[39m\u001b[38;5;241m.\u001b[39mname\u001b[38;5;132;01m}\u001b[39;00m\u001b[38;5;124m\"\u001b[39m\u001b[38;5;124m.\u001b[39m\u001b[38;5;124m'\u001b[39m\n\u001b[0;32m    258\u001b[0m         \u001b[38;5;124m\"\u001b[39m\u001b[38;5;130;01m\\n\u001b[39;00m\u001b[38;5;124mEither initialize with a synchronous function or invoke\u001b[39m\u001b[38;5;124m\"\u001b[39m\n\u001b[0;32m    259\u001b[0m         \u001b[38;5;124m\"\u001b[39m\u001b[38;5;124m via the async API (ainvoke, astream, etc.)\u001b[39m\u001b[38;5;124m\"\u001b[39m\n\u001b[0;32m    260\u001b[0m     )\n\u001b[0;32m    261\u001b[0m \u001b[38;5;28;01mif\u001b[39;00m config \u001b[38;5;129;01mis\u001b[39;00m \u001b[38;5;28;01mNone\u001b[39;00m:\n\u001b[1;32m--> 262\u001b[0m     config \u001b[38;5;241m=\u001b[39m ensure_config()\n\u001b[0;32m    263\u001b[0m \u001b[38;5;28;01mif\u001b[39;00m \u001b[38;5;28mself\u001b[39m\u001b[38;5;241m.\u001b[39mexplode_args:\n\u001b[0;32m    264\u001b[0m     args, _kwargs \u001b[38;5;241m=\u001b[39m \u001b[38;5;28minput\u001b[39m\n",
      "File \u001b[1;32m~\\AppData\\Local\\Packages\\PythonSoftwareFoundation.Python.3.12_qbz5n2kfra8p0\\LocalCache\\local-packages\\Python312\\site-packages\\langgraph\\pregel\\write.py:96\u001b[0m, in \u001b[0;36mChannelWrite._write\u001b[1;34m(self, input, config)\u001b[0m\n\u001b[0;32m     87\u001b[0m \u001b[38;5;28;01mdef\u001b[39;00m\u001b[38;5;250m \u001b[39m\u001b[38;5;21m_write\u001b[39m(\u001b[38;5;28mself\u001b[39m, \u001b[38;5;28minput\u001b[39m: Any, config: RunnableConfig) \u001b[38;5;241m-\u001b[39m\u001b[38;5;241m>\u001b[39m \u001b[38;5;28;01mNone\u001b[39;00m:\n\u001b[0;32m     88\u001b[0m     writes \u001b[38;5;241m=\u001b[39m [\n\u001b[0;32m     89\u001b[0m         ChannelWriteEntry(write\u001b[38;5;241m.\u001b[39mchannel, \u001b[38;5;28minput\u001b[39m, write\u001b[38;5;241m.\u001b[39mskip_none, write\u001b[38;5;241m.\u001b[39mmapper)\n\u001b[0;32m     90\u001b[0m         \u001b[38;5;28;01mif\u001b[39;00m \u001b[38;5;28misinstance\u001b[39m(write, ChannelWriteEntry) \u001b[38;5;129;01mand\u001b[39;00m write\u001b[38;5;241m.\u001b[39mvalue \u001b[38;5;129;01mis\u001b[39;00m PASSTHROUGH\n\u001b[1;32m   (...)\u001b[0m\n\u001b[0;32m     94\u001b[0m         \u001b[38;5;28;01mfor\u001b[39;00m write \u001b[38;5;129;01min\u001b[39;00m \u001b[38;5;28mself\u001b[39m\u001b[38;5;241m.\u001b[39mwrites\n\u001b[0;32m     95\u001b[0m     ]\n\u001b[1;32m---> 96\u001b[0m     \u001b[38;5;28;43mself\u001b[39;49m\u001b[38;5;241;43m.\u001b[39;49m\u001b[43mdo_write\u001b[49m\u001b[43m(\u001b[49m\n\u001b[0;32m     97\u001b[0m \u001b[43m        \u001b[49m\u001b[43mconfig\u001b[49m\u001b[43m,\u001b[49m\n\u001b[0;32m     98\u001b[0m \u001b[43m        \u001b[49m\u001b[43mwrites\u001b[49m\u001b[43m,\u001b[49m\n\u001b[0;32m     99\u001b[0m \u001b[43m        \u001b[49m\u001b[38;5;28;43mself\u001b[39;49m\u001b[38;5;241;43m.\u001b[39;49m\u001b[43mrequire_at_least_one_of\u001b[49m\u001b[43m \u001b[49m\u001b[38;5;28;43;01mif\u001b[39;49;00m\u001b[43m \u001b[49m\u001b[38;5;28;43minput\u001b[39;49m\u001b[43m \u001b[49m\u001b[38;5;129;43;01mis\u001b[39;49;00m\u001b[43m \u001b[49m\u001b[38;5;129;43;01mnot\u001b[39;49;00m\u001b[43m \u001b[49m\u001b[38;5;28;43;01mNone\u001b[39;49;00m\u001b[43m \u001b[49m\u001b[38;5;28;43;01melse\u001b[39;49;00m\u001b[43m \u001b[49m\u001b[38;5;28;43;01mNone\u001b[39;49;00m\u001b[43m,\u001b[49m\n\u001b[0;32m    100\u001b[0m \u001b[43m    \u001b[49m\u001b[43m)\u001b[49m\n\u001b[0;32m    101\u001b[0m     \u001b[38;5;28;01mreturn\u001b[39;00m \u001b[38;5;28minput\u001b[39m\n",
      "File \u001b[1;32m~\\AppData\\Local\\Packages\\PythonSoftwareFoundation.Python.3.12_qbz5n2kfra8p0\\LocalCache\\local-packages\\Python312\\site-packages\\langgraph\\pregel\\write.py:143\u001b[0m, in \u001b[0;36mChannelWrite.do_write\u001b[1;34m(config, writes, require_at_least_one_of)\u001b[0m\n\u001b[0;32m    141\u001b[0m     tuples\u001b[38;5;241m.\u001b[39mappend((TASKS, w))\n\u001b[0;32m    142\u001b[0m \u001b[38;5;28;01melif\u001b[39;00m \u001b[38;5;28misinstance\u001b[39m(w, ChannelWriteTupleEntry):\n\u001b[1;32m--> 143\u001b[0m     \u001b[38;5;28;01mif\u001b[39;00m ww \u001b[38;5;241m:=\u001b[39m \u001b[43mw\u001b[49m\u001b[38;5;241;43m.\u001b[39;49m\u001b[43mmapper\u001b[49m\u001b[43m(\u001b[49m\u001b[43mw\u001b[49m\u001b[38;5;241;43m.\u001b[39;49m\u001b[43mvalue\u001b[49m\u001b[43m)\u001b[49m:\n\u001b[0;32m    144\u001b[0m         tuples\u001b[38;5;241m.\u001b[39mextend(ww)\n\u001b[0;32m    145\u001b[0m \u001b[38;5;28;01melif\u001b[39;00m \u001b[38;5;28misinstance\u001b[39m(w, ChannelWriteEntry):\n",
      "File \u001b[1;32m~\\AppData\\Local\\Packages\\PythonSoftwareFoundation.Python.3.12_qbz5n2kfra8p0\\LocalCache\\local-packages\\Python312\\site-packages\\langgraph\\graph\\state.py:704\u001b[0m, in \u001b[0;36mCompiledStateGraph.attach_node.<locals>._get_updates\u001b[1;34m(input)\u001b[0m\n\u001b[0;32m    700\u001b[0m     output_keys_ \u001b[38;5;241m=\u001b[39m [\n\u001b[0;32m    701\u001b[0m         k \u001b[38;5;28;01mfor\u001b[39;00m k \u001b[38;5;129;01min\u001b[39;00m output_keys \u001b[38;5;28;01mif\u001b[39;00m k \u001b[38;5;129;01min\u001b[39;00m \u001b[38;5;28minput\u001b[39m\u001b[38;5;241m.\u001b[39mmodel_fields_set\n\u001b[0;32m    702\u001b[0m     ]\n\u001b[0;32m    703\u001b[0m \u001b[38;5;66;03m# Pydantic v1\u001b[39;00m\n\u001b[1;32m--> 704\u001b[0m \u001b[38;5;28;01melif\u001b[39;00m \u001b[38;5;28mhasattr\u001b[39m(\u001b[38;5;28minput\u001b[39m, \u001b[38;5;124m\"\u001b[39m\u001b[38;5;124m__fields_set__\u001b[39m\u001b[38;5;124m\"\u001b[39m):\n\u001b[0;32m    705\u001b[0m     output_keys_ \u001b[38;5;241m=\u001b[39m [k \u001b[38;5;28;01mfor\u001b[39;00m k \u001b[38;5;129;01min\u001b[39;00m output_keys \u001b[38;5;28;01mif\u001b[39;00m k \u001b[38;5;129;01min\u001b[39;00m \u001b[38;5;28minput\u001b[39m\u001b[38;5;241m.\u001b[39m__fields_set__]\n\u001b[0;32m    707\u001b[0m \u001b[38;5;28;01mreturn\u001b[39;00m [\n\u001b[0;32m    708\u001b[0m     (k, \u001b[38;5;28mgetattr\u001b[39m(\u001b[38;5;28minput\u001b[39m, k))\n\u001b[0;32m    709\u001b[0m     \u001b[38;5;28;01mfor\u001b[39;00m k \u001b[38;5;129;01min\u001b[39;00m output_keys_\n\u001b[0;32m    710\u001b[0m     \u001b[38;5;28;01mif\u001b[39;00m \u001b[38;5;28mgetattr\u001b[39m(\u001b[38;5;28minput\u001b[39m, k, MISSING) \u001b[38;5;129;01mis\u001b[39;00m \u001b[38;5;129;01mnot\u001b[39;00m MISSING\n\u001b[0;32m    711\u001b[0m ]\n",
      "\u001b[1;31mInvalidUpdateError\u001b[0m: Expected dict, got [{'role': 'system', 'content': 'You are a helpful assistant. Either answer a question or invoke the following tools:discharge_patient(patient_id)get_patient_status(patient_id)'}, {'role': 'user', 'content': \"What's the largest limb in the body?\"}]\nFor troubleshooting, visit: https://python.langchain.com/docs/troubleshooting/errors/INVALID_GRAPH_NODE_RETURN_VALUE",
      "\u001b[0mDuring task with name '__start__' and id 'c82cb2f1-285a-cfed-a6e3-54b1bd1f68fd'"
     ]
    }
   ],
   "source": [
    "# user_input = \"I need help discharging a patient. Can you assist me with that process?\"\n",
    "user_input = \"What's the largest limb in the body?\"\n",
    "messages = [\n",
    "    # System message defines the AI's role and available tools\n",
    "    {\"role\": \"system\", \"content\": \"You are a helpful assistant. Either answer a question or invoke the following tools:\"\\\n",
    "          \"discharge_patient(patient_id)\"\\\n",
    "          \"get_patient_status(patient_id)\"\n",
    "    },\n",
    "    # Add the user's input to the conversation\n",
    "    {\"role\": \"user\", \"content\": user_input}\n",
    "] \n",
    "workflows_app.invoke(messages)  "
   ]
  },
  {
   "cell_type": "code",
   "execution_count": 52,
   "id": "4cb19cad",
   "metadata": {},
   "outputs": [
    {
     "data": {
      "text/plain": [
       "[{'role': 'system',\n",
       "  'content': 'You are a helpful assistant. Either answer a question or invoke the following tools:discharge_patient(patient_id)get_patient_status(patient_id)'},\n",
       " {'role': 'user', 'content': \"What's the largest limb in the body?\"}]"
      ]
     },
     "execution_count": 52,
     "metadata": {},
     "output_type": "execute_result"
    }
   ],
   "source": [
    "messages"
   ]
  },
  {
   "cell_type": "code",
   "execution_count": null,
   "id": "07c0f46c",
   "metadata": {},
   "outputs": [],
   "source": []
  }
 ],
 "metadata": {
  "kernelspec": {
   "display_name": "Python 3",
   "language": "python",
   "name": "python3"
  },
  "language_info": {
   "codemirror_mode": {
    "name": "ipython",
    "version": 3
   },
   "file_extension": ".py",
   "mimetype": "text/x-python",
   "name": "python",
   "nbconvert_exporter": "python",
   "pygments_lexer": "ipython3",
   "version": "3.12.9"
  }
 },
 "nbformat": 4,
 "nbformat_minor": 5
}

{
 "cells": [
  {
   "cell_type": "code",
   "execution_count": 26,
   "id": "5a09858d-44ee-4a42-b75d-61d703e8e8b9",
   "metadata": {},
   "outputs": [
    {
     "name": "stdout",
     "output_type": "stream",
     "text": [
      "Enter your question or request:\n"
     ]
    },
    {
     "name": "stdin",
     "output_type": "stream",
     "text": [
      " How is the patient 100001 doing?\n"
     ]
    },
    {
     "name": "stdout",
     "output_type": "stream",
     "text": [
      "You entered:  How is the patient 100001 doing?\n",
      "How is the patient 100001 doing?\n"
     ]
    }
   ],
   "source": [
    "# Import required libraries\n",
    "from openai import OpenAI\n",
    "import json\n",
    "from healthcare_tools import tools_list, discharge_patient, get_patient_status\n",
    "\n",
    "# Get user input\n",
    "print(\"Enter your question or request:\")\n",
    "user_input = input().strip()\n",
    "print(\"You entered: \", user_input)\n",
    "print(user_input)"
   ]
  },
  {
   "cell_type": "code",
   "execution_count": 28,
   "id": "a25f8e4a-4d33-4112-92d6-b23c802f4b99",
   "metadata": {},
   "outputs": [],
   "source": [
    "\n",
    "# Initialize OpenAI client\n",
    "client = OpenAI()\n",
    "\n",
    "# Set up the initial conversation messages\n",
    "messages = [\n",
    "    # System message defines the AI's role and available tools\n",
    "    {\"role\": \"system\", \"content\": \"You are a helpful assistant. Either answer a question or invoke the following tools:\"\\\n",
    "          \"discharge_patient(patient_id)\"\\\n",
    "          \"get_patient_status(patient_id)\"\n",
    "    },\n",
    "    # Add the user's input to the conversation\n",
    "    {\"role\": \"user\", \"content\": user_input}\n",
    "]\n",
    "\n",
    "# Make the initial API call to OpenAI\n",
    "response = client.chat.completions.create(\n",
    "    model=\"gpt-4o-mini\",\n",
    "    messages=messages,\n",
    "    tools=tools_list\n",
    ")\n"
   ]
  },
  {
   "cell_type": "code",
   "execution_count": 41,
   "id": "d5729bd8-a46b-402a-aeb3-dfc317754a27",
   "metadata": {},
   "outputs": [
    {
     "name": "stdout",
     "output_type": "stream",
     "text": [
      "tool_name: get_patient_status\n",
      "tool_arguments: {\"patient_id\":\"100001\"}\n",
      "tool_id: call_1mPJ00VhRL7UAPD391U3lPGe\n",
      "response_message: Patient details for 100001\n"
     ]
    }
   ],
   "source": [
    "try:\n",
    "    # Check if the assistant wants to use any tools\n",
    "    if response.choices[0].message.tool_calls:\n",
    "        # Extract tool call information. \n",
    "        tool = response.choices[0].message.tool_calls[0]\n",
    "        tool_name = tool.function.name\n",
    "        tool_arguments = tool.function.arguments\n",
    "        tool_id = tool.id\n",
    "\n",
    "        print (\"tool_name:\", tool_name)\n",
    "        print (\"tool_arguments:\", tool_arguments)\n",
    "        print (\"tool_id:\", tool_id)\n",
    "        # Add the assistant's response to the conversation history\n",
    "        messages.append(response.choices[0].message)\n",
    "        \n",
    "        # Parse the tool arguments and execute the appropriate function\n",
    "        data = json.loads(tool_arguments)\n",
    "        response_message = \"\"\n",
    "        if tool_name == 'discharge_patient':\n",
    "            patient_id = data['patient_id']\n",
    "            response_message = discharge_patient(patient_id)\n",
    "        elif tool_name == 'get_patient_status':\n",
    "            patient_id = data['patient_id']\n",
    "            response_message = get_patient_status(patient_id)\n",
    "    else:\n",
    "        # If no tools were called, print the direct response\n",
    "        print(response.choices[0].message.content)\n",
    "except Exception as e:\n",
    "    print(f\"An error occurred: {str(e)}\")\n",
    "print (\"response_message:\", response_message)"
   ]
  },
  {
   "cell_type": "code",
   "execution_count": 45,
   "id": "50a60c9b-5e4e-44e3-8eee-fefec8d477f9",
   "metadata": {},
   "outputs": [
    {
     "name": "stdout",
     "output_type": "stream",
     "text": [
      "messages: [{'role': 'system', 'content': 'You are a helpful assistant. Either answer a question or invoke the following tools:discharge_patient(patient_id)get_patient_status(patient_id)'}, {'role': 'user', 'content': 'How is the patient 100001 doing?'}, ChatCompletionMessage(content=None, refusal=None, role='assistant', audio=None, function_call=None, tool_calls=[ChatCompletionMessageToolCall(id='call_1mPJ00VhRL7UAPD391U3lPGe', function=Function(arguments='{\"patient_id\":\"100001\"}', name='get_patient_status'), type='function')]), ChatCompletionMessage(content=None, refusal=None, role='assistant', audio=None, function_call=None, tool_calls=[ChatCompletionMessageToolCall(id='call_1mPJ00VhRL7UAPD391U3lPGe', function=Function(arguments='{\"patient_id\":\"100001\"}', name='get_patient_status'), type='function')]), ChatCompletionMessage(content=None, refusal=None, role='assistant', audio=None, function_call=None, tool_calls=[ChatCompletionMessageToolCall(id='call_1mPJ00VhRL7UAPD391U3lPGe', function=Function(arguments='{\"patient_id\":\"100001\"}', name='get_patient_status'), type='function')]), ChatCompletionMessage(content=None, refusal=None, role='assistant', audio=None, function_call=None, tool_calls=[ChatCompletionMessageToolCall(id='call_1mPJ00VhRL7UAPD391U3lPGe', function=Function(arguments='{\"patient_id\":\"100001\"}', name='get_patient_status'), type='function')]), ChatCompletionMessage(content=None, refusal=None, role='assistant', audio=None, function_call=None, tool_calls=[ChatCompletionMessageToolCall(id='call_1mPJ00VhRL7UAPD391U3lPGe', function=Function(arguments='{\"patient_id\":\"100001\"}', name='get_patient_status'), type='function')]), {'role': 'tool', 'tool_call_id': 'call_1mPJ00VhRL7UAPD391U3lPGe', 'name': 'get_patient_status', 'content': 'Patient details for 100001'}, {'role': 'tool', 'tool_call_id': 'call_1mPJ00VhRL7UAPD391U3lPGe', 'name': 'get_patient_status', 'content': 'Patient details for 100001'}]\n",
      "An error occurred: Error code: 400 - {'error': {'message': \"An assistant message with 'tool_calls' must be followed by tool messages responding to each 'tool_call_id'. The following tool_call_ids did not have response messages: call_1mPJ00VhRL7UAPD391U3lPGe\", 'type': 'invalid_request_error', 'param': 'messages.[3].role', 'code': None}}\n"
     ]
    }
   ],
   "source": [
    "try:\n",
    "# Add the tool's response to the conversation\n",
    "        messages.append({\n",
    "            \"role\": \"tool\",\n",
    "            \"tool_call_id\": tool_id,\n",
    "            \"name\": tool_name,\n",
    "            \"content\": response_message,\n",
    "        })\n",
    "\n",
    "        print (\"messages:\", messages)\n",
    "        # Make a second API call to get the assistant's final response\n",
    "        second_response = client.chat.completions.create(\n",
    "            model=\"gpt-4o-mini\",\n",
    "            messages=messages,\n",
    "        )\n",
    "        print(\"Final response:\", second_response.choices[0].message.content)\n",
    "    \n",
    "\n",
    "# Error handling\n",
    "except Exception as e:\n",
    "    print(f\"An error occurred: {str(e)}\")\n"
   ]
  },
  {
   "cell_type": "code",
   "execution_count": null,
   "id": "3e038f6a-b5fd-43a2-b3a2-3b2a9ad7e85e",
   "metadata": {},
   "outputs": [],
   "source": []
  }
 ],
 "metadata": {
  "kernelspec": {
   "display_name": "Python 3 (ipykernel)",
   "language": "python",
   "name": "python3"
  },
  "language_info": {
   "codemirror_mode": {
    "name": "ipython",
    "version": 3
   },
   "file_extension": ".py",
   "mimetype": "text/x-python",
   "name": "python",
   "nbconvert_exporter": "python",
   "pygments_lexer": "ipython3",
   "version": "3.12.4"
  }
 },
 "nbformat": 4,
 "nbformat_minor": 5
}

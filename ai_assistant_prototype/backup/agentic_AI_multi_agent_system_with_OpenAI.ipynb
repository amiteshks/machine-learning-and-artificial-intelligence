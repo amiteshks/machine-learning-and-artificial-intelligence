{
 "cells": [
  {
   "cell_type": "markdown",
   "id": "8cb56576-3c03-4427-a8df-3eb7dfbf3797",
   "metadata": {},
   "source": [
    "# Agentic AI - Multi Agent System Demonstration Using Open AI with Tools\r\n",
    "\r\n",
    "## Project Description\r\n",
    "This project demonstrates how Agents could be used to manage an AI Assistant for Healthcare workers. It enables an **AI assistant** to handle healthcare-related tasks via a **command-line interface (CLI)**. The system processes user requests and invokes relevant healthcare functions dynamically.\r\n",
    "\r\n",
    "## Technical Stack\r\n",
    "- **Python** – Main programming language.\r\n",
    "- **OpenAI API** – Utilizes **GPT-4** for AI-powered decision-making.\r\n",
    "- **JSON** – Used for handling structured data.\r\n",
    "\r\n",
    "## System Flow\r\n",
    "1. **User inputs a question or request** via CLI.  \r\n",
    "2. **System processes the input** using **GPT-4**.  \r\n",
    "3. The AI assistant either:\r\n",
    "   - **Provides a direct response**, OR  \r\n",
    "   - **Calls an appropriate healthcare tool**.  \r\n",
    "4. If a **tool is invoked**:\r\n",
    "   - Executes the requested function (e.g., `discharge_patient`, `get_patient_status`).\r\n",
    "   - **Sends the result back** to the AI for further processing.\r\n",
    "5. **Final response is presented** to the user.\r\n",
    "\r\n",
    "## Error Handling\r\n",
    "- Implements **try-except blocks** for robust error management.  \r\n",
    "- Handles **API errors** (e.g., invalid responses from OpenAI).  \r\n",
    "- Manages **tool execution errors*h\r\n",
    "## Future Expansion\r\n",
    "This system serves as a **foundation**. With **enhanced security**, **more tools**, and **database integration**, it could evolve into a **full-scale healthcare automation system**.\r\n",
    "ealthcare management!** 🏥🤖\r\n"
   ]
  },
  {
   "cell_type": "markdown",
   "id": "4e7f2497-3d42-466a-8384-0ce91499d727",
   "metadata": {},
   "source": [
    "### 1. Import Required Libraries"
   ]
  },
  {
   "cell_type": "code",
   "execution_count": 40,
   "id": "0fd19fc4-225c-49e4-8843-5f7b05f19a33",
   "metadata": {},
   "outputs": [],
   "source": [
    "# Import required libraries\n",
    "from openai import OpenAI\n",
    "import json\n",
    "from healthcare_tools import tools_list, discharge_patient, get_patient_status"
   ]
  },
  {
   "cell_type": "markdown",
   "id": "5bc7743d-fc7b-4676-9ec9-7e46bdc0a383",
   "metadata": {},
   "source": [
    "### 2. Tools That could be used by our AI Agents\n",
    "Let's first define the tool_list. This has the functions we would use. This has 2 functions: discharge_patient and get_patient_status"
   ]
  },
  {
   "cell_type": "code",
   "execution_count": null,
   "id": "3afb5000-267d-4e38-9520-c269b929d375",
   "metadata": {},
   "outputs": [],
   "source": [
    "tools_list = [\n",
    "    {\n",
    "        \"type\": \"function\",\n",
    "        \"function\": {\n",
    "            \"name\": \"discharge_patient\",\n",
    "            \"description\": \"Discharge a Patient\",\n",
    "            \"parameters\": {\n",
    "                \"type\": \"object\",  # Explicitly defining the type as \"object\"\n",
    "                \"properties\": {  # Properties should be within this object\n",
    "                    \"patient_id\": {\n",
    "                        \"type\": \"string\",\n",
    "                        \"description\": \"Patient ID for the patient\"\n",
    "                    }\n",
    "                },\n",
    "                \"required\": [\"patient_id\"]  # Ensure \"patient_id\" is required\n",
    "            }\n",
    "        }\n",
    "    },\n",
    "    {\n",
    "        \"type\": \"function\",\n",
    "        \"function\": {\n",
    "            \"name\": \"get_patient_status\",\n",
    "            \"description\": \"Provide status of the patient\",\n",
    "            \"parameters\": {\n",
    "                \"type\": \"object\",  # Explicitly defining the type as \"object\"\n",
    "                \"properties\": {  # Properties should be within this object\n",
    "                    \"patient_id\": {\n",
    "                        \"type\": \"string\",\n",
    "                        \"description\": \"Patient ID for the patient\"\n",
    "                    }\n",
    "                },\n",
    "                \"required\": [\"patient_id\"]  # Ensure \"patient_id\" is required\n",
    "            }\n",
    "        }\n",
    "    }\n",
    "]\n",
    "\n",
    "\n",
    "def discharge_patient(patient_id):\n",
    "    print (\"Starting discharge_patient process \")\n",
    "    get_patient_discharge_status(patient_id)\n",
    "    process_billing_information(patient_id)\n",
    "    create_discharge_summary(patient_id)\n",
    "    print (\"Completed discharge_patient process \")\n",
    "    return f\"Discharge process completed for patient {patient_id}\"\n",
    "\n",
    "def get_patient_status(patient_id):\n",
    "    print (\"Starting get_patient_status \")\n",
    "    # In real code, this function woould be making an API or DB call to get patient infomration. For now it just print 5 to 1\n",
    "    for i in range (3, 0, -1):\n",
    "        print(i, \"...\")\n",
    "    print (\"Completed get_patient_status \")\n",
    "    return f\"Patient details for {patient_id}\"\n",
    "\n",
    "\n",
    "def get_patient_discharge_status(patient_id):\n",
    "    print (\"Starting get_patient_discharge_status \")\n",
    "    # In real code, this function woould be making an API or DB call to get patient infomration. For now it just print 5 to 1\n",
    "    for i in range (3, 0, -1):\n",
    "        print(i, \"...\")\n",
    "    print (\"Completed get_patient_discharge_status\" )\n",
    "    return f\"Discharge status for {patient_id}\"\n",
    "\n",
    "def process_billing_information(patient_id):\n",
    "    print (\"Starting process_billing_information \")\n",
    "    # In real code, this function woould be making an API or DB call to get patient infomration. For now it just print 5 to 1\n",
    "    for i in range (3, 0, -1):\n",
    "        print(i, \"...\")\n",
    "    print (\"Completed process_billing_information\" )\n",
    "    return f\"Billing information processed for {patient_id}\"\n",
    "\n",
    "def create_discharge_summary(patient_id):\n",
    "    print (\"Starting create_discharge_summary \")\n",
    "    # In real code, this function woould be making an API or DB call to get patient infomration. For now it just print 5 to 1\n",
    "    for i in range (5, 0, -1):\n",
    "        print(i, \"...\")\n",
    "    print (\"Completing create_discharge_summary\" )\n",
    "    return f\"Discharge summary created for {patient_id}\""
   ]
  },
  {
   "cell_type": "markdown",
   "id": "9800eca2-26fd-47a9-88cd-d8d1fe799132",
   "metadata": {},
   "source": [
    "### 3. Get user input"
   ]
  },
  {
   "cell_type": "code",
   "execution_count": 43,
   "id": "13de4a05-2f13-4aa5-9df7-440365db68d6",
   "metadata": {},
   "outputs": [
    {
     "name": "stdout",
     "output_type": "stream",
     "text": [
      "Enter your question or request:\n"
     ]
    },
    {
     "name": "stdin",
     "output_type": "stream",
     "text": [
      " Start discharge process for patient 100001\n"
     ]
    },
    {
     "name": "stdout",
     "output_type": "stream",
     "text": [
      "You entered:  Start discharge process for patient 100001\n"
     ]
    }
   ],
   "source": [
    "# Get user input\n",
    "print(\"Enter your question or request:\")\n",
    "user_input = input().strip()\n",
    "print(\"You entered: \", user_input)"
   ]
  },
  {
   "cell_type": "markdown",
   "id": "ee13a6be-62db-44d8-86fa-8f85457e7ac5",
   "metadata": {},
   "source": [
    "### 4. OpenAI Chatbot with Function Calling\n",
    "Initialize the **OpenAI client**, set up the conversation with a system prompt, and processes user input to either **answer a question** or **invoke predefined tools**.\n"
   ]
  },
  {
   "cell_type": "code",
   "execution_count": 45,
   "id": "a5090ba9-5b5d-42b8-af8d-870bb79b210a",
   "metadata": {},
   "outputs": [],
   "source": [
    "# Initialize OpenAI client\n",
    "client = OpenAI()\n",
    "\n",
    "# Set up the initial conversation messages\n",
    "messages = [\n",
    "    # System message defines the AI's role and available tools\n",
    "    {\"role\": \"system\", \"content\": \"You are a helpful assistant. Either answer a question or invoke the following tools:\"\\\n",
    "          \"discharge_patient(patient_id)\"\\\n",
    "          \"get_patient_status(patient_id)\"\n",
    "    },\n",
    "    # Add the user's input to the conversation\n",
    "    {\"role\": \"user\", \"content\": user_input}\n",
    "]\n",
    "\n",
    "# Make the initial API call to OpenAI\n",
    "response = client.chat.completions.create(\n",
    "    model=\"gpt-4o-mini\",\n",
    "    messages=messages,\n",
    "    tools=tools_list\n",
    ")"
   ]
  },
  {
   "cell_type": "code",
   "execution_count": 47,
   "id": "a30f9ae3-0006-444f-b3f8-f9a4ccff45ba",
   "metadata": {},
   "outputs": [
    {
     "data": {
      "text/plain": [
       "ChatCompletion(id='chatcmpl-B15DXqFAWh4VpVSfoRnUqJ2VuBRDo', choices=[Choice(finish_reason='tool_calls', index=0, logprobs=None, message=ChatCompletionMessage(content=None, refusal=None, role='assistant', audio=None, function_call=None, tool_calls=[ChatCompletionMessageToolCall(id='call_JXBUD5bomNGLkCu405wiMoGm', function=Function(arguments='{\"patient_id\":\"100001\"}', name='discharge_patient'), type='function')]))], created=1739598083, model='gpt-4o-mini-2024-07-18', object='chat.completion', service_tier='default', system_fingerprint='fp_13eed4fce1', usage=CompletionUsage(completion_tokens=18, prompt_tokens=114, total_tokens=132, completion_tokens_details=CompletionTokensDetails(accepted_prediction_tokens=0, audio_tokens=0, reasoning_tokens=0, rejected_prediction_tokens=0), prompt_tokens_details=PromptTokensDetails(audio_tokens=0, cached_tokens=0)))"
      ]
     },
     "execution_count": 47,
     "metadata": {},
     "output_type": "execute_result"
    }
   ],
   "source": [
    "response"
   ]
  },
  {
   "cell_type": "markdown",
   "id": "cb3a1d94-9625-41d3-958a-22243fb23116",
   "metadata": {},
   "source": [
    "### 5. Handling OpenAI Tool Calls with Error Handling\n",
    "Let's processes OpenAI's response and see if a tool call needs to be made.\r\n",
    "If yes, call the corresponding **tools function**, and **maks a second API call**l\n",
    "\n",
    "\r\n"
   ]
  },
  {
   "cell_type": "code",
   "execution_count": 50,
   "id": "7128f6c6-8bcc-48d2-9655-fc5f7887fe21",
   "metadata": {},
   "outputs": [
    {
     "name": "stdout",
     "output_type": "stream",
     "text": [
      "Starting discharge_patient process \n",
      "Starting get_patient_discharge_status \n",
      "3 ...\n",
      "2 ...\n",
      "1 ...\n",
      "Completed get_patient_discharge_status\n",
      "Starting process_billing_information \n",
      "3 ...\n",
      "2 ...\n",
      "1 ...\n",
      "Completed process_billing_information\n",
      "Starting create_discharge_summary \n",
      "5 ...\n",
      "4 ...\n",
      "3 ...\n",
      "2 ...\n",
      "1 ...\n",
      "Completing create_discharge_summary\n",
      "Completed discharge_patient process \n",
      "Final response: The discharge process for patient 100001 has been completed successfully.\n"
     ]
    }
   ],
   "source": [
    "\n",
    "try:\n",
    "    # Check if the assistant wants to use any tools\n",
    "    if response.choices[0].message.tool_calls:\n",
    "        # Extract tool call information. \n",
    "        tool = response.choices[0].message.tool_calls[0]\n",
    "        tool_name = tool.function.name\n",
    "        tool_arguments = tool.function.arguments\n",
    "        tool_id = tool.id\n",
    "        \n",
    "        # Add the assistant's response to the conversation history\n",
    "        messages.append(response.choices[0].message)\n",
    "        \n",
    "        # Parse the tool arguments and execute the appropriate function\n",
    "        data = json.loads(tool_arguments)\n",
    "        response_message = \"\"\n",
    "        if tool_name == 'discharge_patient':\n",
    "            patient_id = data['patient_id']\n",
    "            response_message = discharge_patient(patient_id)\n",
    "        elif tool_name == 'get_patient_status':\n",
    "            patient_id = data['patient_id']\n",
    "            response_message = get_patient_status(patient_id)\n",
    "\n",
    "        # Add the tool's response to the conversation\n",
    "        messages.append({\n",
    "            \"role\": \"tool\",\n",
    "            \"tool_call_id\": tool_id,\n",
    "            \"name\": tool_name,\n",
    "            \"content\": response_message,\n",
    "        })\n",
    "\n",
    "        # Make a second API call to get the assistant's final response\n",
    "        second_response = client.chat.completions.create(\n",
    "            model=\"gpt-4o-mini\",\n",
    "            messages=messages,\n",
    "        )\n",
    "        print(\"Final response:\", second_response.choices[0].message.content)\n",
    "    else:\n",
    "        # If no tools were called, print the direct response\n",
    "        print(response.choices[0].message.content)\n",
    "\n",
    "# Error handling\n",
    "except Exception as e:\n",
    "    print(f\"An error occurred: {str(e)}\")"
   ]
  },
  {
   "cell_type": "code",
   "execution_count": null,
   "id": "2a28b3c5-87bb-4594-b5dc-f837d98e5f89",
   "metadata": {},
   "outputs": [],
   "source": []
  }
 ],
 "metadata": {
  "kernelspec": {
   "display_name": "Python 3 (ipykernel)",
   "language": "python",
   "name": "python3"
  },
  "language_info": {
   "codemirror_mode": {
    "name": "ipython",
    "version": 3
   },
   "file_extension": ".py",
   "mimetype": "text/x-python",
   "name": "python",
   "nbconvert_exporter": "python",
   "pygments_lexer": "ipython3",
   "version": "3.12.4"
  }
 },
 "nbformat": 4,
 "nbformat_minor": 5
}

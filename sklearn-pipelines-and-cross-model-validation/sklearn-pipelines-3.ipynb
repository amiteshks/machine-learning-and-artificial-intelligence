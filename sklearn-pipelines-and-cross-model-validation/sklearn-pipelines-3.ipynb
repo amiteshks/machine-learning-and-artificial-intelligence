{
 "cells": [
  {
   "cell_type": "markdown",
   "metadata": {
    "deletable": false,
    "editable": false,
    "nbgrader": {
     "cell_type": "markdown",
     "checksum": "6623ede6abe82ab3ff1a49461f462572",
     "grade": false,
     "grade_id": "cell-3042a1db8cbad898",
     "locked": true,
     "schema_version": 3,
     "solution": false
    }
   },
   "source": [
    "### Scikit-Learn Pipelines\n"
   ]
  },
  {
   "cell_type": "code",
   "execution_count": 1,
   "metadata": {},
   "outputs": [],
   "source": [
    "import numpy as np\n",
    "import pandas as pd\n",
    "import warnings\n",
    "from sklearn.pipeline import Pipeline, make_pipeline\n",
    "from sklearn.linear_model import LinearRegression\n",
    "from sklearn.preprocessing import PolynomialFeatures\n",
    "from sklearn.metrics import mean_squared_error\n",
    "warnings.filterwarnings(\"ignore\")"
   ]
  },
  {
   "cell_type": "markdown",
   "metadata": {
    "deletable": false,
    "editable": false,
    "nbgrader": {
     "cell_type": "markdown",
     "checksum": "d9516c702116cd4f57983c30dd1685c8",
     "grade": false,
     "grade_id": "cell-a7dd87f8a41867aa",
     "locked": true,
     "schema_version": 3,
     "solution": false
    }
   },
   "source": [
    "### The Data\n",
    "\n",
    "The data will again be the automobile dataset.  "
   ]
  },
  {
   "cell_type": "code",
   "execution_count": 2,
   "metadata": {},
   "outputs": [],
   "source": [
    "auto = pd.read_csv('data/auto.csv')"
   ]
  },
  {
   "cell_type": "code",
   "execution_count": 3,
   "metadata": {},
   "outputs": [
    {
     "data": {
      "text/html": [
       "<div>\n",
       "<style scoped>\n",
       "    .dataframe tbody tr th:only-of-type {\n",
       "        vertical-align: middle;\n",
       "    }\n",
       "\n",
       "    .dataframe tbody tr th {\n",
       "        vertical-align: top;\n",
       "    }\n",
       "\n",
       "    .dataframe thead th {\n",
       "        text-align: right;\n",
       "    }\n",
       "</style>\n",
       "<table border=\"1\" class=\"dataframe\">\n",
       "  <thead>\n",
       "    <tr style=\"text-align: right;\">\n",
       "      <th></th>\n",
       "      <th>mpg</th>\n",
       "      <th>cylinders</th>\n",
       "      <th>displacement</th>\n",
       "      <th>horsepower</th>\n",
       "      <th>weight</th>\n",
       "      <th>acceleration</th>\n",
       "      <th>year</th>\n",
       "      <th>origin</th>\n",
       "      <th>name</th>\n",
       "    </tr>\n",
       "  </thead>\n",
       "  <tbody>\n",
       "    <tr>\n",
       "      <th>0</th>\n",
       "      <td>18.0</td>\n",
       "      <td>8</td>\n",
       "      <td>307.0</td>\n",
       "      <td>130.0</td>\n",
       "      <td>3504</td>\n",
       "      <td>12.0</td>\n",
       "      <td>70</td>\n",
       "      <td>1</td>\n",
       "      <td>chevrolet chevelle malibu</td>\n",
       "    </tr>\n",
       "    <tr>\n",
       "      <th>1</th>\n",
       "      <td>15.0</td>\n",
       "      <td>8</td>\n",
       "      <td>350.0</td>\n",
       "      <td>165.0</td>\n",
       "      <td>3693</td>\n",
       "      <td>11.5</td>\n",
       "      <td>70</td>\n",
       "      <td>1</td>\n",
       "      <td>buick skylark 320</td>\n",
       "    </tr>\n",
       "    <tr>\n",
       "      <th>2</th>\n",
       "      <td>18.0</td>\n",
       "      <td>8</td>\n",
       "      <td>318.0</td>\n",
       "      <td>150.0</td>\n",
       "      <td>3436</td>\n",
       "      <td>11.0</td>\n",
       "      <td>70</td>\n",
       "      <td>1</td>\n",
       "      <td>plymouth satellite</td>\n",
       "    </tr>\n",
       "    <tr>\n",
       "      <th>3</th>\n",
       "      <td>16.0</td>\n",
       "      <td>8</td>\n",
       "      <td>304.0</td>\n",
       "      <td>150.0</td>\n",
       "      <td>3433</td>\n",
       "      <td>12.0</td>\n",
       "      <td>70</td>\n",
       "      <td>1</td>\n",
       "      <td>amc rebel sst</td>\n",
       "    </tr>\n",
       "    <tr>\n",
       "      <th>4</th>\n",
       "      <td>17.0</td>\n",
       "      <td>8</td>\n",
       "      <td>302.0</td>\n",
       "      <td>140.0</td>\n",
       "      <td>3449</td>\n",
       "      <td>10.5</td>\n",
       "      <td>70</td>\n",
       "      <td>1</td>\n",
       "      <td>ford torino</td>\n",
       "    </tr>\n",
       "  </tbody>\n",
       "</table>\n",
       "</div>"
      ],
      "text/plain": [
       "    mpg  cylinders  displacement  horsepower  weight  acceleration  year  \\\n",
       "0  18.0          8         307.0       130.0    3504          12.0    70   \n",
       "1  15.0          8         350.0       165.0    3693          11.5    70   \n",
       "2  18.0          8         318.0       150.0    3436          11.0    70   \n",
       "3  16.0          8         304.0       150.0    3433          12.0    70   \n",
       "4  17.0          8         302.0       140.0    3449          10.5    70   \n",
       "\n",
       "   origin                       name  \n",
       "0       1  chevrolet chevelle malibu  \n",
       "1       1          buick skylark 320  \n",
       "2       1         plymouth satellite  \n",
       "3       1              amc rebel sst  \n",
       "4       1                ford torino  "
      ]
     },
     "execution_count": 3,
     "metadata": {},
     "output_type": "execute_result"
    }
   ],
   "source": [
    "auto.head()"
   ]
  },
  {
   "cell_type": "markdown",
   "metadata": {
    "deletable": false,
    "editable": false,
    "nbgrader": {
     "cell_type": "markdown",
     "checksum": "e21c4d59bf56f9e0961e6cb634414db8",
     "grade": false,
     "grade_id": "cell-a087e170995820d9",
     "locked": true,
     "schema_version": 3,
     "solution": false
    }
   },
   "source": [
    "\n",
    "### Creating a `Pipeline`\n"
   ]
  },
  {
   "cell_type": "code",
   "execution_count": 4,
   "metadata": {
    "deletable": false,
    "nbgrader": {
     "cell_type": "code",
     "checksum": "f23bb353d212fc83b09d8c7871ddcf0a",
     "grade": false,
     "grade_id": "cell-45545d7d4b3d6d06",
     "locked": false,
     "schema_version": 3,
     "solution": true
    }
   },
   "outputs": [
    {
     "name": "stdout",
     "output_type": "stream",
     "text": [
      "<class 'sklearn.pipeline.Pipeline'>\n",
      "{'quad_features': PolynomialFeatures(), 'quad_model': LinearRegression()}\n"
     ]
    }
   ],
   "source": [
    "\n",
    "pipe = Pipeline([('quad_features', PolynomialFeatures(degree=2) ),\n",
    "                 ('quad_model', LinearRegression())])\n",
    "\n",
    "print(type(pipe))\n",
    "print(pipe.named_steps)"
   ]
  },
  {
   "cell_type": "markdown",
   "metadata": {
    "deletable": false,
    "editable": false,
    "nbgrader": {
     "cell_type": "markdown",
     "checksum": "47ae819e5715d2a9239e5a0b4f224bdd",
     "grade": false,
     "grade_id": "cell-f3aa1be4bb696b4b",
     "locked": true,
     "schema_version": 3,
     "solution": false
    }
   },
   "source": [
    "### Fitting the Pipeline"
   ]
  },
  {
   "cell_type": "code",
   "execution_count": 5,
   "metadata": {
    "deletable": false,
    "nbgrader": {
     "cell_type": "code",
     "checksum": "d6299e078eaa2bebbeddbb685d5d73aa",
     "grade": false,
     "grade_id": "cell-31e25347b1f2f523",
     "locked": false,
     "schema_version": 3,
     "solution": true
    }
   },
   "outputs": [
    {
     "name": "stdout",
     "output_type": "stream",
     "text": [
      "<class 'float'>\n",
      "18.98476890761722\n"
     ]
    }
   ],
   "source": [
    "X = auto[['horsepower']]\n",
    "y = auto['mpg']\n",
    "\n",
    "\n",
    "quad_pipe_mse = float(mean_squared_error(pipe.fit(X, y).predict(X), y))\n",
    "\n",
    "print(type(quad_pipe_mse))\n",
    "print(quad_pipe_mse)"
   ]
  },
  {
   "cell_type": "markdown",
   "metadata": {
    "deletable": false,
    "editable": false,
    "nbgrader": {
     "cell_type": "markdown",
     "checksum": "5315d66f981ec26dcc208cd483185938",
     "grade": false,
     "grade_id": "cell-d78d567d95b826be",
     "locked": true,
     "schema_version": 3,
     "solution": false
    }
   },
   "source": [
    "\n",
    "### Examining the Coefficients"
   ]
  },
  {
   "cell_type": "code",
   "execution_count": 6,
   "metadata": {
    "deletable": false,
    "nbgrader": {
     "cell_type": "code",
     "checksum": "d9b0630500bcd9f9b8e29d7fe9be4602",
     "grade": false,
     "grade_id": "cell-807f8b5ae5f29a14",
     "locked": false,
     "schema_version": 3,
     "solution": true
    }
   },
   "outputs": [
    {
     "name": "stdout",
     "output_type": "stream",
     "text": [
      "<class 'sklearn.linear_model._base.LinearRegression'>\n",
      "[ 0.         -0.46618963  0.00123054]\n"
     ]
    }
   ],
   "source": [
    "quad_reg = pipe.named_steps['quad_model'] #regressor from pipeline\n",
    "coefs = quad_reg.coef_ #coefficients of regressor\n",
    "\n",
    "print(type(quad_reg))\n",
    "print(coefs)"
   ]
  },
  {
   "cell_type": "markdown",
   "metadata": {
    "deletable": false,
    "editable": false,
    "nbgrader": {
     "cell_type": "markdown",
     "checksum": "4b32000913e84959fd6c694375a9fcac",
     "grade": false,
     "grade_id": "cell-19f7d1acd5fc1409",
     "locked": true,
     "schema_version": 3,
     "solution": false
    }
   },
   "source": [
    "### Considering the Bias "
   ]
  },
  {
   "cell_type": "code",
   "execution_count": 7,
   "metadata": {
    "deletable": false,
    "nbgrader": {
     "cell_type": "code",
     "checksum": "cb876c75227092f96660e92ce086c72c",
     "grade": false,
     "grade_id": "cell-6a37caec775bf924",
     "locked": false,
     "schema_version": 3,
     "solution": true
    }
   },
   "outputs": [
    {
     "name": "stdout",
     "output_type": "stream",
     "text": [
      "<class 'sklearn.pipeline.Pipeline'>\n",
      "18.984768907617216\n"
     ]
    }
   ],
   "source": [
    "pipe_no_bias = Pipeline([('quad_features', PolynomialFeatures(degree=2, include_bias=False)),\n",
    "                         ('quad_model', LinearRegression())]) #pipeline with no bias in transformer\n",
    "\n",
    "X = auto[['horsepower']]\n",
    "y = auto['mpg']\n",
    "\n",
    "no_bias_mse = mean_squared_error(y, pipe_no_bias.fit(X,y).predict(X)) #mean squared error of new model\n",
    "\n",
    "print(type(pipe_no_bias))\n",
    "print(no_bias_mse)"
   ]
  },
  {
   "cell_type": "markdown",
   "metadata": {
    "deletable": false,
    "editable": false,
    "nbgrader": {
     "cell_type": "markdown",
     "checksum": "43e5cc3651fe7a8570d9c419b23b0513",
     "grade": false,
     "grade_id": "cell-febbe9eb5dc8fd00",
     "locked": true,
     "schema_version": 3,
     "solution": false
    }
   },
   "source": [
    "### Building a Cubic Model with `Pipeline`"
   ]
  },
  {
   "cell_type": "code",
   "execution_count": 8,
   "metadata": {
    "deletable": false,
    "nbgrader": {
     "cell_type": "code",
     "checksum": "6dc4f21b83f566541ea3b25e64c47234",
     "grade": false,
     "grade_id": "cell-b8510ea1501a3e15",
     "locked": false,
     "schema_version": 3,
     "solution": true
    }
   },
   "outputs": [
    {
     "name": "stdout",
     "output_type": "stream",
     "text": [
      "<class 'sklearn.pipeline.Pipeline'>\n"
     ]
    }
   ],
   "source": [
    "\n",
    "cubic_pipe = Pipeline([('quad_features', PolynomialFeatures(3, include_bias=False)), \n",
    "                       ('quad_model', LinearRegression())]) #pipeline with no bias in 3rd degree transformer\n",
    "X = auto[['horsepower']]\n",
    "y = auto['mpg']\n",
    "cubic_mse = mean_squared_error(y, cubic_pipe.fit(X,y).predict(X)) #mean squared error of new model\n",
    "\n",
    "print(type(cubic_pipe))\n"
   ]
  },
  {
   "cell_type": "markdown",
   "metadata": {
    "deletable": false,
    "editable": false,
    "nbgrader": {
     "cell_type": "markdown",
     "checksum": "32a42744ca5d27789f73c7f49dade3d5",
     "grade": false,
     "grade_id": "cell-4cccb0191c2980c8",
     "locked": true,
     "schema_version": 3,
     "solution": false
    }
   },
   "source": [
    "### Making Predictions on New Data\n"
   ]
  },
  {
   "cell_type": "code",
   "execution_count": 9,
   "metadata": {
    "deletable": false,
    "nbgrader": {
     "cell_type": "code",
     "checksum": "9abac854ea10495841ca03e4ad2f0f17",
     "grade": false,
     "grade_id": "cell-1ff65cb4b2f75fc1",
     "locked": false,
     "schema_version": 3,
     "solution": true
    }
   },
   "outputs": [
    {
     "name": "stdout",
     "output_type": "stream",
     "text": [
      "<class 'numpy.ndarray'>\n",
      "[12.90220247]\n"
     ]
    }
   ],
   "source": [
    "\n",
    "cube_predict = cubic_pipe.fit(X,y).predict([[200]]) #cubic pipe prediction\n",
    "\n",
    "print(type(cube_predict))\n",
    "print(cube_predict)"
   ]
  }
 ],
 "metadata": {
  "kernelspec": {
   "display_name": "Python 3",
   "language": "python",
   "name": "python3"
  },
  "language_info": {
   "codemirror_mode": {
    "name": "ipython",
    "version": 3
   },
   "file_extension": ".py",
   "mimetype": "text/x-python",
   "name": "python",
   "nbconvert_exporter": "python",
   "pygments_lexer": "ipython3",
   "version": "3.12.9"
  },
  "widgets": {
   "application/vnd.jupyter.widget-state+json": {
    "state": {},
    "version_major": 2,
    "version_minor": 0
   }
  }
 },
 "nbformat": 4,
 "nbformat_minor": 4
}

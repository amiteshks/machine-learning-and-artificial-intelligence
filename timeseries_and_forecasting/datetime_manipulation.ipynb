{
 "cells": [
  {
   "attachments": {},
   "cell_type": "markdown",
   "metadata": {
    "nbgrader": {
     "grade": false,
     "grade_id": "cell-2894236e4db61fcf",
     "locked": true,
     "schema_version": 3,
     "solution": false
    }
   },
   "source": [
    "### This file demonstartes working with Dates and Datetimes in `pandas`"
   ]
  },
  {
   "cell_type": "code",
   "execution_count": 82,
   "metadata": {
    "nbgrader": {
     "grade": false,
     "grade_id": "cell-1834d7251404c989",
     "locked": true,
     "schema_version": 3,
     "solution": false
    }
   },
   "outputs": [
    {
     "name": "stdout",
     "output_type": "stream",
     "text": [
      "2000-01-01 00:00:00\n",
      "<class 'pandas._libs.tslibs.timestamps.Timestamp'>\n"
     ]
    }
   ],
   "source": [
    "import pandas as pd\n",
    "import numpy as np\n",
    "\n",
    "adate = '01-01-2000'\n",
    "# Use to_datetime() function to get Datetime\n",
    "adatetime = pd.to_datetime(adate)\n",
    "\n",
    "print(adatetime)\n",
    "print(type(adatetime))"
   ]
  },
  {
   "attachments": {},
   "cell_type": "markdown",
   "metadata": {
    "nbgrader": {
     "grade": false,
     "grade_id": "cell-8d380398cd625e05",
     "locked": true,
     "schema_version": 3,
     "solution": false
    }
   },
   "source": [
    "#### Dates in a `DataFrame`\n",
    "Convert date column to Datetime"
   ]
  },
  {
   "cell_type": "code",
   "execution_count": 87,
   "metadata": {
    "nbgrader": {
     "grade": false,
     "grade_id": "cell-7d6abca989eb0a30",
     "locked": true,
     "schema_version": 3,
     "solution": false
    }
   },
   "outputs": [
    {
     "data": {
      "text/html": [
       "<div>\n",
       "<style scoped>\n",
       "    .dataframe tbody tr th:only-of-type {\n",
       "        vertical-align: middle;\n",
       "    }\n",
       "\n",
       "    .dataframe tbody tr th {\n",
       "        vertical-align: top;\n",
       "    }\n",
       "\n",
       "    .dataframe thead th {\n",
       "        text-align: right;\n",
       "    }\n",
       "</style>\n",
       "<table border=\"1\" class=\"dataframe\">\n",
       "  <thead>\n",
       "    <tr style=\"text-align: right;\">\n",
       "      <th></th>\n",
       "      <th>price</th>\n",
       "      <th>date</th>\n",
       "    </tr>\n",
       "  </thead>\n",
       "  <tbody>\n",
       "    <tr>\n",
       "      <th>0</th>\n",
       "      <td>10.24</td>\n",
       "      <td>2020-11-01</td>\n",
       "    </tr>\n",
       "    <tr>\n",
       "      <th>1</th>\n",
       "      <td>11.34</td>\n",
       "      <td>2021-11-02</td>\n",
       "    </tr>\n",
       "    <tr>\n",
       "      <th>2</th>\n",
       "      <td>14.72</td>\n",
       "      <td>2021-11-03</td>\n",
       "    </tr>\n",
       "    <tr>\n",
       "      <th>3</th>\n",
       "      <td>13.90</td>\n",
       "      <td>2021-11-04</td>\n",
       "    </tr>\n",
       "    <tr>\n",
       "      <th>4</th>\n",
       "      <td>15.03</td>\n",
       "      <td>2021-11-05</td>\n",
       "    </tr>\n",
       "  </tbody>\n",
       "</table>\n",
       "</div>"
      ],
      "text/plain": [
       "   price       date\n",
       "0  10.24 2020-11-01\n",
       "1  11.34 2021-11-02\n",
       "2  14.72 2021-11-03\n",
       "3  13.90 2021-11-04\n",
       "4  15.03 2021-11-05"
      ]
     },
     "execution_count": 87,
     "metadata": {},
     "output_type": "execute_result"
    }
   ],
   "source": [
    "data = {'price': [10.24, 11.34, 14.72, 13.90, 15.03],\n",
    "       'date': ['11-01-2020', '11-02-2021', '11-03-2021', '11-04-2021', '11-05-2021']}\n",
    "data['date'] = pd.to_datetime(data['date'])\n",
    "sample_df = pd.DataFrame(data)\n",
    "sample_df"
   ]
  },
  {
   "attachments": {},
   "cell_type": "markdown",
   "metadata": {
    "nbgrader": {
     "grade": false,
     "grade_id": "cell-2c6c5e290b26717d",
     "locked": true,
     "schema_version": 3,
     "solution": false
    }
   },
   "source": [
    "\n",
    "#### Extracting information from `datetime` objects"
   ]
  },
  {
   "cell_type": "code",
   "execution_count": 92,
   "metadata": {
    "nbgrader": {
     "grade": false,
     "grade_id": "cell-a83be81af02b966f",
     "locked": true,
     "schema_version": 3,
     "solution": false
    }
   },
   "outputs": [
    {
     "name": "stdout",
     "output_type": "stream",
     "text": [
      "['2013-01-01' '2013-01-02' '2013-01-03' ... '2017-08-29' '2017-08-30'\n",
      " '2017-08-31']\n",
      "Counts of months in data\n",
      "==================\n",
      "month\n",
      "1     111\n",
      "5     111\n",
      "7     111\n",
      "3     110\n",
      "8     110\n",
      "4     107\n",
      "6     107\n",
      "2     101\n",
      "12     90\n",
      "10     89\n",
      "9      87\n",
      "11     84\n",
      "Name: count, dtype: int64\n"
     ]
    },
    {
     "data": {
      "text/html": [
       "<div>\n",
       "<style scoped>\n",
       "    .dataframe tbody tr th:only-of-type {\n",
       "        vertical-align: middle;\n",
       "    }\n",
       "\n",
       "    .dataframe tbody tr th {\n",
       "        vertical-align: top;\n",
       "    }\n",
       "\n",
       "    .dataframe thead th {\n",
       "        text-align: right;\n",
       "    }\n",
       "</style>\n",
       "<table border=\"1\" class=\"dataframe\">\n",
       "  <thead>\n",
       "    <tr style=\"text-align: right;\">\n",
       "      <th></th>\n",
       "      <th>date</th>\n",
       "      <th>dcoilwtico</th>\n",
       "      <th>month</th>\n",
       "    </tr>\n",
       "  </thead>\n",
       "  <tbody>\n",
       "    <tr>\n",
       "      <th>0</th>\n",
       "      <td>2013-01-01</td>\n",
       "      <td>NaN</td>\n",
       "      <td>1</td>\n",
       "    </tr>\n",
       "    <tr>\n",
       "      <th>1</th>\n",
       "      <td>2013-01-02</td>\n",
       "      <td>93.14</td>\n",
       "      <td>1</td>\n",
       "    </tr>\n",
       "    <tr>\n",
       "      <th>2</th>\n",
       "      <td>2013-01-03</td>\n",
       "      <td>92.97</td>\n",
       "      <td>1</td>\n",
       "    </tr>\n",
       "    <tr>\n",
       "      <th>3</th>\n",
       "      <td>2013-01-04</td>\n",
       "      <td>93.12</td>\n",
       "      <td>1</td>\n",
       "    </tr>\n",
       "    <tr>\n",
       "      <th>4</th>\n",
       "      <td>2013-01-07</td>\n",
       "      <td>93.20</td>\n",
       "      <td>1</td>\n",
       "    </tr>\n",
       "    <tr>\n",
       "      <th>...</th>\n",
       "      <td>...</td>\n",
       "      <td>...</td>\n",
       "      <td>...</td>\n",
       "    </tr>\n",
       "    <tr>\n",
       "      <th>1213</th>\n",
       "      <td>2017-08-25</td>\n",
       "      <td>47.65</td>\n",
       "      <td>8</td>\n",
       "    </tr>\n",
       "    <tr>\n",
       "      <th>1214</th>\n",
       "      <td>2017-08-28</td>\n",
       "      <td>46.40</td>\n",
       "      <td>8</td>\n",
       "    </tr>\n",
       "    <tr>\n",
       "      <th>1215</th>\n",
       "      <td>2017-08-29</td>\n",
       "      <td>46.46</td>\n",
       "      <td>8</td>\n",
       "    </tr>\n",
       "    <tr>\n",
       "      <th>1216</th>\n",
       "      <td>2017-08-30</td>\n",
       "      <td>45.96</td>\n",
       "      <td>8</td>\n",
       "    </tr>\n",
       "    <tr>\n",
       "      <th>1217</th>\n",
       "      <td>2017-08-31</td>\n",
       "      <td>47.26</td>\n",
       "      <td>8</td>\n",
       "    </tr>\n",
       "  </tbody>\n",
       "</table>\n",
       "<p>1218 rows × 3 columns</p>\n",
       "</div>"
      ],
      "text/plain": [
       "           date  dcoilwtico  month\n",
       "0    2013-01-01         NaN      1\n",
       "1    2013-01-02       93.14      1\n",
       "2    2013-01-03       92.97      1\n",
       "3    2013-01-04       93.12      1\n",
       "4    2013-01-07       93.20      1\n",
       "...         ...         ...    ...\n",
       "1213 2017-08-25       47.65      8\n",
       "1214 2017-08-28       46.40      8\n",
       "1215 2017-08-29       46.46      8\n",
       "1216 2017-08-30       45.96      8\n",
       "1217 2017-08-31       47.26      8\n",
       "\n",
       "[1218 rows x 3 columns]"
      ]
     },
     "execution_count": 92,
     "metadata": {},
     "output_type": "execute_result"
    }
   ],
   "source": [
    "oil = pd.read_csv('data/oil.csv')\n",
    "oil.head()\n",
    "print(oil['date'].values)\n",
    "oil['date'] = pd.to_datetime(oil['date'])\n",
    "oil['month'] = oil['date'].dt.month\n",
    "\n",
    "\n",
    "# Answer check\n",
    "print('Counts of months in data\\n==================')\n",
    "print(oil['month'].value_counts())\n",
    "oil"
   ]
  },
  {
   "cell_type": "code",
   "execution_count": 106,
   "metadata": {
    "nbgrader": {
     "grade": false,
     "grade_id": "cell-10ea606349f31935",
     "locked": false,
     "schema_version": 3,
     "solution": true
    }
   },
   "outputs": [
    {
     "name": "stdout",
     "output_type": "stream",
     "text": [
      "['2013-01-01T00:00:00.000000000' '2013-01-02T00:00:00.000000000'\n",
      " '2013-01-03T00:00:00.000000000' ... '2017-08-29T00:00:00.000000000'\n",
      " '2017-08-30T00:00:00.000000000' '2017-08-31T00:00:00.000000000']\n",
      "Counts of months in data\n",
      "==================\n",
      "month\n",
      "1     111\n",
      "5     111\n",
      "7     111\n",
      "3     110\n",
      "8     110\n",
      "4     107\n",
      "6     107\n",
      "2     101\n",
      "12     90\n",
      "10     89\n",
      "9      87\n",
      "11     84\n",
      "Name: count, dtype: int64\n"
     ]
    },
    {
     "data": {
      "text/html": [
       "<div>\n",
       "<style scoped>\n",
       "    .dataframe tbody tr th:only-of-type {\n",
       "        vertical-align: middle;\n",
       "    }\n",
       "\n",
       "    .dataframe tbody tr th {\n",
       "        vertical-align: top;\n",
       "    }\n",
       "\n",
       "    .dataframe thead th {\n",
       "        text-align: right;\n",
       "    }\n",
       "</style>\n",
       "<table border=\"1\" class=\"dataframe\">\n",
       "  <thead>\n",
       "    <tr style=\"text-align: right;\">\n",
       "      <th></th>\n",
       "      <th>date</th>\n",
       "      <th>dcoilwtico</th>\n",
       "      <th>month</th>\n",
       "    </tr>\n",
       "  </thead>\n",
       "  <tbody>\n",
       "    <tr>\n",
       "      <th>0</th>\n",
       "      <td>2013-01-01</td>\n",
       "      <td>NaN</td>\n",
       "      <td>1</td>\n",
       "    </tr>\n",
       "    <tr>\n",
       "      <th>1</th>\n",
       "      <td>2013-01-02</td>\n",
       "      <td>93.14</td>\n",
       "      <td>1</td>\n",
       "    </tr>\n",
       "    <tr>\n",
       "      <th>2</th>\n",
       "      <td>2013-01-03</td>\n",
       "      <td>92.97</td>\n",
       "      <td>1</td>\n",
       "    </tr>\n",
       "    <tr>\n",
       "      <th>3</th>\n",
       "      <td>2013-01-04</td>\n",
       "      <td>93.12</td>\n",
       "      <td>1</td>\n",
       "    </tr>\n",
       "    <tr>\n",
       "      <th>4</th>\n",
       "      <td>2013-01-07</td>\n",
       "      <td>93.20</td>\n",
       "      <td>1</td>\n",
       "    </tr>\n",
       "  </tbody>\n",
       "</table>\n",
       "</div>"
      ],
      "text/plain": [
       "        date  dcoilwtico  month\n",
       "0 2013-01-01         NaN      1\n",
       "1 2013-01-02       93.14      1\n",
       "2 2013-01-03       92.97      1\n",
       "3 2013-01-04       93.12      1\n",
       "4 2013-01-07       93.20      1"
      ]
     },
     "execution_count": 106,
     "metadata": {},
     "output_type": "execute_result"
    }
   ],
   "source": [
    "print(oil['date'].values)\n",
    "\n",
    "# Extract month field after converting date column to Datetime\n",
    "oil['date'] = pd.to_datetime(oil['date'])\n",
    "oil['month'] = oil['date'].dt.month\n",
    "\n",
    "print('Counts of months in data\\n==================')\n",
    "print(oil['month'].value_counts())\n",
    "oil.head()"
   ]
  },
  {
   "attachments": {},
   "cell_type": "markdown",
   "metadata": {
    "nbgrader": {
     "grade": false,
     "grade_id": "cell-56f61e7493336dcf",
     "locked": true,
     "schema_version": 3,
     "solution": false
    }
   },
   "source": [
    "#### Slicing data with `datetime` index\n",
    "\n",
    "Using the `msft` data, change the `Date` column to `datetime` and set it to the index of the DataFrame.  Use the datetime index to select days between June 21st and September 22nd.  Assign the slice to the variable `msft_summer` below.  "
   ]
  },
  {
   "cell_type": "code",
   "execution_count": 109,
   "metadata": {
    "nbgrader": {
     "grade": false,
     "grade_id": "cell-bf38183eb24ec426",
     "locked": true,
     "schema_version": 3,
     "solution": false
    }
   },
   "outputs": [
    {
     "name": "stdout",
     "output_type": "stream",
     "text": [
      "<class 'pandas.core.frame.DataFrame'>\n",
      "RangeIndex: 253 entries, 0 to 252\n",
      "Data columns (total 7 columns):\n",
      " #   Column     Non-Null Count  Dtype  \n",
      "---  ------     --------------  -----  \n",
      " 0   Date       253 non-null    object \n",
      " 1   High       253 non-null    float64\n",
      " 2   Low        253 non-null    float64\n",
      " 3   Open       253 non-null    float64\n",
      " 4   Close      253 non-null    float64\n",
      " 5   Volume     253 non-null    float64\n",
      " 6   Adj Close  253 non-null    float64\n",
      "dtypes: float64(6), object(1)\n",
      "memory usage: 14.0+ KB\n"
     ]
    }
   ],
   "source": [
    "msft = pd.read_csv('data/msft.csv')\n",
    "msft.info()"
   ]
  },
  {
   "cell_type": "code",
   "execution_count": 113,
   "metadata": {
    "nbgrader": {
     "grade": false,
     "grade_id": "cell-566911d6b32570d1",
     "locked": false,
     "schema_version": 3,
     "solution": true
    }
   },
   "outputs": [
    {
     "data": {
      "text/html": [
       "<div>\n",
       "<style scoped>\n",
       "    .dataframe tbody tr th:only-of-type {\n",
       "        vertical-align: middle;\n",
       "    }\n",
       "\n",
       "    .dataframe tbody tr th {\n",
       "        vertical-align: top;\n",
       "    }\n",
       "\n",
       "    .dataframe thead th {\n",
       "        text-align: right;\n",
       "    }\n",
       "</style>\n",
       "<table border=\"1\" class=\"dataframe\">\n",
       "  <thead>\n",
       "    <tr style=\"text-align: right;\">\n",
       "      <th></th>\n",
       "      <th>Date</th>\n",
       "      <th>High</th>\n",
       "      <th>Low</th>\n",
       "      <th>Open</th>\n",
       "      <th>Close</th>\n",
       "      <th>Volume</th>\n",
       "      <th>Adj Close</th>\n",
       "    </tr>\n",
       "    <tr>\n",
       "      <th>Date</th>\n",
       "      <th></th>\n",
       "      <th></th>\n",
       "      <th></th>\n",
       "      <th></th>\n",
       "      <th></th>\n",
       "      <th></th>\n",
       "      <th></th>\n",
       "    </tr>\n",
       "  </thead>\n",
       "  <tbody>\n",
       "    <tr>\n",
       "      <th>2020-06-22</th>\n",
       "      <td>2020-06-22</td>\n",
       "      <td>200.759995</td>\n",
       "      <td>195.229996</td>\n",
       "      <td>195.789993</td>\n",
       "      <td>200.570007</td>\n",
       "      <td>32818900.0</td>\n",
       "      <td>197.904968</td>\n",
       "    </tr>\n",
       "    <tr>\n",
       "      <th>2020-06-23</th>\n",
       "      <td>2020-06-23</td>\n",
       "      <td>203.949997</td>\n",
       "      <td>201.429993</td>\n",
       "      <td>202.089996</td>\n",
       "      <td>201.910004</td>\n",
       "      <td>30917400.0</td>\n",
       "      <td>199.227173</td>\n",
       "    </tr>\n",
       "    <tr>\n",
       "      <th>2020-06-24</th>\n",
       "      <td>2020-06-24</td>\n",
       "      <td>203.250000</td>\n",
       "      <td>196.559998</td>\n",
       "      <td>201.600006</td>\n",
       "      <td>197.839996</td>\n",
       "      <td>36740600.0</td>\n",
       "      <td>195.211227</td>\n",
       "    </tr>\n",
       "    <tr>\n",
       "      <th>2020-06-25</th>\n",
       "      <td>2020-06-25</td>\n",
       "      <td>200.610001</td>\n",
       "      <td>195.470001</td>\n",
       "      <td>197.800003</td>\n",
       "      <td>200.339996</td>\n",
       "      <td>27803900.0</td>\n",
       "      <td>197.678024</td>\n",
       "    </tr>\n",
       "    <tr>\n",
       "      <th>2020-06-26</th>\n",
       "      <td>2020-06-26</td>\n",
       "      <td>199.889999</td>\n",
       "      <td>194.880005</td>\n",
       "      <td>199.729996</td>\n",
       "      <td>196.330002</td>\n",
       "      <td>54675800.0</td>\n",
       "      <td>193.721298</td>\n",
       "    </tr>\n",
       "  </tbody>\n",
       "</table>\n",
       "</div>"
      ],
      "text/plain": [
       "                  Date        High         Low        Open       Close  \\\n",
       "Date                                                                     \n",
       "2020-06-22  2020-06-22  200.759995  195.229996  195.789993  200.570007   \n",
       "2020-06-23  2020-06-23  203.949997  201.429993  202.089996  201.910004   \n",
       "2020-06-24  2020-06-24  203.250000  196.559998  201.600006  197.839996   \n",
       "2020-06-25  2020-06-25  200.610001  195.470001  197.800003  200.339996   \n",
       "2020-06-26  2020-06-26  199.889999  194.880005  199.729996  196.330002   \n",
       "\n",
       "                Volume   Adj Close  \n",
       "Date                                \n",
       "2020-06-22  32818900.0  197.904968  \n",
       "2020-06-23  30917400.0  199.227173  \n",
       "2020-06-24  36740600.0  195.211227  \n",
       "2020-06-25  27803900.0  197.678024  \n",
       "2020-06-26  54675800.0  193.721298  "
      ]
     },
     "execution_count": 113,
     "metadata": {},
     "output_type": "execute_result"
    }
   ],
   "source": [
    "msft.set_index(pd.to_datetime(msft['Date']), inplace=True)\n",
    "\n",
    "msft_summer = msft['2020-06-21': '2020-09-22']\n",
    "msft_summer.head()"
   ]
  },
  {
   "cell_type": "code",
   "execution_count": null,
   "metadata": {},
   "outputs": [],
   "source": []
  }
 ],
 "metadata": {
  "celltoolbar": "Create Assignment",
  "kernelspec": {
   "display_name": "Python 3 (ipykernel)",
   "language": "python",
   "name": "python3"
  },
  "language_info": {
   "codemirror_mode": {
    "name": "ipython",
    "version": 3
   },
   "file_extension": ".py",
   "mimetype": "text/x-python",
   "name": "python",
   "nbconvert_exporter": "python",
   "pygments_lexer": "ipython3",
   "version": "3.12.4"
  },
  "widgets": {
   "application/vnd.jupyter.widget-state+json": {
    "state": {},
    "version_major": 2,
    "version_minor": 0
   }
  }
 },
 "nbformat": 4,
 "nbformat_minor": 4
}

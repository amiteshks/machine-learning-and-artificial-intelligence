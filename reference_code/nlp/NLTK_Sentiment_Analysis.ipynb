{
 "cells": [
  {
   "cell_type": "markdown",
   "id": "b3d24696",
   "metadata": {},
   "source": [
    "# 🧠 Sentiment Analysis using NLTK\n",
    "This notebook demonstrates how to build a simple sentiment analysis model using the NLTK library with the Movie Reviews dataset."
   ]
  },
  {
   "cell_type": "code",
   "execution_count": 3,
   "id": "413b98ef",
   "metadata": {},
   "outputs": [
    {
     "name": "stderr",
     "output_type": "stream",
     "text": [
      "[nltk_data] Downloading package movie_reviews to\n",
      "[nltk_data]     /Users/amiteshsinha/nltk_data...\n",
      "[nltk_data]   Unzipping corpora/movie_reviews.zip.\n",
      "[nltk_data] Downloading package punkt to\n",
      "[nltk_data]     /Users/amiteshsinha/nltk_data...\n",
      "[nltk_data]   Package punkt is already up-to-date!\n"
     ]
    },
    {
     "data": {
      "text/plain": [
       "True"
      ]
     },
     "execution_count": 3,
     "metadata": {},
     "output_type": "execute_result"
    }
   ],
   "source": [
    "import nltk\n",
    "from nltk.corpus import movie_reviews\n",
    "import random\n",
    "\n",
    "nltk.download('movie_reviews')\n",
    "nltk.download('punkt')"
   ]
  },
  {
   "cell_type": "markdown",
   "id": "6184c38a",
   "metadata": {},
   "source": [
    "## 📂 Step 2: Load and Prepare Data"
   ]
  },
  {
   "cell_type": "code",
   "execution_count": 5,
   "id": "8fc23833",
   "metadata": {},
   "outputs": [
    {
     "name": "stdout",
     "output_type": "stream",
     "text": [
      "Sample document: (['look', 'back', 'at', 'all', 'the', 'times', 'in', 'your', 'life', 'when', 'there', 'was', 'a', 'fork', 'in', 'the', 'path', 'to', 'the', 'future', '.', 'some', 'sort', 'of', 'decision', 'had', 'to', 'be', 'made', ',', 'and', ',', 'for', 'better', 'or', 'worse', ',', 'it', 'irrevocably', 'altered', 'the', 'course', 'of', 'your', 'existence', '.', '>', 'from', 'time', '-', 'to', '-', 'time', ',', 'everyone', 'thinks', 'about', 'the', 'roads', 'not', 'taken', ',', 'and', 'how', 'things', 'might', 'have', 'turned', 'out', 'if', 'the', 'choice', 'had', 'been', 'different', '.', 'perhaps', 'even', 'more', 'dizzying', 'to', 'contemplate', 'is', 'how', 'a', 'seemingly', 'minor', 'action', '--', 'catching', 'the', '10', 'am', 'train', ',', 'for', 'example', '--', 'could', 'have', 'an', 'equally', 'profound', ',', 'yet', 'less', 'obvious', ',', 'impact', '.', 'maybe', 'that', \"'\", 's', 'where', 'you', 'met', 'your', 'significant', 'other', ',', 'and', ',', 'had', 'you', 'reached', 'the', 'platform', 'just', 'a', 'few', 'seconds', 'later', '?', 'film', 'makers', 'are', 'no', 'less', 'fascinated', 'by', 'issues', 'of', 'destiny', 'than', 'anyone', 'else', ',', 'and', 'that', \"'\", 's', 'why', 'there', \"'\", 's', 'no', 'shortage', 'of', 'movies', 'about', 'this', 'subject', '.', 'the', 'best', 'of', 'the', 'bunch', 'were', 'probably', 'made', 'by', 'the', 'late', 'polish', 'director', 'krzysztof', 'kieslowski', ',', 'who', 'was', 'obsessed', 'with', 'questions', 'of', 'fate', 'and', 'chance', '.', 'these', 'themes', 'weave', 'their', 'way', 'through', 'many', 'of', 'his', 'movies', ',', 'including', 'decalogue', ',', 'the', 'double', 'life', 'of', 'veronique', ',', 'and', 'the', 'triptych', 'of', 'blue', ',', 'white', ',', 'and', 'red', '.', 'however', ',', 'they', 'are', 'most', 'explicitly', 'examined', 'in', 'a', '1981', 'film', 'called', 'blind', 'chance', ',', 'where', 'kieslowski', 'presents', 'the', 'three', 'different', 'fates', 'of', 'one', 'man', 'after', 'a', 'minor', 'action', '(', 'missing', 'or', 'catching', 'a', 'train', ')', 'changes', 'the', 'course', 'of', 'his', 'life', '.', 'in', 'his', 'autobiography', ',', 'kieslowski', 'on', 'kieslowski', ',', 'the', 'director', 'describes', 'his', 'attraction', 'to', 'the', 'concept', 'this', 'way', ':', '\"', '[', 'the', 'idea', 'is', ']', 'rich', 'and', 'interesting', '?', 'that', 'every', 'day', 'we', \"'\", 're', 'faced', 'with', 'a', 'choice', 'which', 'could', 'end', 'our', 'entire', 'life', 'yet', 'of', 'which', 'we', \"'\", 're', 'completely', 'unaware', '.', '\"', 'while', 'this', 'approach', 'has', 'been', 'the', 'fodder', 'for', 'several', 'notable', 'dramatic', 'films', '(', 'including', ',', 'in', 'a', 'way', ',', 'frank', 'capra', \"'\", 's', 'it', \"'\", 's', 'a', 'wonderful', 'life', ')', ',', 'sliding', 'doors', 'is', 'the', 'first', 'romantic', 'comedy', 'to', 'plumb', 'its', 'depths', '.', 'the', '\"', 'road', 'not', 'taken', '\"', 'approach', 'isn', \"'\", 't', 'just', 'a', 'plot', 'device', ',', 'either', '.', 'writer', '/', 'director', 'peter', 'howitt', 'expands', 'upon', 'both', 'possible', 'fates', 'of', 'a', 'character', 'after', 'she', 'just', 'misses', '/', 'catches', 'a', 'train', '.', 'the', 'audience', 'watches', ',', 'with', 'ever', '-', 'growing', 'fascination', ',', 'how', 'this', 'one', 'event', 'impacts', 'upon', 'every', 'aspect', 'of', 'her', 'life', ':', 'her', 'future', 'career', ',', 'where', 'she', 'lives', ',', 'whom', 'she', 'loves', ',', 'and', 'whether', 'she', 'has', 'a', 'family', '.', 'as', 'her', 'separate', 'destinies', 'diverge', 'and', 'then', 're', '-', 'converge', ',', 'she', 'becomes', 'two', 'completely', 'different', 'individuals', '.', 'that', 'woman', 'is', 'helen', ',', 'played', 'by', 'gwyneth', 'paltrow', 'as', 'a', 'long', ',', 'dark', '-', 'haired', 'brit', '.', 'one', 'day', ',', 'after', 'losing', 'her', 'job', 'as', 'an', 'advertising', 'executive', ',', 'she', 'decides', 'to', 'return', 'home', 'in', 'the', 'middle', 'of', 'the', 'day', '.', 'the', 'scene', 'of', 'the', 'pivotal', 'moment', 'is', 'a', 'train', 'platform', '.', 'in', 'scenario', '#', '1', ',', 'she', 'just', 'slips', 'through', 'the', 'sliding', 'doors', 'before', 'the', 'train', 'pulls', 'out', 'of', 'the', 'station', '.', 'on', 'board', ',', 'she', 'meets', 'the', 'cheerful', ',', 'talkative', 'james', '(', 'john', 'hannah', ')', ',', 'a', 'monty', 'python', 'fan', 'who', 'is', 'taken', 'with', 'her', 'beauty', '.', 'minutes', 'later', ',', 'in', 'her', 'flat', ',', 'she', 'walks', 'in', 'on', 'her', 'lover', ',', 'gerry', '(', 'john', 'lynch', ')', ',', 'in', 'bed', 'with', 'another', 'woman', '(', 'jeanne', 'tripplehorn', ')', '.', 'in', 'scenario', '#', '2', ',', 'she', 'misses', 'the', 'train', 'and', ',', 'shortly', 'thereafter', ',', 'is', 'the', 'victim', 'of', 'an', 'attempted', 'mugging', '.', 'she', 'doesn', \"'\", 't', 'meet', 'james', 'and', 'fails', 'to', 'make', 'it', 'home', 'in', 'time', 'to', 'discover', 'gerry', \"'\", 's', 'infidelity', '.', 'juxtaposed', 'one', 'against', 'the', 'other', ',', 'while', 'sharing', 'many', 'places', ',', 'cues', ',', 'and', 'characters', ',', 'the', 'two', 'stories', 'proceed', 'in', 'parallel', 'from', 'there', '.', 'on', 'one', 'level', ',', 'for', 'viewers', 'who', 'enjoy', 'pondering', 'the', 'workings', 'of', 'fate', ',', 'sliding', 'doors', 'can', 'be', 'viewed', 'as', 'a', 'deep', 'and', 'wonderful', 'experience', '.', 'but', ',', 'for', 'those', 'who', 'just', 'appreciate', 'a', 'romantic', 'comedy', 'characterized', 'by', 'solid', 'acting', ',', 'a', 'script', 'with', 'a', 'few', 'twists', ',', 'and', 'a', 'great', 'deal', 'of', 'genuinely', 'funny', 'material', ',', 'sliding', 'doors', 'still', 'fits', 'the', 'bill', '.', 'one', 'of', 'its', 'most', 'obvious', 'strengths', 'is', 'that', 'it', 'can', 'satisfy', 'many', 'different', 'types', 'of', 'audiences', '--', 'those', 'who', 'demand', 'something', 'substantial', 'from', 'their', 'motion', 'pictures', ',', 'and', 'those', 'who', 'could', 'care', 'less', '.', 'it', 'shouldn', \"'\", 't', 'come', 'as', 'any', 'surprise', 'that', 'the', 'acting', ',', 'at', 'least', 'from', 'three', 'of', 'the', 'four', 'leads', ',', 'is', 'solid', '.', 'paltrow', ',', 'who', 'does', 'double', 'duty', 'as', 'two', 'helens', 'who', 'are', 'initially', 'the', 'same', ',', 'yet', 'gradually', 'become', 'much', 'different', ',', 'is', 'the', 'standout', '.', 'she', 'plays', 'both', 'of', 'her', 'roles', 'effectively', 'and', 'believably', '--', 'the', 'shy', ',', 'insecure', 'woman', 'who', 'stays', 'with', 'gerry', 'and', 'the', 'liberated', ',', 'platinum', '-', 'blond', 'who', 'severs', 'the', 'ties', 'to', 'her', 'old', 'life', 'and', 'embarks', 'on', 'a', 'new', 'career', 'with', 'a', 'new', 'man', '.', 'john', 'hannah', ',', 'known', 'to', 'most', 'american', 'viewers', 'as', 'the', 'younger', 'gay', 'character', 'in', 'four', 'weddings', 'and', 'a', 'funeral', ',', 'is', 'instantly', 'likable', '.', 'john', 'lynch', ',', 'taking', 'a', 'break', 'from', 'movies', 'about', 'ireland', \"'\", 's', 'troubles', ',', 'does', 'a', 'good', 'job', 'presenting', 'gerry', 'as', 'a', 'inept', ',', 'selfish', 'philanderer', '.', 'only', 'jeanne', 'tripplehorn', ',', 'who', 'plays', 'an', 'over', '-', 'the', '-', 'top', 'vixen', ',', 'seems', 'out', 'of', 'place', '.', 'her', 'attempts', 'at', 'broad', 'comedy', 'are', 'occasionally', 'jarring', ',', 'and', 'it', \"'\", 's', 'occasionally', 'difficult', 'to', 'see', 'her', 'lydia', 'as', 'anything', 'more', 'than', 'a', 'plot', 'element', '.', 'one', 'member', 'of', 'the', 'supporting', 'cast', 'deserves', 'special', 'notice', '.', 'douglas', 'mcferran', ',', 'who', 'plays', 'gerry', \"'\", 's', 'best', 'friend', ',', 'russell', ',', 'is', 'an', 'absolute', 'delight', ',', 'stealing', 'every', 'scene', 'that', 'he', \"'\", 's', 'in', '.', 'part', 'of', 'this', 'is', 'surely', 'because', 'he', 'is', 'given', 'the', 'best', 'lines', 'in', 'the', 'movie', '.', 'on', 'one', 'occasion', ',', 'he', 'has', 'a', 'marvelous', 'monologue', 'bemoaning', 'how', 'advances', 'in', 'the', 'telecommunications', 'industry', 'have', 'trapped', 'men', 'into', 'a', 'life', 'of', 'monogamy', '.', 'on', 'another', 'occasion', ',', 'while', 'laughing', 'at', 'gerry', \"'\", 's', 'plight', 'with', 'the', 'women', 'in', 'his', 'life', ',', 'he', 'comments', ',', '\"', 'being', 'with', 'you', 'makes', 'the', 'wait', 'for', 'the', 'next', 'episode', 'of', 'seinfeld', 'more', 'bearable', '.', '\"', 'but', 'it', \"'\", 's', 'not', 'all', 'in', 'the', 'dialogue', '.', 'mcferran', 'tears', 'into', 'this', 'part', 'with', 'relish', ';', 'his', 'performance', 'becomes', 'one', 'of', 'the', 'most', 'memorable', 'aspects', 'of', 'a', 'top', '-', 'notch', 'comedy', '.', 'this', 'is', 'the', 'first', 'feature', 'film', 'for', 'peter', 'howitt', ',', 'and', 'he', 'approaches', 'the', 'task', 'with', 'unimpeachable', 'aplomb', '.', 'the', 'script', 'is', 'shrewd', 'and', 'inventive', ',', 'combining', 'wit', ',', 'romance', ',', 'and', 'intelligent', 'melodrama', 'into', 'a', 'crowd', '-', 'pleasing', 'whole', '.', 'sliding', 'doors', 'grants', 'more', 'than', 'just', 'a', 'good', 'time', 'at', 'the', 'movies', ',', 'however', '.', 'for', 'those', 'who', 'are', 'so', 'inclined', ',', 'its', 'central', 'theme', 'offers', 'an', 'opportunity', 'to', 'ponder', 'some', 'of', 'the', 'more', 'philosophical', 'questions', 'about', 'the', 'workings', 'of', 'the', 'universe', '--', 'all', 'while', 'having', 'a', 'good', 'time', '.'], 'pos')\n"
     ]
    }
   ],
   "source": [
    "# Load labeled movie reviews\n",
    "documents = [(list(movie_reviews.words(fileid)), category)\n",
    "             for category in movie_reviews.categories()\n",
    "             for fileid in movie_reviews.fileids(category)]\n",
    "\n",
    "# Shuffle the dataset\n",
    "random.shuffle(documents)\n",
    "\n",
    "print(\"Sample document:\", documents[0][:50])  # preview first 50 tokens"
   ]
  },
  {
   "cell_type": "markdown",
   "id": "aeb54a0b",
   "metadata": {},
   "source": [
    "## ✨ Step 3: Feature Extraction Function"
   ]
  },
  {
   "cell_type": "code",
   "execution_count": 7,
   "id": "f312654f",
   "metadata": {},
   "outputs": [],
   "source": [
    "# Build a frequency distribution of all words\n",
    "all_words = nltk.FreqDist(word.lower() for word in movie_reviews.words())\n",
    "\n",
    "# Select top 2000 most common words as features\n",
    "word_features = list(all_words)[:2000]\n",
    "\n",
    "def document_features(document):\n",
    "    words = set(document)\n",
    "    return {word: (word in words) for word in word_features}"
   ]
  },
  {
   "cell_type": "markdown",
   "id": "b9136234",
   "metadata": {},
   "source": [
    "## 🧠 Step 4: Train a Naive Bayes Classifier"
   ]
  },
  {
   "cell_type": "code",
   "execution_count": 9,
   "id": "4884d9d2",
   "metadata": {},
   "outputs": [],
   "source": [
    "# Create feature sets\n",
    "featuresets = [(document_features(d), c) for (d, c) in documents]\n",
    "\n",
    "# Train-test split\n",
    "train_set, test_set = featuresets[:1900], featuresets[1900:]\n",
    "\n",
    "# Train classifier\n",
    "classifier = nltk.NaiveBayesClassifier.train(train_set)"
   ]
  },
  {
   "cell_type": "markdown",
   "id": "57d89bbc",
   "metadata": {},
   "source": [
    "## ✅ Step 5: Evaluate the Model"
   ]
  },
  {
   "cell_type": "code",
   "execution_count": 11,
   "id": "e70f9744",
   "metadata": {},
   "outputs": [
    {
     "name": "stdout",
     "output_type": "stream",
     "text": [
      "Accuracy: 0.82\n",
      "Most Informative Features\n",
      "             outstanding = True              pos : neg    =     11.2 : 1.0\n",
      "                   mulan = True              pos : neg    =      7.7 : 1.0\n",
      "                  seagal = True              neg : pos    =      7.0 : 1.0\n",
      "             wonderfully = True              pos : neg    =      6.6 : 1.0\n",
      "                   damon = True              pos : neg    =      6.3 : 1.0\n",
      "                   flynt = True              pos : neg    =      5.7 : 1.0\n",
      "                  wasted = True              neg : pos    =      5.6 : 1.0\n",
      "                    lame = True              neg : pos    =      5.5 : 1.0\n",
      "                   waste = True              neg : pos    =      5.5 : 1.0\n",
      "              ridiculous = True              neg : pos    =      5.0 : 1.0\n"
     ]
    }
   ],
   "source": [
    "print(\"Accuracy:\", nltk.classify.accuracy(classifier, test_set))\n",
    "classifier.show_most_informative_features(10)"
   ]
  },
  {
   "cell_type": "markdown",
   "id": "c73e5638",
   "metadata": {},
   "source": [
    "## 💬 Step 6: Try Custom Sentiment Predictions"
   ]
  },
  {
   "cell_type": "code",
   "execution_count": 13,
   "id": "29287dd7",
   "metadata": {},
   "outputs": [
    {
     "name": "stdout",
     "output_type": "stream",
     "text": [
      "Sentiment: neg\n"
     ]
    }
   ],
   "source": [
    "custom_review = \"This movie was absolutely fantastic, with amazing acting and a great story!\"\n",
    "custom_tokens = custom_review.lower().split()\n",
    "features = document_features(custom_tokens)\n",
    "print(\"Sentiment:\", classifier.classify(features))"
   ]
  }
 ],
 "metadata": {
  "kernelspec": {
   "display_name": "Python 3 (ipykernel)",
   "language": "python",
   "name": "python3"
  },
  "language_info": {
   "codemirror_mode": {
    "name": "ipython",
    "version": 3
   },
   "file_extension": ".py",
   "mimetype": "text/x-python",
   "name": "python",
   "nbconvert_exporter": "python",
   "pygments_lexer": "ipython3",
   "version": "3.12.7"
  }
 },
 "nbformat": 4,
 "nbformat_minor": 5
}

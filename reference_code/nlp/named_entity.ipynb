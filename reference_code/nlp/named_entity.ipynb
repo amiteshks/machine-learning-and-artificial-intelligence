{
 "cells": [
  {
   "cell_type": "code",
   "execution_count": 28,
   "id": "7b0b93b3-320b-46bf-a065-adf50ece32c5",
   "metadata": {},
   "outputs": [
    {
     "name": "stdout",
     "output_type": "stream",
     "text": [
      "Requirement already satisfied: nltk in /opt/anaconda3/lib/python3.12/site-packages (3.9.1)\n",
      "Requirement already satisfied: click in /opt/anaconda3/lib/python3.12/site-packages (from nltk) (8.1.7)\n",
      "Requirement already satisfied: joblib in /opt/anaconda3/lib/python3.12/site-packages (from nltk) (1.4.2)\n",
      "Requirement already satisfied: regex>=2021.8.3 in /opt/anaconda3/lib/python3.12/site-packages (from nltk) (2024.9.11)\n",
      "Requirement already satisfied: tqdm in /opt/anaconda3/lib/python3.12/site-packages (from nltk) (4.66.5)\n",
      "Note: you may need to restart the kernel to use updated packages.\n"
     ]
    }
   ],
   "source": [
    "%pip install nltk"
   ]
  },
  {
   "cell_type": "code",
   "execution_count": 29,
   "id": "fa734ec0-bc03-48c2-a710-dd1adacd9e56",
   "metadata": {},
   "outputs": [],
   "source": [
    "import nltk\n",
    "# nltk.download('averaged_perceptron_tagger_eng')\n",
    "# nltk.download('maxent_ne_chunker_tab')"
   ]
  },
  {
   "cell_type": "code",
   "execution_count": 30,
   "id": "222f7f9b-6fb2-4491-ad8e-7d9ee842529c",
   "metadata": {},
   "outputs": [
    {
     "name": "stderr",
     "output_type": "stream",
     "text": [
      "[nltk_data] Downloading package punkt to\n",
      "[nltk_data]     /Users/amiteshsinha/nltk_data...\n",
      "[nltk_data]   Package punkt is already up-to-date!\n",
      "[nltk_data] Downloading package averaged_perceptron_tagger to\n",
      "[nltk_data]     /Users/amiteshsinha/nltk_data...\n",
      "[nltk_data]   Package averaged_perceptron_tagger is already up-to-\n",
      "[nltk_data]       date!\n",
      "[nltk_data] Downloading package maxent_ne_chunker to\n",
      "[nltk_data]     /Users/amiteshsinha/nltk_data...\n",
      "[nltk_data]   Package maxent_ne_chunker is already up-to-date!\n",
      "[nltk_data] Downloading package words to\n",
      "[nltk_data]     /Users/amiteshsinha/nltk_data...\n",
      "[nltk_data]   Package words is already up-to-date!\n"
     ]
    },
    {
     "data": {
      "text/plain": [
       "True"
      ]
     },
     "execution_count": 30,
     "metadata": {},
     "output_type": "execute_result"
    }
   ],
   "source": [
    "# One-time download (run only once)\n",
    "nltk.download('punkt')\n",
    "nltk.download('averaged_perceptron_tagger')\n",
    "nltk.download('maxent_ne_chunker')\n",
    "nltk.download('words')"
   ]
  },
  {
   "cell_type": "code",
   "execution_count": 31,
   "id": "aaad2833-b637-4103-bfc3-25c432a52366",
   "metadata": {},
   "outputs": [
    {
     "name": "stdout",
     "output_type": "stream",
     "text": [
      "['This', 'contract', 'is', 'between', 'GreenTech', 'Inc.', 'based', 'in', 'San', 'Francisco', ',', 'and', 'John', 'Doe', ',', 'who', 'will', 'represent', 'EcoWorld', 'LLC', 'located', 'in', 'Austin', ',', 'Texas', '.']\n"
     ]
    },
    {
     "data": {
      "text/plain": [
       "[('This', 'DT'),\n",
       " ('contract', 'NN'),\n",
       " ('is', 'VBZ'),\n",
       " ('between', 'IN'),\n",
       " ('GreenTech', 'NNP'),\n",
       " ('Inc.', 'NNP'),\n",
       " ('based', 'VBN'),\n",
       " ('in', 'IN'),\n",
       " ('San', 'NNP'),\n",
       " ('Francisco', 'NNP'),\n",
       " (',', ','),\n",
       " ('and', 'CC'),\n",
       " ('John', 'NNP'),\n",
       " ('Doe', 'NNP'),\n",
       " (',', ','),\n",
       " ('who', 'WP'),\n",
       " ('will', 'MD'),\n",
       " ('represent', 'VB'),\n",
       " ('EcoWorld', 'NNP'),\n",
       " ('LLC', 'NNP'),\n",
       " ('located', 'VBN'),\n",
       " ('in', 'IN'),\n",
       " ('Austin', 'NNP'),\n",
       " (',', ','),\n",
       " ('Texas', 'NNP'),\n",
       " ('.', '.')]"
      ]
     },
     "execution_count": 31,
     "metadata": {},
     "output_type": "execute_result"
    }
   ],
   "source": [
    "# Step 1: Text input\n",
    "text = \"\"\"\n",
    "This contract is between GreenTech Inc. based in San Francisco, and John Doe,\n",
    "who will represent EcoWorld LLC located in Austin, Texas.\n",
    "\"\"\"\n",
    "\n",
    "# Step 2: Break text into words and label parts of speech\n",
    "words = nltk.word_tokenize(text)\n",
    "\n",
    "print (words)\n",
    "\n",
    "tagged_words = nltk.pos_tag(words)\n",
    "\n",
    "tagged_words"
   ]
  },
  {
   "cell_type": "code",
   "execution_count": 41,
   "id": "e77f2aea-3a99-401f-95bb-d16a784c53ed",
   "metadata": {},
   "outputs": [
    {
     "name": "stdout",
     "output_type": "stream",
     "text": [
      "(S\n",
      "  This/DT\n",
      "  contract/NN\n",
      "  is/VBZ\n",
      "  between/IN\n",
      "  (ORGANIZATION GreenTech/NNP Inc./NNP)\n",
      "  based/VBN\n",
      "  in/IN\n",
      "  (GPE San/NNP Francisco/NNP)\n",
      "  ,/,\n",
      "  and/CC\n",
      "  (PERSON John/NNP Doe/NNP)\n",
      "  ,/,\n",
      "  who/WP\n",
      "  will/MD\n",
      "  represent/VB\n",
      "  (ORGANIZATION EcoWorld/NNP)\n",
      "  LLC/NNP\n",
      "  located/VBN\n",
      "  in/IN\n",
      "  (GPE Austin/NNP)\n",
      "  ,/,\n",
      "  (GPE Texas/NNP)\n",
      "  ./.)\n"
     ]
    }
   ],
   "source": [
    "# Step 3: Identify named entities\n",
    "ner_tree = nltk.ne_chunk(tagged_words)\n",
    "print (ner_tree)"
   ]
  },
  {
   "cell_type": "code",
   "execution_count": 85,
   "id": "910f091a-0515-4439-ae17-1cf3975b770d",
   "metadata": {},
   "outputs": [
    {
     "name": "stdout",
     "output_type": "stream",
     "text": [
      "Named Entities Found:\n",
      "-------\n",
      "(ORGANIZATION GreenTech/NNP Inc./NNP)\n",
      "GreenTechInc. → ORGANIZATION\n",
      "-------\n",
      "(GPE San/NNP Francisco/NNP)\n",
      "SanFrancisco → GPE\n",
      "-------\n",
      "(PERSON John/NNP Doe/NNP)\n",
      "JohnDoe → PERSON\n",
      "-------\n",
      "(ORGANIZATION EcoWorld/NNP)\n",
      "EcoWorld → ORGANIZATION\n",
      "-------\n",
      "(GPE Austin/NNP)\n",
      "Austin → GPE\n",
      "-------\n",
      "(GPE Texas/NNP)\n",
      "Texas → GPE\n"
     ]
    }
   ],
   "source": [
    "# Step 4: Print named entities\n",
    "print(\"Named Entities Found:\")\n",
    "for chunk in ner_tree:\n",
    "    if hasattr(chunk, 'label'):\n",
    "        print (\"-------\")\n",
    "        print (chunk)\n",
    "        \n",
    "        # print (name)\n",
    "        name = \"\"\n",
    "        entity_type = chunk.label()\n",
    "        # print (entity_type)\n",
    "        for c in chunk:\n",
    "            # print (f\"c: {c}\")\n",
    "            name += c[0]\n",
    "\n",
    "        print(f\"{name} → {entity_type}\")"
   ]
  },
  {
   "cell_type": "code",
   "execution_count": null,
   "id": "5026f950-ff43-4f03-a239-c95fcba73d3e",
   "metadata": {},
   "outputs": [],
   "source": []
  },
  {
   "cell_type": "code",
   "execution_count": null,
   "id": "2af89d18-30e0-4a07-af45-fef76995a7cc",
   "metadata": {},
   "outputs": [],
   "source": []
  }
 ],
 "metadata": {
  "kernelspec": {
   "display_name": "Python 3 (ipykernel)",
   "language": "python",
   "name": "python3"
  },
  "language_info": {
   "codemirror_mode": {
    "name": "ipython",
    "version": 3
   },
   "file_extension": ".py",
   "mimetype": "text/x-python",
   "name": "python",
   "nbconvert_exporter": "python",
   "pygments_lexer": "ipython3",
   "version": "3.12.7"
  }
 },
 "nbformat": 4,
 "nbformat_minor": 5
}

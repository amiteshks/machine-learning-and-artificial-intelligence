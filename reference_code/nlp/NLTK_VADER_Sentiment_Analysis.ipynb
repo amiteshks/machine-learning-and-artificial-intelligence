{
 "cells": [
  {
   "cell_type": "markdown",
   "id": "6099dd72",
   "metadata": {},
   "source": [
    "# 🧠 Sentiment Analysis using NLTK (with VADER)\n",
    "This notebook demonstrates sentiment analysis using VADER, a lexicon and rule-based sentiment analysis tool specifically designed for social media text and reviews."
   ]
  },
  {
   "cell_type": "markdown",
   "id": "79670313",
   "metadata": {},
   "source": [
    "## 📦 Step 1: Install & Import Libraries"
   ]
  },
  {
   "cell_type": "code",
   "execution_count": 4,
   "id": "0810da84",
   "metadata": {},
   "outputs": [
    {
     "name": "stderr",
     "output_type": "stream",
     "text": [
      "[nltk_data] Downloading package vader_lexicon to\n",
      "[nltk_data]     /Users/amiteshsinha/nltk_data...\n"
     ]
    },
    {
     "data": {
      "text/plain": [
       "True"
      ]
     },
     "execution_count": 4,
     "metadata": {},
     "output_type": "execute_result"
    }
   ],
   "source": [
    "import nltk\n",
    "from nltk.sentiment import SentimentIntensityAnalyzer\n",
    "\n",
    "# Download VADER lexicon\n",
    "nltk.download('vader_lexicon')"
   ]
  },
  {
   "cell_type": "markdown",
   "id": "882492ad",
   "metadata": {},
   "source": [
    "## ⚙️ Step 2: Initialize Sentiment Analyzer"
   ]
  },
  {
   "cell_type": "code",
   "execution_count": 6,
   "id": "29e88180",
   "metadata": {},
   "outputs": [],
   "source": [
    "sia = SentimentIntensityAnalyzer()"
   ]
  },
  {
   "cell_type": "markdown",
   "id": "0dfcef63",
   "metadata": {},
   "source": [
    "## 💬 Step 3: Analyze Sample Reviews"
   ]
  },
  {
   "cell_type": "code",
   "execution_count": 8,
   "id": "f77acd65",
   "metadata": {},
   "outputs": [
    {
     "name": "stdout",
     "output_type": "stream",
     "text": [
      "Review: This movie was absolutely fantastic, with amazing acting and a great story!\n",
      "Sentiment: Positive, Scores: {'neg': 0.0, 'neu': 0.393, 'pos': 0.607, 'compound': 0.9239}\n",
      "\n",
      "Review: The plot was dull and the characters were boring.\n",
      "Sentiment: Negative, Scores: {'neg': 0.417, 'neu': 0.583, 'pos': 0.0, 'compound': -0.6124}\n",
      "\n",
      "Review: I have mixed feelings about the movie. Some parts were good, others not so much.\n",
      "Sentiment: Neutral, Scores: {'neg': 0.0, 'neu': 0.818, 'pos': 0.182, 'compound': 0.4404}\n",
      "\n",
      "Review: Best film I’ve seen this year! Would highly recommend.\n",
      "Sentiment: Positive, Scores: {'neg': 0.0, 'neu': 0.49, 'pos': 0.51, 'compound': 0.8066}\n",
      "\n",
      "Review: Terrible! I want my money back.\n",
      "Sentiment: Neutral, Scores: {'neg': 0.441, 'neu': 0.39, 'pos': 0.169, 'compound': -0.4753}\n",
      "\n"
     ]
    }
   ],
   "source": [
    "reviews = [\n",
    "    \"This movie was absolutely fantastic, with amazing acting and a great story!\",\n",
    "    \"The plot was dull and the characters were boring.\",\n",
    "    \"I have mixed feelings about the movie. Some parts were good, others not so much.\",\n",
    "    \"Best film I’ve seen this year! Would highly recommend.\",\n",
    "    \"Terrible! I want my money back.\"\n",
    "]\n",
    "\n",
    "for review in reviews:\n",
    "    scores = sia.polarity_scores(review)\n",
    "    sentiment = \"Positive\" if scores[\"compound\"] > 0.5 else \"Negative\" if scores[\"compound\"] < -0.5 else \"Neutral\"\n",
    "    print(f\"Review: {review}\\nSentiment: {sentiment}, Scores: {scores}\\n\")"
   ]
  },
  {
   "cell_type": "markdown",
   "id": "10e9a001",
   "metadata": {},
   "source": [
    "## ✏️ Step 4: Test Your Own Review"
   ]
  },
  {
   "cell_type": "code",
   "execution_count": 15,
   "id": "29e8060d",
   "metadata": {},
   "outputs": [
    {
     "name": "stdout",
     "output_type": "stream",
     "text": [
      "Review: amazing movie\n",
      "Sentiment: Positive, Scores: {'neg': 0.0, 'neu': 0.208, 'pos': 0.792, 'compound': 0.5859}\n"
     ]
    }
   ],
   "source": [
    "your_review = \"amazing movie\"\n",
    "scores = sia.polarity_scores(your_review)\n",
    "sentiment = \"Positive\" if scores[\"compound\"] > 0.5 else \"Negative\" if scores[\"compound\"] < -0.5 else \"Neutral\"\n",
    "print(f\"Review: {your_review}\\nSentiment: {sentiment}, Scores: {scores}\")"
   ]
  },
  {
   "cell_type": "code",
   "execution_count": null,
   "id": "953e5be9-7bc4-4d83-bf60-8b1cbb57ad69",
   "metadata": {},
   "outputs": [],
   "source": []
  }
 ],
 "metadata": {
  "kernelspec": {
   "display_name": "Python 3 (ipykernel)",
   "language": "python",
   "name": "python3"
  },
  "language_info": {
   "codemirror_mode": {
    "name": "ipython",
    "version": 3
   },
   "file_extension": ".py",
   "mimetype": "text/x-python",
   "name": "python",
   "nbconvert_exporter": "python",
   "pygments_lexer": "ipython3",
   "version": "3.12.7"
  }
 },
 "nbformat": 4,
 "nbformat_minor": 5
}

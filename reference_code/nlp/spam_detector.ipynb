{
 "cells": [
  {
   "cell_type": "code",
   "execution_count": 2,
   "id": "0085fe0c-96d8-4ceb-b161-0d0a79e1416c",
   "metadata": {},
   "outputs": [
    {
     "name": "stderr",
     "output_type": "stream",
     "text": [
      "[nltk_data] Downloading package punkt to\n",
      "[nltk_data]     /Users/amiteshsinha/nltk_data...\n",
      "[nltk_data]   Package punkt is already up-to-date!\n",
      "[nltk_data] Downloading package stopwords to\n",
      "[nltk_data]     /Users/amiteshsinha/nltk_data...\n",
      "[nltk_data]   Package stopwords is already up-to-date!\n"
     ]
    },
    {
     "data": {
      "text/plain": [
       "True"
      ]
     },
     "execution_count": 2,
     "metadata": {},
     "output_type": "execute_result"
    }
   ],
   "source": [
    "import nltk\n",
    "nltk.download('punkt')\n",
    "nltk.download('stopwords')\n"
   ]
  },
  {
   "cell_type": "code",
   "execution_count": 6,
   "id": "ce8a8e3d-009d-4851-836b-d0b3bff25056",
   "metadata": {},
   "outputs": [],
   "source": [
    "import nltk\n",
    "from nltk.corpus import stopwords\n",
    "from nltk.tokenize import word_tokenize\n",
    "from nltk.classify import NaiveBayesClassifier\n",
    "from nltk.classify.util import accuracy\n",
    "import random\n",
    "\n",
    "# Sample data\n",
    "messages = [\n",
    "    (\"Win money now!!!\", \"spam\"),\n",
    "    (\"Hi, can we meet for lunch?\", \"ham\"),\n",
    "    (\"Exclusive deal just for you\", \"spam\"),\n",
    "    (\"Don't forget the meeting at 10am\", \"ham\"),\n",
    "    (\"Limited offer: Get your prize now\", \"spam\"),\n",
    "    (\"Let’s catch up later this week\", \"ham\"),\n",
    "    (\"Congratulations! You've been selected\", \"spam\"),\n",
    "    (\"See you at the conference tomorrow\", \"ham\"),\n",
    "    (\"Claim your free gift card\", \"spam\"),\n",
    "    (\"Are you joining the team dinner tonight?\", \"ham\")\n",
    "]\n"
   ]
  },
  {
   "cell_type": "code",
   "execution_count": 12,
   "id": "42a99d47-7c37-40ba-9c66-13a7a2450f68",
   "metadata": {},
   "outputs": [
    {
     "data": {
      "text/plain": [
       "[({'contains(exclusive)': True, 'contains(deal)': True}, 'spam'),\n",
       " ({'contains(win)': True, 'contains(money)': True}, 'spam'),\n",
       " ({'contains(claim)': True,\n",
       "   'contains(free)': True,\n",
       "   'contains(gift)': True,\n",
       "   'contains(card)': True},\n",
       "  'spam'),\n",
       " ({'contains(see)': True,\n",
       "   'contains(conference)': True,\n",
       "   'contains(tomorrow)': True},\n",
       "  'ham'),\n",
       " ({'contains(forget)': True, 'contains(meeting)': True}, 'ham'),\n",
       " ({'contains(joining)': True,\n",
       "   'contains(team)': True,\n",
       "   'contains(dinner)': True,\n",
       "   'contains(tonight)': True},\n",
       "  'ham'),\n",
       " ({'contains(hi)': True, 'contains(meet)': True, 'contains(lunch)': True},\n",
       "  'ham'),\n",
       " ({'contains(congratulations)': True, 'contains(selected)': True}, 'spam'),\n",
       " ({'contains(let)': True,\n",
       "   'contains(catch)': True,\n",
       "   'contains(later)': True,\n",
       "   'contains(week)': True},\n",
       "  'ham'),\n",
       " ({'contains(limited)': True,\n",
       "   'contains(offer)': True,\n",
       "   'contains(get)': True,\n",
       "   'contains(prize)': True},\n",
       "  'spam')]"
      ]
     },
     "execution_count": 12,
     "metadata": {},
     "output_type": "execute_result"
    }
   ],
   "source": [
    "# Preprocessing function\n",
    "stop_words = set(stopwords.words('english'))\n",
    "\n",
    "def message_features(message):\n",
    "    words = word_tokenize(message.lower())\n",
    "    return {f\"contains({word})\": True for word in words if word.isalpha() and word not in stop_words}\n",
    "\n",
    "# Create feature sets\n",
    "feature_sets = [(message_features(text), label) for (text, label) in messages]\n",
    "random.shuffle(feature_sets)\n",
    "feature_sets"
   ]
  },
  {
   "cell_type": "code",
   "execution_count": 10,
   "id": "512567ef-c7c3-4319-93ee-21a4dd602ff3",
   "metadata": {},
   "outputs": [],
   "source": [
    "# Train-test split\n",
    "train_set, test_set = feature_sets[:7], feature_sets[7:]\n",
    "\n",
    "# Train the classifier\n",
    "classifier = NaiveBayesClassifier.train(train_set)\n"
   ]
  },
  {
   "cell_type": "code",
   "execution_count": 15,
   "id": "0c986da7-3d2d-4dd3-a5b0-60b01e8611d4",
   "metadata": {},
   "outputs": [
    {
     "name": "stdout",
     "output_type": "stream",
     "text": [
      "Accuracy: 0.3333333333333333\n",
      "Most Informative Features\n",
      "         contains(catch) = None             spam : ham    =      1.4 : 1.0\n",
      "        contains(dinner) = None             spam : ham    =      1.4 : 1.0\n",
      "        contains(forget) = None             spam : ham    =      1.4 : 1.0\n",
      "       contains(joining) = None             spam : ham    =      1.4 : 1.0\n",
      "         contains(later) = None             spam : ham    =      1.4 : 1.0\n"
     ]
    }
   ],
   "source": [
    "\n",
    "# Evaluate\n",
    "print(\"Accuracy:\", accuracy(classifier, test_set))\n",
    "classifier.show_most_informative_features(5)\n"
   ]
  },
  {
   "cell_type": "code",
   "execution_count": 17,
   "id": "214f8689-1d23-4f5e-b37a-603f22df83b4",
   "metadata": {},
   "outputs": [
    {
     "name": "stdout",
     "output_type": "stream",
     "text": [
      "Message: 'Win a free iPhone now!'\n",
      "Prediction: spam\n"
     ]
    }
   ],
   "source": [
    "\n",
    "\n",
    "# Predict a custom message\n",
    "custom_message = \"Win a free iPhone now!\"\n",
    "features = message_features(custom_message)\n",
    "prediction = classifier.classify(features)\n",
    "\n",
    "print(f\"Message: '{custom_message}'\\nPrediction: {prediction}\")\n"
   ]
  },
  {
   "cell_type": "code",
   "execution_count": null,
   "id": "56b1bb4a-7605-42cb-aeed-a16b8eb5c774",
   "metadata": {},
   "outputs": [],
   "source": []
  }
 ],
 "metadata": {
  "kernelspec": {
   "display_name": "Python 3 (ipykernel)",
   "language": "python",
   "name": "python3"
  },
  "language_info": {
   "codemirror_mode": {
    "name": "ipython",
    "version": 3
   },
   "file_extension": ".py",
   "mimetype": "text/x-python",
   "name": "python",
   "nbconvert_exporter": "python",
   "pygments_lexer": "ipython3",
   "version": "3.12.7"
  }
 },
 "nbformat": 4,
 "nbformat_minor": 5
}

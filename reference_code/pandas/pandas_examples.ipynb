{
 "cells": [
  {
   "cell_type": "code",
   "execution_count": 2,
   "id": "e8cf3a74-89b6-44b2-afd8-d5e5385413f7",
   "metadata": {},
   "outputs": [],
   "source": [
    "# pip install pandas"
   ]
  },
  {
   "cell_type": "code",
   "execution_count": 3,
   "id": "80149bea-8b12-419c-87a1-d0a33c77bd1e",
   "metadata": {},
   "outputs": [],
   "source": [
    "import pandas as pd"
   ]
  },
  {
   "cell_type": "code",
   "execution_count": 4,
   "id": "e69b83f8-de1e-4692-930f-ad513509db6c",
   "metadata": {},
   "outputs": [
    {
     "data": {
      "text/plain": [
       "a    1\n",
       "b    2\n",
       "c    3\n",
       "dtype: int64"
      ]
     },
     "execution_count": 4,
     "metadata": {},
     "output_type": "execute_result"
    }
   ],
   "source": [
    "s = pd.Series(data=[1,2,3], index=['a', 'b','c'])\n",
    "s"
   ]
  },
  {
   "cell_type": "code",
   "execution_count": 5,
   "id": "63795180-d8f4-4bdf-9568-22d1d7a6f857",
   "metadata": {},
   "outputs": [
    {
     "data": {
      "text/plain": [
       "a    1.0\n",
       "b    2.0\n",
       "c    3.0\n",
       "dtype: float64"
      ]
     },
     "execution_count": 5,
     "metadata": {},
     "output_type": "execute_result"
    }
   ],
   "source": [
    "s = pd.Series(data=[1,2,3], index=['a', 'b','c'], dtype=float)\n",
    "s"
   ]
  },
  {
   "attachments": {
    "e86d2a88-e32d-4db0-bdec-08a0359b14bd.png": {
     "image/png": "[encoded data removed]"
    }
   },
   "cell_type": "markdown",
   "id": "1e589ae9-8aad-46ff-aa61-b450ef38b066",
   "metadata": {},
   "source": [
    "#### Data\n",
    "![image.png](attachment:e86d2a88-e32d-4db0-bdec-08a0359b14bd.png)"
   ]
  },
  {
   "cell_type": "code",
   "execution_count": 7,
   "id": "3e893c92-064d-4dcf-8872-23adf1881714",
   "metadata": {},
   "outputs": [
    {
     "data": {
      "text/plain": [
       "{'city': ['Dublin', 'Palo Alto', 'Fremont'],\n",
       " 'state': ['CA', 'CA', 'CA'],\n",
       " 'median_home_price_in_million': [1.5, 2, 1.7]}"
      ]
     },
     "execution_count": 7,
     "metadata": {},
     "output_type": "execute_result"
    }
   ],
   "source": [
    "data = {\n",
    "    'city': ['Dublin', 'Palo Alto', 'Fremont'],\n",
    "    'state': ['CA','CA','CA'],\n",
    "    'median_home_price_in_million': [1.5, 2, 1.7]\n",
    "}\n",
    "data"
   ]
  },
  {
   "cell_type": "code",
   "execution_count": 8,
   "id": "e32e1cc9-4fe3-46de-939d-1eab3b35a00a",
   "metadata": {},
   "outputs": [
    {
     "data": {
      "text/html": [
       "<div>\n",
       "<style scoped>\n",
       "    .dataframe tbody tr th:only-of-type {\n",
       "        vertical-align: middle;\n",
       "    }\n",
       "\n",
       "    .dataframe tbody tr th {\n",
       "        vertical-align: top;\n",
       "    }\n",
       "\n",
       "    .dataframe thead th {\n",
       "        text-align: right;\n",
       "    }\n",
       "</style>\n",
       "<table border=\"1\" class=\"dataframe\">\n",
       "  <thead>\n",
       "    <tr style=\"text-align: right;\">\n",
       "      <th></th>\n",
       "      <th>city</th>\n",
       "      <th>state</th>\n",
       "      <th>median_home_price_in_million</th>\n",
       "    </tr>\n",
       "  </thead>\n",
       "  <tbody>\n",
       "    <tr>\n",
       "      <th>0</th>\n",
       "      <td>Dublin</td>\n",
       "      <td>CA</td>\n",
       "      <td>1.5</td>\n",
       "    </tr>\n",
       "    <tr>\n",
       "      <th>1</th>\n",
       "      <td>Palo Alto</td>\n",
       "      <td>CA</td>\n",
       "      <td>2.0</td>\n",
       "    </tr>\n",
       "    <tr>\n",
       "      <th>2</th>\n",
       "      <td>Fremont</td>\n",
       "      <td>CA</td>\n",
       "      <td>1.7</td>\n",
       "    </tr>\n",
       "  </tbody>\n",
       "</table>\n",
       "</div>"
      ],
      "text/plain": [
       "        city state  median_home_price_in_million\n",
       "0     Dublin    CA                           1.5\n",
       "1  Palo Alto    CA                           2.0\n",
       "2    Fremont    CA                           1.7"
      ]
     },
     "execution_count": 8,
     "metadata": {},
     "output_type": "execute_result"
    }
   ],
   "source": [
    "dataframe = pd.DataFrame(data)\n",
    "dataframe"
   ]
  },
  {
   "cell_type": "code",
   "execution_count": 9,
   "id": "9bfdb6f0-ab41-4032-84d5-674954beca81",
   "metadata": {},
   "outputs": [
    {
     "name": "stdout",
     "output_type": "stream",
     "text": [
      "        city state  median_home_price_in_million\n",
      "0     Dublin    CA                           1.5\n",
      "1  Palo Alto    CA                           2.0\n",
      "2    Fremont    CA                           1.7\n"
     ]
    }
   ],
   "source": [
    "print (dataframe)"
   ]
  },
  {
   "cell_type": "markdown",
   "id": "35b74cab-fa71-4b6c-9f44-ffddcad6dca8",
   "metadata": {},
   "source": [
    "### Reading Data"
   ]
  },
  {
   "cell_type": "code",
   "execution_count": 11,
   "id": "32693744-0c31-44eb-a99f-b70f33cdbb41",
   "metadata": {},
   "outputs": [
    {
     "data": {
      "text/html": [
       "<div>\n",
       "<style scoped>\n",
       "    .dataframe tbody tr th:only-of-type {\n",
       "        vertical-align: middle;\n",
       "    }\n",
       "\n",
       "    .dataframe tbody tr th {\n",
       "        vertical-align: top;\n",
       "    }\n",
       "\n",
       "    .dataframe thead th {\n",
       "        text-align: right;\n",
       "    }\n",
       "</style>\n",
       "<table border=\"1\" class=\"dataframe\">\n",
       "  <thead>\n",
       "    <tr style=\"text-align: right;\">\n",
       "      <th></th>\n",
       "      <th>city</th>\n",
       "      <th>state</th>\n",
       "      <th>median_home_price_in_million</th>\n",
       "    </tr>\n",
       "  </thead>\n",
       "  <tbody>\n",
       "    <tr>\n",
       "      <th>0</th>\n",
       "      <td>Dublin</td>\n",
       "      <td>CA</td>\n",
       "      <td>1.5</td>\n",
       "    </tr>\n",
       "    <tr>\n",
       "      <th>1</th>\n",
       "      <td>Palo Alto</td>\n",
       "      <td>CA</td>\n",
       "      <td>2.0</td>\n",
       "    </tr>\n",
       "    <tr>\n",
       "      <th>2</th>\n",
       "      <td>Fremont</td>\n",
       "      <td>CA</td>\n",
       "      <td>1.7</td>\n",
       "    </tr>\n",
       "    <tr>\n",
       "      <th>3</th>\n",
       "      <td>Reno</td>\n",
       "      <td>NV</td>\n",
       "      <td>0.8</td>\n",
       "    </tr>\n",
       "    <tr>\n",
       "      <th>4</th>\n",
       "      <td>Sunnyvale</td>\n",
       "      <td>CA</td>\n",
       "      <td>2.1</td>\n",
       "    </tr>\n",
       "    <tr>\n",
       "      <th>5</th>\n",
       "      <td>Las Vegas</td>\n",
       "      <td>NV</td>\n",
       "      <td>0.7</td>\n",
       "    </tr>\n",
       "    <tr>\n",
       "      <th>6</th>\n",
       "      <td>Carson City</td>\n",
       "      <td>NV</td>\n",
       "      <td>1.9</td>\n",
       "    </tr>\n",
       "    <tr>\n",
       "      <th>7</th>\n",
       "      <td>Milpitas</td>\n",
       "      <td>CA</td>\n",
       "      <td>1.4</td>\n",
       "    </tr>\n",
       "    <tr>\n",
       "      <th>8</th>\n",
       "      <td>Cupertino</td>\n",
       "      <td>CA</td>\n",
       "      <td>2.5</td>\n",
       "    </tr>\n",
       "    <tr>\n",
       "      <th>9</th>\n",
       "      <td>Pleasanton</td>\n",
       "      <td>CA</td>\n",
       "      <td>1.8</td>\n",
       "    </tr>\n",
       "    <tr>\n",
       "      <th>10</th>\n",
       "      <td>NYC</td>\n",
       "      <td>NY</td>\n",
       "      <td>1.9</td>\n",
       "    </tr>\n",
       "    <tr>\n",
       "      <th>11</th>\n",
       "      <td>Ithica</td>\n",
       "      <td>NY</td>\n",
       "      <td>0.5</td>\n",
       "    </tr>\n",
       "    <tr>\n",
       "      <th>12</th>\n",
       "      <td>Buffalo</td>\n",
       "      <td>NY</td>\n",
       "      <td>0.6</td>\n",
       "    </tr>\n",
       "    <tr>\n",
       "      <th>13</th>\n",
       "      <td>Hayward</td>\n",
       "      <td>CA</td>\n",
       "      <td>1.1</td>\n",
       "    </tr>\n",
       "    <tr>\n",
       "      <th>14</th>\n",
       "      <td>Union City</td>\n",
       "      <td>NH</td>\n",
       "      <td>1.3</td>\n",
       "    </tr>\n",
       "    <tr>\n",
       "      <th>15</th>\n",
       "      <td>Concord</td>\n",
       "      <td>NH</td>\n",
       "      <td>0.5</td>\n",
       "    </tr>\n",
       "    <tr>\n",
       "      <th>16</th>\n",
       "      <td>Merrimack</td>\n",
       "      <td>NH</td>\n",
       "      <td>0.7</td>\n",
       "    </tr>\n",
       "    <tr>\n",
       "      <th>17</th>\n",
       "      <td>San Mateo</td>\n",
       "      <td>CA</td>\n",
       "      <td>2.2</td>\n",
       "    </tr>\n",
       "    <tr>\n",
       "      <th>18</th>\n",
       "      <td>Los Altos</td>\n",
       "      <td>CA</td>\n",
       "      <td>3.0</td>\n",
       "    </tr>\n",
       "    <tr>\n",
       "      <th>19</th>\n",
       "      <td>Campbell</td>\n",
       "      <td>CA</td>\n",
       "      <td>1.7</td>\n",
       "    </tr>\n",
       "  </tbody>\n",
       "</table>\n",
       "</div>"
      ],
      "text/plain": [
       "           city state  median_home_price_in_million\n",
       "0        Dublin    CA                           1.5\n",
       "1     Palo Alto    CA                           2.0\n",
       "2       Fremont    CA                           1.7\n",
       "3          Reno    NV                           0.8\n",
       "4     Sunnyvale    CA                           2.1\n",
       "5     Las Vegas    NV                           0.7\n",
       "6   Carson City    NV                           1.9\n",
       "7      Milpitas    CA                           1.4\n",
       "8     Cupertino    CA                           2.5\n",
       "9    Pleasanton    CA                           1.8\n",
       "10          NYC    NY                           1.9\n",
       "11       Ithica    NY                           0.5\n",
       "12      Buffalo    NY                           0.6\n",
       "13      Hayward    CA                           1.1\n",
       "14   Union City    NH                           1.3\n",
       "15      Concord    NH                           0.5\n",
       "16    Merrimack    NH                           0.7\n",
       "17    San Mateo    CA                           2.2\n",
       "18    Los Altos    CA                           3.0\n",
       "19     Campbell    CA                           1.7"
      ]
     },
     "execution_count": 11,
     "metadata": {},
     "output_type": "execute_result"
    }
   ],
   "source": [
    "df = pd.read_csv('data/housing_data.csv')\n",
    "df"
   ]
  },
  {
   "cell_type": "code",
   "execution_count": 12,
   "id": "1a21edc8-c245-46e2-b590-f48d771edf8a",
   "metadata": {},
   "outputs": [
    {
     "data": {
      "text/html": [
       "<div>\n",
       "<style scoped>\n",
       "    .dataframe tbody tr th:only-of-type {\n",
       "        vertical-align: middle;\n",
       "    }\n",
       "\n",
       "    .dataframe tbody tr th {\n",
       "        vertical-align: top;\n",
       "    }\n",
       "\n",
       "    .dataframe thead th {\n",
       "        text-align: right;\n",
       "    }\n",
       "</style>\n",
       "<table border=\"1\" class=\"dataframe\">\n",
       "  <thead>\n",
       "    <tr style=\"text-align: right;\">\n",
       "      <th></th>\n",
       "      <th>city</th>\n",
       "      <th>state</th>\n",
       "      <th>median_home_price_in_million</th>\n",
       "    </tr>\n",
       "  </thead>\n",
       "  <tbody>\n",
       "    <tr>\n",
       "      <th>0</th>\n",
       "      <td>Dublin</td>\n",
       "      <td>CA</td>\n",
       "      <td>1.5</td>\n",
       "    </tr>\n",
       "    <tr>\n",
       "      <th>1</th>\n",
       "      <td>Palo Alto</td>\n",
       "      <td>CA</td>\n",
       "      <td>2.0</td>\n",
       "    </tr>\n",
       "    <tr>\n",
       "      <th>2</th>\n",
       "      <td>Fremont</td>\n",
       "      <td>CA</td>\n",
       "      <td>1.7</td>\n",
       "    </tr>\n",
       "    <tr>\n",
       "      <th>3</th>\n",
       "      <td>Reno</td>\n",
       "      <td>NV</td>\n",
       "      <td>0.8</td>\n",
       "    </tr>\n",
       "    <tr>\n",
       "      <th>4</th>\n",
       "      <td>Sunnyvale</td>\n",
       "      <td>CA</td>\n",
       "      <td>2.1</td>\n",
       "    </tr>\n",
       "  </tbody>\n",
       "</table>\n",
       "</div>"
      ],
      "text/plain": [
       "        city state  median_home_price_in_million\n",
       "0     Dublin    CA                           1.5\n",
       "1  Palo Alto    CA                           2.0\n",
       "2    Fremont    CA                           1.7\n",
       "3       Reno    NV                           0.8\n",
       "4  Sunnyvale    CA                           2.1"
      ]
     },
     "execution_count": 12,
     "metadata": {},
     "output_type": "execute_result"
    }
   ],
   "source": [
    "df.head()"
   ]
  },
  {
   "cell_type": "code",
   "execution_count": 13,
   "id": "c138b62a-142e-4828-a5f5-c9d159b6df5e",
   "metadata": {},
   "outputs": [
    {
     "data": {
      "text/html": [
       "<div>\n",
       "<style scoped>\n",
       "    .dataframe tbody tr th:only-of-type {\n",
       "        vertical-align: middle;\n",
       "    }\n",
       "\n",
       "    .dataframe tbody tr th {\n",
       "        vertical-align: top;\n",
       "    }\n",
       "\n",
       "    .dataframe thead th {\n",
       "        text-align: right;\n",
       "    }\n",
       "</style>\n",
       "<table border=\"1\" class=\"dataframe\">\n",
       "  <thead>\n",
       "    <tr style=\"text-align: right;\">\n",
       "      <th></th>\n",
       "      <th>city</th>\n",
       "      <th>state</th>\n",
       "      <th>median_home_price_in_million</th>\n",
       "    </tr>\n",
       "  </thead>\n",
       "  <tbody>\n",
       "    <tr>\n",
       "      <th>0</th>\n",
       "      <td>Dublin</td>\n",
       "      <td>CA</td>\n",
       "      <td>1.5</td>\n",
       "    </tr>\n",
       "    <tr>\n",
       "      <th>1</th>\n",
       "      <td>Palo Alto</td>\n",
       "      <td>CA</td>\n",
       "      <td>2.0</td>\n",
       "    </tr>\n",
       "    <tr>\n",
       "      <th>2</th>\n",
       "      <td>Fremont</td>\n",
       "      <td>CA</td>\n",
       "      <td>1.7</td>\n",
       "    </tr>\n",
       "    <tr>\n",
       "      <th>3</th>\n",
       "      <td>Reno</td>\n",
       "      <td>NV</td>\n",
       "      <td>0.8</td>\n",
       "    </tr>\n",
       "    <tr>\n",
       "      <th>4</th>\n",
       "      <td>Sunnyvale</td>\n",
       "      <td>CA</td>\n",
       "      <td>2.1</td>\n",
       "    </tr>\n",
       "    <tr>\n",
       "      <th>5</th>\n",
       "      <td>Las Vegas</td>\n",
       "      <td>NV</td>\n",
       "      <td>0.7</td>\n",
       "    </tr>\n",
       "    <tr>\n",
       "      <th>6</th>\n",
       "      <td>Carson City</td>\n",
       "      <td>NV</td>\n",
       "      <td>1.9</td>\n",
       "    </tr>\n",
       "    <tr>\n",
       "      <th>7</th>\n",
       "      <td>Milpitas</td>\n",
       "      <td>CA</td>\n",
       "      <td>1.4</td>\n",
       "    </tr>\n",
       "    <tr>\n",
       "      <th>8</th>\n",
       "      <td>Cupertino</td>\n",
       "      <td>CA</td>\n",
       "      <td>2.5</td>\n",
       "    </tr>\n",
       "    <tr>\n",
       "      <th>9</th>\n",
       "      <td>Pleasanton</td>\n",
       "      <td>CA</td>\n",
       "      <td>1.8</td>\n",
       "    </tr>\n",
       "  </tbody>\n",
       "</table>\n",
       "</div>"
      ],
      "text/plain": [
       "          city state  median_home_price_in_million\n",
       "0       Dublin    CA                           1.5\n",
       "1    Palo Alto    CA                           2.0\n",
       "2      Fremont    CA                           1.7\n",
       "3         Reno    NV                           0.8\n",
       "4    Sunnyvale    CA                           2.1\n",
       "5    Las Vegas    NV                           0.7\n",
       "6  Carson City    NV                           1.9\n",
       "7     Milpitas    CA                           1.4\n",
       "8    Cupertino    CA                           2.5\n",
       "9   Pleasanton    CA                           1.8"
      ]
     },
     "execution_count": 13,
     "metadata": {},
     "output_type": "execute_result"
    }
   ],
   "source": [
    "df.head(10)"
   ]
  },
  {
   "cell_type": "code",
   "execution_count": 14,
   "id": "3d81653c-c393-4a42-86ae-27a88e9fff86",
   "metadata": {},
   "outputs": [
    {
     "data": {
      "text/html": [
       "<div>\n",
       "<style scoped>\n",
       "    .dataframe tbody tr th:only-of-type {\n",
       "        vertical-align: middle;\n",
       "    }\n",
       "\n",
       "    .dataframe tbody tr th {\n",
       "        vertical-align: top;\n",
       "    }\n",
       "\n",
       "    .dataframe thead th {\n",
       "        text-align: right;\n",
       "    }\n",
       "</style>\n",
       "<table border=\"1\" class=\"dataframe\">\n",
       "  <thead>\n",
       "    <tr style=\"text-align: right;\">\n",
       "      <th></th>\n",
       "      <th>city</th>\n",
       "      <th>state</th>\n",
       "      <th>median_home_price_in_million</th>\n",
       "    </tr>\n",
       "  </thead>\n",
       "  <tbody>\n",
       "    <tr>\n",
       "      <th>15</th>\n",
       "      <td>Concord</td>\n",
       "      <td>NH</td>\n",
       "      <td>0.5</td>\n",
       "    </tr>\n",
       "    <tr>\n",
       "      <th>16</th>\n",
       "      <td>Merrimack</td>\n",
       "      <td>NH</td>\n",
       "      <td>0.7</td>\n",
       "    </tr>\n",
       "    <tr>\n",
       "      <th>17</th>\n",
       "      <td>San Mateo</td>\n",
       "      <td>CA</td>\n",
       "      <td>2.2</td>\n",
       "    </tr>\n",
       "    <tr>\n",
       "      <th>18</th>\n",
       "      <td>Los Altos</td>\n",
       "      <td>CA</td>\n",
       "      <td>3.0</td>\n",
       "    </tr>\n",
       "    <tr>\n",
       "      <th>19</th>\n",
       "      <td>Campbell</td>\n",
       "      <td>CA</td>\n",
       "      <td>1.7</td>\n",
       "    </tr>\n",
       "  </tbody>\n",
       "</table>\n",
       "</div>"
      ],
      "text/plain": [
       "         city state  median_home_price_in_million\n",
       "15    Concord    NH                           0.5\n",
       "16  Merrimack    NH                           0.7\n",
       "17  San Mateo    CA                           2.2\n",
       "18  Los Altos    CA                           3.0\n",
       "19   Campbell    CA                           1.7"
      ]
     },
     "execution_count": 14,
     "metadata": {},
     "output_type": "execute_result"
    }
   ],
   "source": [
    "df.tail()"
   ]
  },
  {
   "cell_type": "code",
   "execution_count": 15,
   "id": "b2ef6105-7aff-4f0a-ad5b-9e42243ccdd7",
   "metadata": {},
   "outputs": [
    {
     "data": {
      "text/html": [
       "<div>\n",
       "<style scoped>\n",
       "    .dataframe tbody tr th:only-of-type {\n",
       "        vertical-align: middle;\n",
       "    }\n",
       "\n",
       "    .dataframe tbody tr th {\n",
       "        vertical-align: top;\n",
       "    }\n",
       "\n",
       "    .dataframe thead th {\n",
       "        text-align: right;\n",
       "    }\n",
       "</style>\n",
       "<table border=\"1\" class=\"dataframe\">\n",
       "  <thead>\n",
       "    <tr style=\"text-align: right;\">\n",
       "      <th></th>\n",
       "      <th>city</th>\n",
       "      <th>state</th>\n",
       "      <th>median_home_price_in_million</th>\n",
       "    </tr>\n",
       "  </thead>\n",
       "  <tbody>\n",
       "    <tr>\n",
       "      <th>17</th>\n",
       "      <td>San Mateo</td>\n",
       "      <td>CA</td>\n",
       "      <td>2.2</td>\n",
       "    </tr>\n",
       "    <tr>\n",
       "      <th>18</th>\n",
       "      <td>Los Altos</td>\n",
       "      <td>CA</td>\n",
       "      <td>3.0</td>\n",
       "    </tr>\n",
       "    <tr>\n",
       "      <th>19</th>\n",
       "      <td>Campbell</td>\n",
       "      <td>CA</td>\n",
       "      <td>1.7</td>\n",
       "    </tr>\n",
       "  </tbody>\n",
       "</table>\n",
       "</div>"
      ],
      "text/plain": [
       "         city state  median_home_price_in_million\n",
       "17  San Mateo    CA                           2.2\n",
       "18  Los Altos    CA                           3.0\n",
       "19   Campbell    CA                           1.7"
      ]
     },
     "execution_count": 15,
     "metadata": {},
     "output_type": "execute_result"
    }
   ],
   "source": [
    "df.tail(3)"
   ]
  },
  {
   "cell_type": "code",
   "execution_count": 68,
   "id": "6a83b2fe-fe27-414f-a577-6412708738e1",
   "metadata": {},
   "outputs": [
    {
     "data": {
      "text/html": [
       "<div>\n",
       "<style scoped>\n",
       "    .dataframe tbody tr th:only-of-type {\n",
       "        vertical-align: middle;\n",
       "    }\n",
       "\n",
       "    .dataframe tbody tr th {\n",
       "        vertical-align: top;\n",
       "    }\n",
       "\n",
       "    .dataframe thead th {\n",
       "        text-align: right;\n",
       "    }\n",
       "</style>\n",
       "<table border=\"1\" class=\"dataframe\">\n",
       "  <thead>\n",
       "    <tr style=\"text-align: right;\">\n",
       "      <th></th>\n",
       "      <th>city</th>\n",
       "      <th>state</th>\n",
       "      <th>median_home_price_in_million</th>\n",
       "    </tr>\n",
       "  </thead>\n",
       "  <tbody>\n",
       "    <tr>\n",
       "      <th>0</th>\n",
       "      <td>Dublin</td>\n",
       "      <td>CA</td>\n",
       "      <td>1.5</td>\n",
       "    </tr>\n",
       "    <tr>\n",
       "      <th>1</th>\n",
       "      <td>Palo Alto</td>\n",
       "      <td>CA</td>\n",
       "      <td>2.0</td>\n",
       "    </tr>\n",
       "    <tr>\n",
       "      <th>2</th>\n",
       "      <td>Fremont</td>\n",
       "      <td>CA</td>\n",
       "      <td>1.7</td>\n",
       "    </tr>\n",
       "    <tr>\n",
       "      <th>3</th>\n",
       "      <td>Reno</td>\n",
       "      <td>NV</td>\n",
       "      <td>0.8</td>\n",
       "    </tr>\n",
       "    <tr>\n",
       "      <th>4</th>\n",
       "      <td>Sunnyvale</td>\n",
       "      <td>CA</td>\n",
       "      <td>2.1</td>\n",
       "    </tr>\n",
       "  </tbody>\n",
       "</table>\n",
       "</div>"
      ],
      "text/plain": [
       "        city state  median_home_price_in_million\n",
       "0     Dublin    CA                           1.5\n",
       "1  Palo Alto    CA                           2.0\n",
       "2    Fremont    CA                           1.7\n",
       "3       Reno    NV                           0.8\n",
       "4  Sunnyvale    CA                           2.1"
      ]
     },
     "execution_count": 68,
     "metadata": {},
     "output_type": "execute_result"
    }
   ],
   "source": [
    "df_from_json = pd.read_json('data/housing_data2.json')\n",
    "df_from_json"
   ]
  },
  {
   "cell_type": "markdown",
   "id": "1d5cc24e-f321-4c47-bf69-e544e291c917",
   "metadata": {},
   "source": [
    "### Writing to a data file"
   ]
  },
  {
   "cell_type": "code",
   "execution_count": 71,
   "id": "757fdcd7-3859-48f7-a42b-5ffa8ce1f51f",
   "metadata": {},
   "outputs": [],
   "source": [
    "df_from_json.to_csv('data/out_data1.csv', mode = 'w')"
   ]
  },
  {
   "cell_type": "code",
   "execution_count": 73,
   "id": "efab40cb-20d1-4f49-98ae-2231c3428d0b",
   "metadata": {},
   "outputs": [],
   "source": [
    "df_from_json.to_csv('data/out_data2.csv', mode = 'w', index=False)"
   ]
  },
  {
   "cell_type": "code",
   "execution_count": 75,
   "id": "3bdfdac8-b84b-48e1-ab64-1ca3c5be8419",
   "metadata": {},
   "outputs": [],
   "source": [
    "df_from_json.to_json('data/out_data3.json', orient='records')"
   ]
  },
  {
   "cell_type": "markdown",
   "id": "068d3332-dcb0-4c0d-848d-f2bf10f11758",
   "metadata": {},
   "source": [
    "### Explore Data"
   ]
  },
  {
   "cell_type": "code",
   "execution_count": 78,
   "id": "91e60a66-0923-4af8-b510-e833191ff915",
   "metadata": {},
   "outputs": [
    {
     "data": {
      "text/html": [
       "<div>\n",
       "<style scoped>\n",
       "    .dataframe tbody tr th:only-of-type {\n",
       "        vertical-align: middle;\n",
       "    }\n",
       "\n",
       "    .dataframe tbody tr th {\n",
       "        vertical-align: top;\n",
       "    }\n",
       "\n",
       "    .dataframe thead th {\n",
       "        text-align: right;\n",
       "    }\n",
       "</style>\n",
       "<table border=\"1\" class=\"dataframe\">\n",
       "  <thead>\n",
       "    <tr style=\"text-align: right;\">\n",
       "      <th></th>\n",
       "      <th>city</th>\n",
       "      <th>state</th>\n",
       "      <th>median_home_price_in_million</th>\n",
       "    </tr>\n",
       "  </thead>\n",
       "  <tbody>\n",
       "    <tr>\n",
       "      <th>0</th>\n",
       "      <td>Dublin</td>\n",
       "      <td>CA</td>\n",
       "      <td>1.5</td>\n",
       "    </tr>\n",
       "    <tr>\n",
       "      <th>1</th>\n",
       "      <td>Palo Alto</td>\n",
       "      <td>CA</td>\n",
       "      <td>2.0</td>\n",
       "    </tr>\n",
       "    <tr>\n",
       "      <th>2</th>\n",
       "      <td>Fremont</td>\n",
       "      <td>CA</td>\n",
       "      <td>1.7</td>\n",
       "    </tr>\n",
       "    <tr>\n",
       "      <th>3</th>\n",
       "      <td>Reno</td>\n",
       "      <td>NV</td>\n",
       "      <td>0.8</td>\n",
       "    </tr>\n",
       "    <tr>\n",
       "      <th>4</th>\n",
       "      <td>Sunnyvale</td>\n",
       "      <td>CA</td>\n",
       "      <td>2.1</td>\n",
       "    </tr>\n",
       "    <tr>\n",
       "      <th>5</th>\n",
       "      <td>Las Vegas</td>\n",
       "      <td>NV</td>\n",
       "      <td>0.7</td>\n",
       "    </tr>\n",
       "    <tr>\n",
       "      <th>6</th>\n",
       "      <td>Carson City</td>\n",
       "      <td>NV</td>\n",
       "      <td>1.9</td>\n",
       "    </tr>\n",
       "    <tr>\n",
       "      <th>7</th>\n",
       "      <td>Milpitas</td>\n",
       "      <td>CA</td>\n",
       "      <td>1.4</td>\n",
       "    </tr>\n",
       "    <tr>\n",
       "      <th>8</th>\n",
       "      <td>Cupertino</td>\n",
       "      <td>CA</td>\n",
       "      <td>2.5</td>\n",
       "    </tr>\n",
       "    <tr>\n",
       "      <th>9</th>\n",
       "      <td>Pleasanton</td>\n",
       "      <td>CA</td>\n",
       "      <td>1.8</td>\n",
       "    </tr>\n",
       "    <tr>\n",
       "      <th>10</th>\n",
       "      <td>NYC</td>\n",
       "      <td>NY</td>\n",
       "      <td>1.9</td>\n",
       "    </tr>\n",
       "    <tr>\n",
       "      <th>11</th>\n",
       "      <td>Ithica</td>\n",
       "      <td>NY</td>\n",
       "      <td>0.5</td>\n",
       "    </tr>\n",
       "    <tr>\n",
       "      <th>12</th>\n",
       "      <td>Buffalo</td>\n",
       "      <td>NY</td>\n",
       "      <td>0.6</td>\n",
       "    </tr>\n",
       "    <tr>\n",
       "      <th>13</th>\n",
       "      <td>Hayward</td>\n",
       "      <td>CA</td>\n",
       "      <td>1.1</td>\n",
       "    </tr>\n",
       "    <tr>\n",
       "      <th>14</th>\n",
       "      <td>Union City</td>\n",
       "      <td>NH</td>\n",
       "      <td>1.3</td>\n",
       "    </tr>\n",
       "    <tr>\n",
       "      <th>15</th>\n",
       "      <td>Concord</td>\n",
       "      <td>NH</td>\n",
       "      <td>0.5</td>\n",
       "    </tr>\n",
       "    <tr>\n",
       "      <th>16</th>\n",
       "      <td>Merrimack</td>\n",
       "      <td>NH</td>\n",
       "      <td>0.7</td>\n",
       "    </tr>\n",
       "    <tr>\n",
       "      <th>17</th>\n",
       "      <td>San Mateo</td>\n",
       "      <td>CA</td>\n",
       "      <td>2.2</td>\n",
       "    </tr>\n",
       "    <tr>\n",
       "      <th>18</th>\n",
       "      <td>Los Altos</td>\n",
       "      <td>CA</td>\n",
       "      <td>3.0</td>\n",
       "    </tr>\n",
       "    <tr>\n",
       "      <th>19</th>\n",
       "      <td>Campbell</td>\n",
       "      <td>CA</td>\n",
       "      <td>1.7</td>\n",
       "    </tr>\n",
       "  </tbody>\n",
       "</table>\n",
       "</div>"
      ],
      "text/plain": [
       "           city state  median_home_price_in_million\n",
       "0        Dublin    CA                           1.5\n",
       "1     Palo Alto    CA                           2.0\n",
       "2       Fremont    CA                           1.7\n",
       "3          Reno    NV                           0.8\n",
       "4     Sunnyvale    CA                           2.1\n",
       "5     Las Vegas    NV                           0.7\n",
       "6   Carson City    NV                           1.9\n",
       "7      Milpitas    CA                           1.4\n",
       "8     Cupertino    CA                           2.5\n",
       "9    Pleasanton    CA                           1.8\n",
       "10          NYC    NY                           1.9\n",
       "11       Ithica    NY                           0.5\n",
       "12      Buffalo    NY                           0.6\n",
       "13      Hayward    CA                           1.1\n",
       "14   Union City    NH                           1.3\n",
       "15      Concord    NH                           0.5\n",
       "16    Merrimack    NH                           0.7\n",
       "17    San Mateo    CA                           2.2\n",
       "18    Los Altos    CA                           3.0\n",
       "19     Campbell    CA                           1.7"
      ]
     },
     "execution_count": 78,
     "metadata": {},
     "output_type": "execute_result"
    }
   ],
   "source": [
    "data = pd.read_csv(\"data/housing_data.csv\")\n",
    "data"
   ]
  },
  {
   "cell_type": "code",
   "execution_count": 80,
   "id": "22a9bcd1-f0d2-467d-88ee-42c7073b10b0",
   "metadata": {},
   "outputs": [
    {
     "data": {
      "text/html": [
       "<div>\n",
       "<style scoped>\n",
       "    .dataframe tbody tr th:only-of-type {\n",
       "        vertical-align: middle;\n",
       "    }\n",
       "\n",
       "    .dataframe tbody tr th {\n",
       "        vertical-align: top;\n",
       "    }\n",
       "\n",
       "    .dataframe thead th {\n",
       "        text-align: right;\n",
       "    }\n",
       "</style>\n",
       "<table border=\"1\" class=\"dataframe\">\n",
       "  <thead>\n",
       "    <tr style=\"text-align: right;\">\n",
       "      <th></th>\n",
       "      <th>city</th>\n",
       "      <th>state</th>\n",
       "      <th>median_home_price_in_million</th>\n",
       "    </tr>\n",
       "  </thead>\n",
       "  <tbody>\n",
       "    <tr>\n",
       "      <th>0</th>\n",
       "      <td>Dublin</td>\n",
       "      <td>CA</td>\n",
       "      <td>1.5</td>\n",
       "    </tr>\n",
       "    <tr>\n",
       "      <th>1</th>\n",
       "      <td>Palo Alto</td>\n",
       "      <td>CA</td>\n",
       "      <td>2.0</td>\n",
       "    </tr>\n",
       "    <tr>\n",
       "      <th>2</th>\n",
       "      <td>Fremont</td>\n",
       "      <td>CA</td>\n",
       "      <td>1.7</td>\n",
       "    </tr>\n",
       "    <tr>\n",
       "      <th>3</th>\n",
       "      <td>Reno</td>\n",
       "      <td>NV</td>\n",
       "      <td>0.8</td>\n",
       "    </tr>\n",
       "    <tr>\n",
       "      <th>4</th>\n",
       "      <td>Sunnyvale</td>\n",
       "      <td>CA</td>\n",
       "      <td>2.1</td>\n",
       "    </tr>\n",
       "  </tbody>\n",
       "</table>\n",
       "</div>"
      ],
      "text/plain": [
       "        city state  median_home_price_in_million\n",
       "0     Dublin    CA                           1.5\n",
       "1  Palo Alto    CA                           2.0\n",
       "2    Fremont    CA                           1.7\n",
       "3       Reno    NV                           0.8\n",
       "4  Sunnyvale    CA                           2.1"
      ]
     },
     "execution_count": 80,
     "metadata": {},
     "output_type": "execute_result"
    }
   ],
   "source": [
    "data.head()"
   ]
  },
  {
   "cell_type": "code",
   "execution_count": 82,
   "id": "e1f31ae4-8ed3-49b9-a1d1-ad6cf77155a3",
   "metadata": {},
   "outputs": [
    {
     "data": {
      "text/html": [
       "<div>\n",
       "<style scoped>\n",
       "    .dataframe tbody tr th:only-of-type {\n",
       "        vertical-align: middle;\n",
       "    }\n",
       "\n",
       "    .dataframe tbody tr th {\n",
       "        vertical-align: top;\n",
       "    }\n",
       "\n",
       "    .dataframe thead th {\n",
       "        text-align: right;\n",
       "    }\n",
       "</style>\n",
       "<table border=\"1\" class=\"dataframe\">\n",
       "  <thead>\n",
       "    <tr style=\"text-align: right;\">\n",
       "      <th></th>\n",
       "      <th>city</th>\n",
       "      <th>state</th>\n",
       "      <th>median_home_price_in_million</th>\n",
       "    </tr>\n",
       "  </thead>\n",
       "  <tbody>\n",
       "    <tr>\n",
       "      <th>0</th>\n",
       "      <td>Dublin</td>\n",
       "      <td>CA</td>\n",
       "      <td>1.5</td>\n",
       "    </tr>\n",
       "    <tr>\n",
       "      <th>1</th>\n",
       "      <td>Palo Alto</td>\n",
       "      <td>CA</td>\n",
       "      <td>2.0</td>\n",
       "    </tr>\n",
       "    <tr>\n",
       "      <th>2</th>\n",
       "      <td>Fremont</td>\n",
       "      <td>CA</td>\n",
       "      <td>1.7</td>\n",
       "    </tr>\n",
       "  </tbody>\n",
       "</table>\n",
       "</div>"
      ],
      "text/plain": [
       "        city state  median_home_price_in_million\n",
       "0     Dublin    CA                           1.5\n",
       "1  Palo Alto    CA                           2.0\n",
       "2    Fremont    CA                           1.7"
      ]
     },
     "execution_count": 82,
     "metadata": {},
     "output_type": "execute_result"
    }
   ],
   "source": [
    "data.head(3)"
   ]
  },
  {
   "cell_type": "code",
   "execution_count": 84,
   "id": "15540682-090f-48fd-864a-1c024b3582f2",
   "metadata": {},
   "outputs": [
    {
     "data": {
      "text/html": [
       "<div>\n",
       "<style scoped>\n",
       "    .dataframe tbody tr th:only-of-type {\n",
       "        vertical-align: middle;\n",
       "    }\n",
       "\n",
       "    .dataframe tbody tr th {\n",
       "        vertical-align: top;\n",
       "    }\n",
       "\n",
       "    .dataframe thead th {\n",
       "        text-align: right;\n",
       "    }\n",
       "</style>\n",
       "<table border=\"1\" class=\"dataframe\">\n",
       "  <thead>\n",
       "    <tr style=\"text-align: right;\">\n",
       "      <th></th>\n",
       "      <th>city</th>\n",
       "      <th>state</th>\n",
       "      <th>median_home_price_in_million</th>\n",
       "    </tr>\n",
       "  </thead>\n",
       "  <tbody>\n",
       "    <tr>\n",
       "      <th>15</th>\n",
       "      <td>Concord</td>\n",
       "      <td>NH</td>\n",
       "      <td>0.5</td>\n",
       "    </tr>\n",
       "    <tr>\n",
       "      <th>16</th>\n",
       "      <td>Merrimack</td>\n",
       "      <td>NH</td>\n",
       "      <td>0.7</td>\n",
       "    </tr>\n",
       "    <tr>\n",
       "      <th>17</th>\n",
       "      <td>San Mateo</td>\n",
       "      <td>CA</td>\n",
       "      <td>2.2</td>\n",
       "    </tr>\n",
       "    <tr>\n",
       "      <th>18</th>\n",
       "      <td>Los Altos</td>\n",
       "      <td>CA</td>\n",
       "      <td>3.0</td>\n",
       "    </tr>\n",
       "    <tr>\n",
       "      <th>19</th>\n",
       "      <td>Campbell</td>\n",
       "      <td>CA</td>\n",
       "      <td>1.7</td>\n",
       "    </tr>\n",
       "  </tbody>\n",
       "</table>\n",
       "</div>"
      ],
      "text/plain": [
       "         city state  median_home_price_in_million\n",
       "15    Concord    NH                           0.5\n",
       "16  Merrimack    NH                           0.7\n",
       "17  San Mateo    CA                           2.2\n",
       "18  Los Altos    CA                           3.0\n",
       "19   Campbell    CA                           1.7"
      ]
     },
     "execution_count": 84,
     "metadata": {},
     "output_type": "execute_result"
    }
   ],
   "source": [
    "data.tail()"
   ]
  },
  {
   "cell_type": "code",
   "execution_count": 86,
   "id": "bd71f292-71a6-410d-ab42-a16d8496da9e",
   "metadata": {},
   "outputs": [
    {
     "data": {
      "text/html": [
       "<div>\n",
       "<style scoped>\n",
       "    .dataframe tbody tr th:only-of-type {\n",
       "        vertical-align: middle;\n",
       "    }\n",
       "\n",
       "    .dataframe tbody tr th {\n",
       "        vertical-align: top;\n",
       "    }\n",
       "\n",
       "    .dataframe thead th {\n",
       "        text-align: right;\n",
       "    }\n",
       "</style>\n",
       "<table border=\"1\" class=\"dataframe\">\n",
       "  <thead>\n",
       "    <tr style=\"text-align: right;\">\n",
       "      <th></th>\n",
       "      <th>city</th>\n",
       "      <th>state</th>\n",
       "      <th>median_home_price_in_million</th>\n",
       "    </tr>\n",
       "  </thead>\n",
       "  <tbody>\n",
       "    <tr>\n",
       "      <th>13</th>\n",
       "      <td>Hayward</td>\n",
       "      <td>CA</td>\n",
       "      <td>1.1</td>\n",
       "    </tr>\n",
       "    <tr>\n",
       "      <th>14</th>\n",
       "      <td>Union City</td>\n",
       "      <td>NH</td>\n",
       "      <td>1.3</td>\n",
       "    </tr>\n",
       "    <tr>\n",
       "      <th>15</th>\n",
       "      <td>Concord</td>\n",
       "      <td>NH</td>\n",
       "      <td>0.5</td>\n",
       "    </tr>\n",
       "    <tr>\n",
       "      <th>16</th>\n",
       "      <td>Merrimack</td>\n",
       "      <td>NH</td>\n",
       "      <td>0.7</td>\n",
       "    </tr>\n",
       "    <tr>\n",
       "      <th>17</th>\n",
       "      <td>San Mateo</td>\n",
       "      <td>CA</td>\n",
       "      <td>2.2</td>\n",
       "    </tr>\n",
       "    <tr>\n",
       "      <th>18</th>\n",
       "      <td>Los Altos</td>\n",
       "      <td>CA</td>\n",
       "      <td>3.0</td>\n",
       "    </tr>\n",
       "    <tr>\n",
       "      <th>19</th>\n",
       "      <td>Campbell</td>\n",
       "      <td>CA</td>\n",
       "      <td>1.7</td>\n",
       "    </tr>\n",
       "  </tbody>\n",
       "</table>\n",
       "</div>"
      ],
      "text/plain": [
       "          city state  median_home_price_in_million\n",
       "13     Hayward    CA                           1.1\n",
       "14  Union City    NH                           1.3\n",
       "15     Concord    NH                           0.5\n",
       "16   Merrimack    NH                           0.7\n",
       "17   San Mateo    CA                           2.2\n",
       "18   Los Altos    CA                           3.0\n",
       "19    Campbell    CA                           1.7"
      ]
     },
     "execution_count": 86,
     "metadata": {},
     "output_type": "execute_result"
    }
   ],
   "source": [
    "data.tail(7)"
   ]
  },
  {
   "cell_type": "code",
   "execution_count": 88,
   "id": "791766ba-8a00-4787-ad80-04695a5fa816",
   "metadata": {},
   "outputs": [
    {
     "name": "stdout",
     "output_type": "stream",
     "text": [
      "<class 'pandas.core.frame.DataFrame'>\n",
      "RangeIndex: 20 entries, 0 to 19\n",
      "Data columns (total 3 columns):\n",
      " #   Column                        Non-Null Count  Dtype  \n",
      "---  ------                        --------------  -----  \n",
      " 0   city                          20 non-null     object \n",
      " 1   state                         20 non-null     object \n",
      " 2   median_home_price_in_million  20 non-null     float64\n",
      "dtypes: float64(1), object(2)\n",
      "memory usage: 612.0+ bytes\n"
     ]
    }
   ],
   "source": [
    "data.info()"
   ]
  },
  {
   "cell_type": "code",
   "execution_count": 90,
   "id": "0a2240a1-1456-40aa-918d-1825f596fefb",
   "metadata": {},
   "outputs": [
    {
     "data": {
      "text/html": [
       "<div>\n",
       "<style scoped>\n",
       "    .dataframe tbody tr th:only-of-type {\n",
       "        vertical-align: middle;\n",
       "    }\n",
       "\n",
       "    .dataframe tbody tr th {\n",
       "        vertical-align: top;\n",
       "    }\n",
       "\n",
       "    .dataframe thead th {\n",
       "        text-align: right;\n",
       "    }\n",
       "</style>\n",
       "<table border=\"1\" class=\"dataframe\">\n",
       "  <thead>\n",
       "    <tr style=\"text-align: right;\">\n",
       "      <th></th>\n",
       "      <th>median_home_price_in_million</th>\n",
       "    </tr>\n",
       "  </thead>\n",
       "  <tbody>\n",
       "    <tr>\n",
       "      <th>count</th>\n",
       "      <td>20.00000</td>\n",
       "    </tr>\n",
       "    <tr>\n",
       "      <th>mean</th>\n",
       "      <td>1.49500</td>\n",
       "    </tr>\n",
       "    <tr>\n",
       "      <th>std</th>\n",
       "      <td>0.71191</td>\n",
       "    </tr>\n",
       "    <tr>\n",
       "      <th>min</th>\n",
       "      <td>0.50000</td>\n",
       "    </tr>\n",
       "    <tr>\n",
       "      <th>25%</th>\n",
       "      <td>0.77500</td>\n",
       "    </tr>\n",
       "    <tr>\n",
       "      <th>50%</th>\n",
       "      <td>1.60000</td>\n",
       "    </tr>\n",
       "    <tr>\n",
       "      <th>75%</th>\n",
       "      <td>1.92500</td>\n",
       "    </tr>\n",
       "    <tr>\n",
       "      <th>max</th>\n",
       "      <td>3.00000</td>\n",
       "    </tr>\n",
       "  </tbody>\n",
       "</table>\n",
       "</div>"
      ],
      "text/plain": [
       "       median_home_price_in_million\n",
       "count                      20.00000\n",
       "mean                        1.49500\n",
       "std                         0.71191\n",
       "min                         0.50000\n",
       "25%                         0.77500\n",
       "50%                         1.60000\n",
       "75%                         1.92500\n",
       "max                         3.00000"
      ]
     },
     "execution_count": 90,
     "metadata": {},
     "output_type": "execute_result"
    }
   ],
   "source": [
    "data.describe()"
   ]
  },
  {
   "cell_type": "code",
   "execution_count": 92,
   "id": "8b7e4be4-dbd1-4218-995e-30e62094ce5f",
   "metadata": {},
   "outputs": [
    {
     "data": {
      "text/plain": [
       "city\n",
       "Dublin         1\n",
       "Palo Alto      1\n",
       "Los Altos      1\n",
       "San Mateo      1\n",
       "Merrimack      1\n",
       "Concord        1\n",
       "Union City     1\n",
       "Hayward        1\n",
       "Buffalo        1\n",
       "Ithica         1\n",
       "NYC            1\n",
       "Pleasanton     1\n",
       "Cupertino      1\n",
       "Milpitas       1\n",
       "Carson City    1\n",
       "Las Vegas      1\n",
       "Sunnyvale      1\n",
       "Reno           1\n",
       "Fremont        1\n",
       "Campbell       1\n",
       "Name: count, dtype: int64"
      ]
     },
     "execution_count": 92,
     "metadata": {},
     "output_type": "execute_result"
    }
   ],
   "source": [
    "data['city'].value_counts()"
   ]
  },
  {
   "cell_type": "code",
   "execution_count": 94,
   "id": "b459ff66-2b96-4daa-8d88-0dfc21146529",
   "metadata": {},
   "outputs": [
    {
     "data": {
      "text/html": [
       "<div>\n",
       "<style scoped>\n",
       "    .dataframe tbody tr th:only-of-type {\n",
       "        vertical-align: middle;\n",
       "    }\n",
       "\n",
       "    .dataframe tbody tr th {\n",
       "        vertical-align: top;\n",
       "    }\n",
       "\n",
       "    .dataframe thead th {\n",
       "        text-align: right;\n",
       "    }\n",
       "</style>\n",
       "<table border=\"1\" class=\"dataframe\">\n",
       "  <thead>\n",
       "    <tr style=\"text-align: right;\">\n",
       "      <th></th>\n",
       "      <th>city</th>\n",
       "    </tr>\n",
       "  </thead>\n",
       "  <tbody>\n",
       "    <tr>\n",
       "      <th>0</th>\n",
       "      <td>Dublin</td>\n",
       "    </tr>\n",
       "    <tr>\n",
       "      <th>1</th>\n",
       "      <td>Palo Alto</td>\n",
       "    </tr>\n",
       "    <tr>\n",
       "      <th>2</th>\n",
       "      <td>Fremont</td>\n",
       "    </tr>\n",
       "    <tr>\n",
       "      <th>3</th>\n",
       "      <td>Reno</td>\n",
       "    </tr>\n",
       "    <tr>\n",
       "      <th>4</th>\n",
       "      <td>Sunnyvale</td>\n",
       "    </tr>\n",
       "    <tr>\n",
       "      <th>5</th>\n",
       "      <td>Las Vegas</td>\n",
       "    </tr>\n",
       "    <tr>\n",
       "      <th>6</th>\n",
       "      <td>Carson City</td>\n",
       "    </tr>\n",
       "    <tr>\n",
       "      <th>7</th>\n",
       "      <td>Milpitas</td>\n",
       "    </tr>\n",
       "    <tr>\n",
       "      <th>8</th>\n",
       "      <td>Cupertino</td>\n",
       "    </tr>\n",
       "    <tr>\n",
       "      <th>9</th>\n",
       "      <td>Pleasanton</td>\n",
       "    </tr>\n",
       "    <tr>\n",
       "      <th>10</th>\n",
       "      <td>NYC</td>\n",
       "    </tr>\n",
       "    <tr>\n",
       "      <th>11</th>\n",
       "      <td>Ithica</td>\n",
       "    </tr>\n",
       "    <tr>\n",
       "      <th>12</th>\n",
       "      <td>Buffalo</td>\n",
       "    </tr>\n",
       "    <tr>\n",
       "      <th>13</th>\n",
       "      <td>Hayward</td>\n",
       "    </tr>\n",
       "    <tr>\n",
       "      <th>14</th>\n",
       "      <td>Union City</td>\n",
       "    </tr>\n",
       "    <tr>\n",
       "      <th>15</th>\n",
       "      <td>Concord</td>\n",
       "    </tr>\n",
       "    <tr>\n",
       "      <th>16</th>\n",
       "      <td>Merrimack</td>\n",
       "    </tr>\n",
       "    <tr>\n",
       "      <th>17</th>\n",
       "      <td>San Mateo</td>\n",
       "    </tr>\n",
       "    <tr>\n",
       "      <th>18</th>\n",
       "      <td>Los Altos</td>\n",
       "    </tr>\n",
       "    <tr>\n",
       "      <th>19</th>\n",
       "      <td>Campbell</td>\n",
       "    </tr>\n",
       "  </tbody>\n",
       "</table>\n",
       "</div>"
      ],
      "text/plain": [
       "           city\n",
       "0        Dublin\n",
       "1     Palo Alto\n",
       "2       Fremont\n",
       "3          Reno\n",
       "4     Sunnyvale\n",
       "5     Las Vegas\n",
       "6   Carson City\n",
       "7      Milpitas\n",
       "8     Cupertino\n",
       "9    Pleasanton\n",
       "10          NYC\n",
       "11       Ithica\n",
       "12      Buffalo\n",
       "13      Hayward\n",
       "14   Union City\n",
       "15      Concord\n",
       "16    Merrimack\n",
       "17    San Mateo\n",
       "18    Los Altos\n",
       "19     Campbell"
      ]
     },
     "execution_count": 94,
     "metadata": {},
     "output_type": "execute_result"
    }
   ],
   "source": [
    "data[['city']]"
   ]
  },
  {
   "cell_type": "code",
   "execution_count": 96,
   "id": "c9bc34e2-f5bd-4e84-8cf8-94e206d7fbfc",
   "metadata": {},
   "outputs": [
    {
     "data": {
      "text/plain": [
       "city         state\n",
       "Buffalo      NY       1\n",
       "Campbell     CA       1\n",
       "Sunnyvale    CA       1\n",
       "San Mateo    CA       1\n",
       "Reno         NV       1\n",
       "Pleasanton   CA       1\n",
       "Palo Alto    CA       1\n",
       "NYC          NY       1\n",
       "Milpitas     CA       1\n",
       "Merrimack    NH       1\n",
       "Los Altos    CA       1\n",
       "Las Vegas    NV       1\n",
       "Ithica       NY       1\n",
       "Hayward      CA       1\n",
       "Fremont      CA       1\n",
       "Dublin       CA       1\n",
       "Cupertino    CA       1\n",
       "Concord      NH       1\n",
       "Carson City  NV       1\n",
       "Union City   NH       1\n",
       "Name: count, dtype: int64"
      ]
     },
     "execution_count": 96,
     "metadata": {},
     "output_type": "execute_result"
    }
   ],
   "source": [
    "data[['city', 'state']].value_counts()"
   ]
  },
  {
   "cell_type": "code",
   "execution_count": 98,
   "id": "d11ed854-20f7-4127-a40f-6001db6c9261",
   "metadata": {},
   "outputs": [
    {
     "data": {
      "text/plain": [
       "pandas.core.series.Series"
      ]
     },
     "execution_count": 98,
     "metadata": {},
     "output_type": "execute_result"
    }
   ],
   "source": [
    "type(data['city'])"
   ]
  },
  {
   "cell_type": "code",
   "execution_count": 100,
   "id": "ad565e09-4140-4439-aa43-ec54e0fef0e9",
   "metadata": {},
   "outputs": [
    {
     "data": {
      "text/plain": [
       "city\n",
       "Dublin         1\n",
       "Palo Alto      1\n",
       "Los Altos      1\n",
       "San Mateo      1\n",
       "Merrimack      1\n",
       "Concord        1\n",
       "Union City     1\n",
       "Hayward        1\n",
       "Buffalo        1\n",
       "Ithica         1\n",
       "NYC            1\n",
       "Pleasanton     1\n",
       "Cupertino      1\n",
       "Milpitas       1\n",
       "Carson City    1\n",
       "Las Vegas      1\n",
       "Sunnyvale      1\n",
       "Reno           1\n",
       "Fremont        1\n",
       "Campbell       1\n",
       "Name: count, dtype: int64"
      ]
     },
     "execution_count": 100,
     "metadata": {},
     "output_type": "execute_result"
    }
   ],
   "source": [
    "data['city'].value_counts()"
   ]
  },
  {
   "cell_type": "code",
   "execution_count": 102,
   "id": "377d6c54-a778-4edc-a8ac-5dd903be721a",
   "metadata": {},
   "outputs": [],
   "source": [
    "X_features = data[['city', 'state']]\n",
    "y_label = data['median_home_price_in_million']"
   ]
  },
  {
   "cell_type": "code",
   "execution_count": 104,
   "id": "5f4ac04c-13d6-4e41-9c7f-3286d8ea13f8",
   "metadata": {},
   "outputs": [
    {
     "data": {
      "text/html": [
       "<div>\n",
       "<style scoped>\n",
       "    .dataframe tbody tr th:only-of-type {\n",
       "        vertical-align: middle;\n",
       "    }\n",
       "\n",
       "    .dataframe tbody tr th {\n",
       "        vertical-align: top;\n",
       "    }\n",
       "\n",
       "    .dataframe thead th {\n",
       "        text-align: right;\n",
       "    }\n",
       "</style>\n",
       "<table border=\"1\" class=\"dataframe\">\n",
       "  <thead>\n",
       "    <tr style=\"text-align: right;\">\n",
       "      <th></th>\n",
       "      <th>city</th>\n",
       "      <th>state</th>\n",
       "    </tr>\n",
       "  </thead>\n",
       "  <tbody>\n",
       "    <tr>\n",
       "      <th>0</th>\n",
       "      <td>Dublin</td>\n",
       "      <td>CA</td>\n",
       "    </tr>\n",
       "    <tr>\n",
       "      <th>1</th>\n",
       "      <td>Palo Alto</td>\n",
       "      <td>CA</td>\n",
       "    </tr>\n",
       "    <tr>\n",
       "      <th>2</th>\n",
       "      <td>Fremont</td>\n",
       "      <td>CA</td>\n",
       "    </tr>\n",
       "    <tr>\n",
       "      <th>3</th>\n",
       "      <td>Reno</td>\n",
       "      <td>NV</td>\n",
       "    </tr>\n",
       "    <tr>\n",
       "      <th>4</th>\n",
       "      <td>Sunnyvale</td>\n",
       "      <td>CA</td>\n",
       "    </tr>\n",
       "  </tbody>\n",
       "</table>\n",
       "</div>"
      ],
      "text/plain": [
       "        city state\n",
       "0     Dublin    CA\n",
       "1  Palo Alto    CA\n",
       "2    Fremont    CA\n",
       "3       Reno    NV\n",
       "4  Sunnyvale    CA"
      ]
     },
     "execution_count": 104,
     "metadata": {},
     "output_type": "execute_result"
    }
   ],
   "source": [
    "X_features.head()"
   ]
  },
  {
   "cell_type": "code",
   "execution_count": 106,
   "id": "7322175e-71e6-40e1-8c5a-4f977be2d69b",
   "metadata": {},
   "outputs": [
    {
     "data": {
      "text/plain": [
       "0    1.5\n",
       "1    2.0\n",
       "2    1.7\n",
       "3    0.8\n",
       "4    2.1\n",
       "Name: median_home_price_in_million, dtype: float64"
      ]
     },
     "execution_count": 106,
     "metadata": {},
     "output_type": "execute_result"
    }
   ],
   "source": [
    "y_label.head()"
   ]
  },
  {
   "cell_type": "markdown",
   "id": "cf495b1b-7fbd-44af-b4bf-b9414f9dff98",
   "metadata": {},
   "source": [
    "### Indexing, Selecting, and Filtering"
   ]
  },
  {
   "cell_type": "code",
   "execution_count": 109,
   "id": "d7126d6d-aee1-426a-b68d-06df9cfe3ad0",
   "metadata": {},
   "outputs": [
    {
     "data": {
      "text/plain": [
       "(0     1.5\n",
       " 1     2.0\n",
       " 2     1.7\n",
       " 3     0.8\n",
       " 4     2.1\n",
       " 5     0.7\n",
       " 6     1.9\n",
       " 7     1.4\n",
       " 8     2.5\n",
       " 9     1.8\n",
       " 10    1.9\n",
       " 11    0.5\n",
       " 12    0.6\n",
       " 13    1.1\n",
       " 14    1.3\n",
       " 15    0.5\n",
       " 16    0.7\n",
       " 17    2.2\n",
       " 18    3.0\n",
       " 19    1.7\n",
       " Name: median_home_price_in_million, dtype: float64,\n",
       " pandas.core.series.Series)"
      ]
     },
     "execution_count": 109,
     "metadata": {},
     "output_type": "execute_result"
    }
   ],
   "source": [
    "# Column selection\n",
    "data['median_home_price_in_million'], type(data['median_home_price_in_million'])"
   ]
  },
  {
   "cell_type": "code",
   "execution_count": 111,
   "id": "01228242-b20a-4006-955a-44e7e5a4e295",
   "metadata": {},
   "outputs": [
    {
     "data": {
      "text/plain": [
       "(           city state\n",
       " 0        Dublin    CA\n",
       " 1     Palo Alto    CA\n",
       " 2       Fremont    CA\n",
       " 3          Reno    NV\n",
       " 4     Sunnyvale    CA\n",
       " 5     Las Vegas    NV\n",
       " 6   Carson City    NV\n",
       " 7      Milpitas    CA\n",
       " 8     Cupertino    CA\n",
       " 9    Pleasanton    CA\n",
       " 10          NYC    NY\n",
       " 11       Ithica    NY\n",
       " 12      Buffalo    NY\n",
       " 13      Hayward    CA\n",
       " 14   Union City    NH\n",
       " 15      Concord    NH\n",
       " 16    Merrimack    NH\n",
       " 17    San Mateo    CA\n",
       " 18    Los Altos    CA\n",
       " 19     Campbell    CA,\n",
       " pandas.core.frame.DataFrame)"
      ]
     },
     "execution_count": 111,
     "metadata": {},
     "output_type": "execute_result"
    }
   ],
   "source": [
    "# Multiple Columns selection\n",
    "data[['city', 'state']], type(data[['city', 'state']])"
   ]
  },
  {
   "cell_type": "code",
   "execution_count": 113,
   "id": "88a7dd28-f837-44bf-9a17-d981a74bf048",
   "metadata": {},
   "outputs": [
    {
     "data": {
      "text/plain": [
       "(city                            Fremont\n",
       " state                                CA\n",
       " median_home_price_in_million        1.7\n",
       " Name: 2, dtype: object,\n",
       " pandas.core.series.Series)"
      ]
     },
     "execution_count": 113,
     "metadata": {},
     "output_type": "execute_result"
    }
   ],
   "source": [
    "# Row selection\n",
    "# by position\n",
    "data.iloc[2], type(data.iloc[2])"
   ]
  },
  {
   "cell_type": "code",
   "execution_count": 115,
   "id": "e4103ae8-4648-4eed-8c95-d1345d7ef29a",
   "metadata": {},
   "outputs": [
    {
     "data": {
      "text/html": [
       "<div>\n",
       "<style scoped>\n",
       "    .dataframe tbody tr th:only-of-type {\n",
       "        vertical-align: middle;\n",
       "    }\n",
       "\n",
       "    .dataframe tbody tr th {\n",
       "        vertical-align: top;\n",
       "    }\n",
       "\n",
       "    .dataframe thead th {\n",
       "        text-align: right;\n",
       "    }\n",
       "</style>\n",
       "<table border=\"1\" class=\"dataframe\">\n",
       "  <thead>\n",
       "    <tr style=\"text-align: right;\">\n",
       "      <th></th>\n",
       "      <th>city</th>\n",
       "      <th>state</th>\n",
       "      <th>median_home_price_in_million</th>\n",
       "    </tr>\n",
       "  </thead>\n",
       "  <tbody>\n",
       "    <tr>\n",
       "      <th>0</th>\n",
       "      <td>Dublin</td>\n",
       "      <td>CA</td>\n",
       "      <td>1.5</td>\n",
       "    </tr>\n",
       "    <tr>\n",
       "      <th>1</th>\n",
       "      <td>Palo Alto</td>\n",
       "      <td>CA</td>\n",
       "      <td>2.0</td>\n",
       "    </tr>\n",
       "    <tr>\n",
       "      <th>2</th>\n",
       "      <td>Fremont</td>\n",
       "      <td>CA</td>\n",
       "      <td>1.7</td>\n",
       "    </tr>\n",
       "    <tr>\n",
       "      <th>3</th>\n",
       "      <td>Reno</td>\n",
       "      <td>NV</td>\n",
       "      <td>0.8</td>\n",
       "    </tr>\n",
       "    <tr>\n",
       "      <th>4</th>\n",
       "      <td>Sunnyvale</td>\n",
       "      <td>CA</td>\n",
       "      <td>2.1</td>\n",
       "    </tr>\n",
       "  </tbody>\n",
       "</table>\n",
       "</div>"
      ],
      "text/plain": [
       "        city state  median_home_price_in_million\n",
       "0     Dublin    CA                           1.5\n",
       "1  Palo Alto    CA                           2.0\n",
       "2    Fremont    CA                           1.7\n",
       "3       Reno    NV                           0.8\n",
       "4  Sunnyvale    CA                           2.1"
      ]
     },
     "execution_count": 115,
     "metadata": {},
     "output_type": "execute_result"
    }
   ],
   "source": [
    "data.head()"
   ]
  },
  {
   "cell_type": "code",
   "execution_count": 117,
   "id": "4b63c0e7-9a45-48f6-be4d-573db2a21662",
   "metadata": {},
   "outputs": [
    {
     "data": {
      "text/plain": [
       "city                            Dublin\n",
       "state                               CA\n",
       "median_home_price_in_million       1.5\n",
       "Name: 0, dtype: object"
      ]
     },
     "execution_count": 117,
     "metadata": {},
     "output_type": "execute_result"
    }
   ],
   "source": [
    "# by label (if index is labeled)\n",
    "data.loc[0]"
   ]
  },
  {
   "cell_type": "markdown",
   "id": "ebe9bcb4-d1a3-4dab-b38f-62066fd1c19f",
   "metadata": {},
   "source": [
    "## Data Cleaning"
   ]
  },
  {
   "cell_type": "code",
   "execution_count": 120,
   "id": "aa03a8ab-6376-4f21-9936-1744ee05d586",
   "metadata": {},
   "outputs": [
    {
     "data": {
      "text/plain": [
       "city                            0\n",
       "state                           0\n",
       "median_home_price_in_million    0\n",
       "dtype: int64"
      ]
     },
     "execution_count": 120,
     "metadata": {},
     "output_type": "execute_result"
    }
   ],
   "source": [
    "# Checking for missing values\n",
    "data.isna().sum()"
   ]
  },
  {
   "cell_type": "code",
   "execution_count": 122,
   "id": "b7d8d6ec-5b58-47bb-99b1-a1eef71f418e",
   "metadata": {},
   "outputs": [
    {
     "data": {
      "text/plain": [
       "city                            0\n",
       "state                           0\n",
       "median_home_price_in_million    0\n",
       "dtype: int64"
      ]
     },
     "execution_count": 122,
     "metadata": {},
     "output_type": "execute_result"
    }
   ],
   "source": [
    "# Fill missing values\n",
    "data.fillna(0, inplace=True)\n",
    "data.isna().sum()"
   ]
  },
  {
   "cell_type": "code",
   "execution_count": 124,
   "id": "4aa8fc36-ac98-469d-b241-f007fe845f8c",
   "metadata": {},
   "outputs": [],
   "source": [
    "# Drop missing\n",
    "data.dropna(inplace=True)"
   ]
  },
  {
   "cell_type": "code",
   "execution_count": 126,
   "id": "82581117-9dfb-4500-8355-8f0f1bf6b62a",
   "metadata": {},
   "outputs": [
    {
     "data": {
      "text/plain": [
       "Index(['CITY', 'state', 'median_home_price_in_million'], dtype='object')"
      ]
     },
     "execution_count": 126,
     "metadata": {},
     "output_type": "execute_result"
    }
   ],
   "source": [
    "# Rename columns\n",
    "data.rename(columns={'city':'CITY'}, inplace=True )\n",
    "data.columns"
   ]
  },
  {
   "cell_type": "code",
   "execution_count": 128,
   "id": "34e9ba82-c7d5-4115-b3a1-12059621c45c",
   "metadata": {},
   "outputs": [
    {
     "data": {
      "text/html": [
       "<div>\n",
       "<style scoped>\n",
       "    .dataframe tbody tr th:only-of-type {\n",
       "        vertical-align: middle;\n",
       "    }\n",
       "\n",
       "    .dataframe tbody tr th {\n",
       "        vertical-align: top;\n",
       "    }\n",
       "\n",
       "    .dataframe thead th {\n",
       "        text-align: right;\n",
       "    }\n",
       "</style>\n",
       "<table border=\"1\" class=\"dataframe\">\n",
       "  <thead>\n",
       "    <tr style=\"text-align: right;\">\n",
       "      <th></th>\n",
       "      <th>CITY</th>\n",
       "      <th>state</th>\n",
       "      <th>median_home_price_in_million</th>\n",
       "    </tr>\n",
       "  </thead>\n",
       "  <tbody>\n",
       "    <tr>\n",
       "      <th>0</th>\n",
       "      <td>Dublin</td>\n",
       "      <td>NH</td>\n",
       "      <td>1.5</td>\n",
       "    </tr>\n",
       "    <tr>\n",
       "      <th>1</th>\n",
       "      <td>Palo Alto</td>\n",
       "      <td>NH</td>\n",
       "      <td>2.0</td>\n",
       "    </tr>\n",
       "    <tr>\n",
       "      <th>2</th>\n",
       "      <td>Fremont</td>\n",
       "      <td>NH</td>\n",
       "      <td>1.7</td>\n",
       "    </tr>\n",
       "    <tr>\n",
       "      <th>3</th>\n",
       "      <td>Reno</td>\n",
       "      <td>NV</td>\n",
       "      <td>0.8</td>\n",
       "    </tr>\n",
       "    <tr>\n",
       "      <th>4</th>\n",
       "      <td>Sunnyvale</td>\n",
       "      <td>NH</td>\n",
       "      <td>2.1</td>\n",
       "    </tr>\n",
       "    <tr>\n",
       "      <th>5</th>\n",
       "      <td>Las Vegas</td>\n",
       "      <td>NV</td>\n",
       "      <td>0.7</td>\n",
       "    </tr>\n",
       "    <tr>\n",
       "      <th>6</th>\n",
       "      <td>Carson City</td>\n",
       "      <td>NV</td>\n",
       "      <td>1.9</td>\n",
       "    </tr>\n",
       "    <tr>\n",
       "      <th>7</th>\n",
       "      <td>Milpitas</td>\n",
       "      <td>NH</td>\n",
       "      <td>1.4</td>\n",
       "    </tr>\n",
       "    <tr>\n",
       "      <th>8</th>\n",
       "      <td>Cupertino</td>\n",
       "      <td>NH</td>\n",
       "      <td>2.5</td>\n",
       "    </tr>\n",
       "    <tr>\n",
       "      <th>9</th>\n",
       "      <td>Pleasanton</td>\n",
       "      <td>NH</td>\n",
       "      <td>1.8</td>\n",
       "    </tr>\n",
       "    <tr>\n",
       "      <th>10</th>\n",
       "      <td>NYC</td>\n",
       "      <td>NY</td>\n",
       "      <td>1.9</td>\n",
       "    </tr>\n",
       "    <tr>\n",
       "      <th>11</th>\n",
       "      <td>Ithica</td>\n",
       "      <td>NY</td>\n",
       "      <td>0.5</td>\n",
       "    </tr>\n",
       "    <tr>\n",
       "      <th>12</th>\n",
       "      <td>Buffalo</td>\n",
       "      <td>NY</td>\n",
       "      <td>0.6</td>\n",
       "    </tr>\n",
       "    <tr>\n",
       "      <th>13</th>\n",
       "      <td>Hayward</td>\n",
       "      <td>NH</td>\n",
       "      <td>1.1</td>\n",
       "    </tr>\n",
       "    <tr>\n",
       "      <th>14</th>\n",
       "      <td>Union City</td>\n",
       "      <td>NH</td>\n",
       "      <td>1.3</td>\n",
       "    </tr>\n",
       "    <tr>\n",
       "      <th>15</th>\n",
       "      <td>Concord</td>\n",
       "      <td>NH</td>\n",
       "      <td>0.5</td>\n",
       "    </tr>\n",
       "    <tr>\n",
       "      <th>16</th>\n",
       "      <td>Merrimack</td>\n",
       "      <td>NH</td>\n",
       "      <td>0.7</td>\n",
       "    </tr>\n",
       "    <tr>\n",
       "      <th>17</th>\n",
       "      <td>San Mateo</td>\n",
       "      <td>NH</td>\n",
       "      <td>2.2</td>\n",
       "    </tr>\n",
       "    <tr>\n",
       "      <th>18</th>\n",
       "      <td>Los Altos</td>\n",
       "      <td>NH</td>\n",
       "      <td>3.0</td>\n",
       "    </tr>\n",
       "    <tr>\n",
       "      <th>19</th>\n",
       "      <td>Campbell</td>\n",
       "      <td>NH</td>\n",
       "      <td>1.7</td>\n",
       "    </tr>\n",
       "  </tbody>\n",
       "</table>\n",
       "</div>"
      ],
      "text/plain": [
       "           CITY state  median_home_price_in_million\n",
       "0        Dublin    NH                           1.5\n",
       "1     Palo Alto    NH                           2.0\n",
       "2       Fremont    NH                           1.7\n",
       "3          Reno    NV                           0.8\n",
       "4     Sunnyvale    NH                           2.1\n",
       "5     Las Vegas    NV                           0.7\n",
       "6   Carson City    NV                           1.9\n",
       "7      Milpitas    NH                           1.4\n",
       "8     Cupertino    NH                           2.5\n",
       "9    Pleasanton    NH                           1.8\n",
       "10          NYC    NY                           1.9\n",
       "11       Ithica    NY                           0.5\n",
       "12      Buffalo    NY                           0.6\n",
       "13      Hayward    NH                           1.1\n",
       "14   Union City    NH                           1.3\n",
       "15      Concord    NH                           0.5\n",
       "16    Merrimack    NH                           0.7\n",
       "17    San Mateo    NH                           2.2\n",
       "18    Los Altos    NH                           3.0\n",
       "19     Campbell    NH                           1.7"
      ]
     },
     "execution_count": 128,
     "metadata": {},
     "output_type": "execute_result"
    }
   ],
   "source": [
    "# Replace values\n",
    "data.replace({'CA':'NH'}, inplace=True)\n",
    "data"
   ]
  },
  {
   "cell_type": "code",
   "execution_count": 130,
   "id": "6d12bff2-a128-428a-a0bc-c6267c4720f7",
   "metadata": {},
   "outputs": [
    {
     "data": {
      "text/plain": [
       "(           CITY state  median_home_price_in_million\n",
       " 0        Dublin    NH                           1.5\n",
       " 1     Palo Alto    NH                           2.0\n",
       " 2       Fremont    NH                           1.7\n",
       " 3          Reno    NV                           0.8\n",
       " 4     Sunnyvale    NH                           2.1\n",
       " 5     Las Vegas    NV                           0.7\n",
       " 6   Carson City    NV                           1.9\n",
       " 7      Milpitas    NH                           1.4\n",
       " 8     Cupertino    NH                           2.5\n",
       " 9    Pleasanton    NH                           1.8\n",
       " 10          NYC    NY                           1.9\n",
       " 11       Ithica    NY                           0.5\n",
       " 12      Buffalo    NY                           0.6\n",
       " 13      Hayward    NH                           1.1\n",
       " 14   Union City    NH                           1.3\n",
       " 15      Concord    NH                           0.5\n",
       " 16    Merrimack    NH                           0.7\n",
       " 17    San Mateo    NH                           2.2\n",
       " 18    Los Altos    NH                           3.0\n",
       " 19     Campbell    NH                           1.7,\n",
       "            CITY state  median_home_price_in_million\n",
       " 0        Dublin    AZ                           1.5\n",
       " 1     Palo Alto    AZ                           2.0\n",
       " 2       Fremont    AZ                           1.7\n",
       " 3          Reno    NV                           0.8\n",
       " 4     Sunnyvale    AZ                           2.1\n",
       " 5     Las Vegas    NV                           0.7\n",
       " 6   Carson City    NV                           1.9\n",
       " 7      Milpitas    AZ                           1.4\n",
       " 8     Cupertino    AZ                           2.5\n",
       " 9    Pleasanton    AZ                           1.8\n",
       " 10          NYC    NY                           1.9\n",
       " 11       Ithica    NY                           0.5\n",
       " 12      Buffalo    NY                           0.6\n",
       " 13      Hayward    AZ                           1.1\n",
       " 14   Union City    AZ                           1.3\n",
       " 15      Concord    AZ                           0.5\n",
       " 16    Merrimack    AZ                           0.7\n",
       " 17    San Mateo    AZ                           2.2\n",
       " 18    Los Altos    AZ                           3.0\n",
       " 19     Campbell    AZ                           1.7)"
      ]
     },
     "execution_count": 130,
     "metadata": {},
     "output_type": "execute_result"
    }
   ],
   "source": [
    "data.replace({'NH':'CA'})\n",
    "data2 = data.replace({'NH':'AZ'})\n",
    "data, data2"
   ]
  },
  {
   "cell_type": "code",
   "execution_count": 132,
   "id": "5c9ce31e-405a-4ff1-a0bd-b87ae7effa72",
   "metadata": {},
   "outputs": [
    {
     "data": {
      "text/html": [
       "<div>\n",
       "<style scoped>\n",
       "    .dataframe tbody tr th:only-of-type {\n",
       "        vertical-align: middle;\n",
       "    }\n",
       "\n",
       "    .dataframe tbody tr th {\n",
       "        vertical-align: top;\n",
       "    }\n",
       "\n",
       "    .dataframe thead th {\n",
       "        text-align: right;\n",
       "    }\n",
       "</style>\n",
       "<table border=\"1\" class=\"dataframe\">\n",
       "  <thead>\n",
       "    <tr style=\"text-align: right;\">\n",
       "      <th></th>\n",
       "      <th>CITY</th>\n",
       "      <th>state</th>\n",
       "      <th>median_home_price_in_million</th>\n",
       "    </tr>\n",
       "  </thead>\n",
       "  <tbody>\n",
       "    <tr>\n",
       "      <th>0</th>\n",
       "      <td>Dublin</td>\n",
       "      <td>CA</td>\n",
       "      <td>1.5</td>\n",
       "    </tr>\n",
       "    <tr>\n",
       "      <th>1</th>\n",
       "      <td>Palo Alto</td>\n",
       "      <td>CA</td>\n",
       "      <td>2.0</td>\n",
       "    </tr>\n",
       "    <tr>\n",
       "      <th>2</th>\n",
       "      <td>Fremont</td>\n",
       "      <td>CA</td>\n",
       "      <td>1.7</td>\n",
       "    </tr>\n",
       "    <tr>\n",
       "      <th>3</th>\n",
       "      <td>Reno</td>\n",
       "      <td>NV</td>\n",
       "      <td>0.8</td>\n",
       "    </tr>\n",
       "    <tr>\n",
       "      <th>4</th>\n",
       "      <td>Sunnyvale</td>\n",
       "      <td>CA</td>\n",
       "      <td>2.1</td>\n",
       "    </tr>\n",
       "  </tbody>\n",
       "</table>\n",
       "</div>"
      ],
      "text/plain": [
       "        CITY state  median_home_price_in_million\n",
       "0     Dublin    CA                           1.5\n",
       "1  Palo Alto    CA                           2.0\n",
       "2    Fremont    CA                           1.7\n",
       "3       Reno    NV                           0.8\n",
       "4  Sunnyvale    CA                           2.1"
      ]
     },
     "execution_count": 132,
     "metadata": {},
     "output_type": "execute_result"
    }
   ],
   "source": [
    "data.replace({'NH': 'CA'}, inplace=True)\n",
    "data.head()"
   ]
  },
  {
   "cell_type": "markdown",
   "id": "acfce03a-1d56-4196-82e9-215f566f0cbc",
   "metadata": {},
   "source": [
    "#### Grouping & Aggregation"
   ]
  },
  {
   "cell_type": "code",
   "execution_count": 135,
   "id": "284e70df-564a-4bae-8ef9-5031abfe6c6d",
   "metadata": {},
   "outputs": [
    {
     "data": {
      "text/html": [
       "<div>\n",
       "<style scoped>\n",
       "    .dataframe tbody tr th:only-of-type {\n",
       "        vertical-align: middle;\n",
       "    }\n",
       "\n",
       "    .dataframe tbody tr th {\n",
       "        vertical-align: top;\n",
       "    }\n",
       "\n",
       "    .dataframe thead th {\n",
       "        text-align: right;\n",
       "    }\n",
       "</style>\n",
       "<table border=\"1\" class=\"dataframe\">\n",
       "  <thead>\n",
       "    <tr style=\"text-align: right;\">\n",
       "      <th></th>\n",
       "      <th>city</th>\n",
       "      <th>state</th>\n",
       "      <th>median_home_price_in_million</th>\n",
       "    </tr>\n",
       "  </thead>\n",
       "  <tbody>\n",
       "    <tr>\n",
       "      <th>0</th>\n",
       "      <td>Dublin</td>\n",
       "      <td>CA</td>\n",
       "      <td>1.5</td>\n",
       "    </tr>\n",
       "    <tr>\n",
       "      <th>1</th>\n",
       "      <td>Palo Alto</td>\n",
       "      <td>CA</td>\n",
       "      <td>2.0</td>\n",
       "    </tr>\n",
       "    <tr>\n",
       "      <th>2</th>\n",
       "      <td>Fremont</td>\n",
       "      <td>CA</td>\n",
       "      <td>1.7</td>\n",
       "    </tr>\n",
       "    <tr>\n",
       "      <th>3</th>\n",
       "      <td>Reno</td>\n",
       "      <td>NV</td>\n",
       "      <td>0.8</td>\n",
       "    </tr>\n",
       "    <tr>\n",
       "      <th>4</th>\n",
       "      <td>Sunnyvale</td>\n",
       "      <td>CA</td>\n",
       "      <td>2.1</td>\n",
       "    </tr>\n",
       "  </tbody>\n",
       "</table>\n",
       "</div>"
      ],
      "text/plain": [
       "        city state  median_home_price_in_million\n",
       "0     Dublin    CA                           1.5\n",
       "1  Palo Alto    CA                           2.0\n",
       "2    Fremont    CA                           1.7\n",
       "3       Reno    NV                           0.8\n",
       "4  Sunnyvale    CA                           2.1"
      ]
     },
     "execution_count": 135,
     "metadata": {},
     "output_type": "execute_result"
    }
   ],
   "source": [
    "data = pd.read_csv('data/housing_data.csv')\n",
    "data.head()"
   ]
  },
  {
   "cell_type": "code",
   "execution_count": 137,
   "id": "4b4689d2-d58f-4428-8727-428d36943d32",
   "metadata": {},
   "outputs": [
    {
     "data": {
      "text/plain": [
       "(state\n",
       " CA    1.909091\n",
       " NH    0.833333\n",
       " NV    1.133333\n",
       " NY    1.000000\n",
       " Name: median_home_price_in_million, dtype: float64,\n",
       " state\n",
       " CA    1.8\n",
       " NH    0.7\n",
       " NV    0.8\n",
       " NY    0.6\n",
       " Name: median_home_price_in_million, dtype: float64)"
      ]
     },
     "execution_count": 137,
     "metadata": {},
     "output_type": "execute_result"
    }
   ],
   "source": [
    "data.groupby('state')['median_home_price_in_million'].mean(), data.groupby('state')['median_home_price_in_million'].median()"
   ]
  },
  {
   "cell_type": "code",
   "execution_count": 139,
   "id": "cf149902-4479-4705-9d2f-b5f7187ce9ce",
   "metadata": {},
   "outputs": [
    {
     "data": {
      "text/html": [
       "<div>\n",
       "<style scoped>\n",
       "    .dataframe tbody tr th:only-of-type {\n",
       "        vertical-align: middle;\n",
       "    }\n",
       "\n",
       "    .dataframe tbody tr th {\n",
       "        vertical-align: top;\n",
       "    }\n",
       "\n",
       "    .dataframe thead tr th {\n",
       "        text-align: left;\n",
       "    }\n",
       "\n",
       "    .dataframe thead tr:last-of-type th {\n",
       "        text-align: right;\n",
       "    }\n",
       "</style>\n",
       "<table border=\"1\" class=\"dataframe\">\n",
       "  <thead>\n",
       "    <tr>\n",
       "      <th></th>\n",
       "      <th colspan=\"4\" halign=\"left\">median_home_price_in_million</th>\n",
       "    </tr>\n",
       "    <tr>\n",
       "      <th></th>\n",
       "      <th>mean</th>\n",
       "      <th>median</th>\n",
       "      <th>max</th>\n",
       "      <th>min</th>\n",
       "    </tr>\n",
       "    <tr>\n",
       "      <th>state</th>\n",
       "      <th></th>\n",
       "      <th></th>\n",
       "      <th></th>\n",
       "      <th></th>\n",
       "    </tr>\n",
       "  </thead>\n",
       "  <tbody>\n",
       "    <tr>\n",
       "      <th>CA</th>\n",
       "      <td>1.909091</td>\n",
       "      <td>1.8</td>\n",
       "      <td>3.0</td>\n",
       "      <td>1.1</td>\n",
       "    </tr>\n",
       "    <tr>\n",
       "      <th>NH</th>\n",
       "      <td>0.833333</td>\n",
       "      <td>0.7</td>\n",
       "      <td>1.3</td>\n",
       "      <td>0.5</td>\n",
       "    </tr>\n",
       "    <tr>\n",
       "      <th>NV</th>\n",
       "      <td>1.133333</td>\n",
       "      <td>0.8</td>\n",
       "      <td>1.9</td>\n",
       "      <td>0.7</td>\n",
       "    </tr>\n",
       "    <tr>\n",
       "      <th>NY</th>\n",
       "      <td>1.000000</td>\n",
       "      <td>0.6</td>\n",
       "      <td>1.9</td>\n",
       "      <td>0.5</td>\n",
       "    </tr>\n",
       "  </tbody>\n",
       "</table>\n",
       "</div>"
      ],
      "text/plain": [
       "      median_home_price_in_million                 \n",
       "                              mean median  max  min\n",
       "state                                              \n",
       "CA                        1.909091    1.8  3.0  1.1\n",
       "NH                        0.833333    0.7  1.3  0.5\n",
       "NV                        1.133333    0.8  1.9  0.7\n",
       "NY                        1.000000    0.6  1.9  0.5"
      ]
     },
     "execution_count": 139,
     "metadata": {},
     "output_type": "execute_result"
    }
   ],
   "source": [
    "data.groupby('state').agg(\n",
    "    {\n",
    "    'median_home_price_in_million': ['mean', 'median', 'max', 'min']\n",
    "    })"
   ]
  },
  {
   "cell_type": "code",
   "execution_count": 141,
   "id": "3e64ac24-a70a-41e5-8c63-9ed3868c3d6c",
   "metadata": {},
   "outputs": [
    {
     "data": {
      "text/html": [
       "<div>\n",
       "<style scoped>\n",
       "    .dataframe tbody tr th:only-of-type {\n",
       "        vertical-align: middle;\n",
       "    }\n",
       "\n",
       "    .dataframe tbody tr th {\n",
       "        vertical-align: top;\n",
       "    }\n",
       "\n",
       "    .dataframe thead th {\n",
       "        text-align: right;\n",
       "    }\n",
       "</style>\n",
       "<table border=\"1\" class=\"dataframe\">\n",
       "  <thead>\n",
       "    <tr style=\"text-align: right;\">\n",
       "      <th></th>\n",
       "      <th>median_home_price_in_million</th>\n",
       "    </tr>\n",
       "  </thead>\n",
       "  <tbody>\n",
       "    <tr>\n",
       "      <th>count</th>\n",
       "      <td>20.00000</td>\n",
       "    </tr>\n",
       "    <tr>\n",
       "      <th>mean</th>\n",
       "      <td>1.49500</td>\n",
       "    </tr>\n",
       "    <tr>\n",
       "      <th>std</th>\n",
       "      <td>0.71191</td>\n",
       "    </tr>\n",
       "    <tr>\n",
       "      <th>min</th>\n",
       "      <td>0.50000</td>\n",
       "    </tr>\n",
       "    <tr>\n",
       "      <th>25%</th>\n",
       "      <td>0.77500</td>\n",
       "    </tr>\n",
       "    <tr>\n",
       "      <th>50%</th>\n",
       "      <td>1.60000</td>\n",
       "    </tr>\n",
       "    <tr>\n",
       "      <th>75%</th>\n",
       "      <td>1.92500</td>\n",
       "    </tr>\n",
       "    <tr>\n",
       "      <th>max</th>\n",
       "      <td>3.00000</td>\n",
       "    </tr>\n",
       "  </tbody>\n",
       "</table>\n",
       "</div>"
      ],
      "text/plain": [
       "       median_home_price_in_million\n",
       "count                      20.00000\n",
       "mean                        1.49500\n",
       "std                         0.71191\n",
       "min                         0.50000\n",
       "25%                         0.77500\n",
       "50%                         1.60000\n",
       "75%                         1.92500\n",
       "max                         3.00000"
      ]
     },
     "execution_count": 141,
     "metadata": {},
     "output_type": "execute_result"
    }
   ],
   "source": [
    "data.describe()"
   ]
  },
  {
   "cell_type": "markdown",
   "id": "41c28550-389a-41a4-89cf-a13e948da93e",
   "metadata": {},
   "source": [
    "#### Merging and Joining Data"
   ]
  },
  {
   "cell_type": "code",
   "execution_count": 144,
   "id": "ed0f945f-1431-44fb-b9c8-7de3f02beb07",
   "metadata": {},
   "outputs": [
    {
     "data": {
      "text/html": [
       "<div>\n",
       "<style scoped>\n",
       "    .dataframe tbody tr th:only-of-type {\n",
       "        vertical-align: middle;\n",
       "    }\n",
       "\n",
       "    .dataframe tbody tr th {\n",
       "        vertical-align: top;\n",
       "    }\n",
       "\n",
       "    .dataframe thead th {\n",
       "        text-align: right;\n",
       "    }\n",
       "</style>\n",
       "<table border=\"1\" class=\"dataframe\">\n",
       "  <thead>\n",
       "    <tr style=\"text-align: right;\">\n",
       "      <th></th>\n",
       "      <th>capital</th>\n",
       "      <th>country</th>\n",
       "    </tr>\n",
       "  </thead>\n",
       "  <tbody>\n",
       "    <tr>\n",
       "      <th>0</th>\n",
       "      <td>Paris</td>\n",
       "      <td>France</td>\n",
       "    </tr>\n",
       "    <tr>\n",
       "      <th>1</th>\n",
       "      <td>New Delhi</td>\n",
       "      <td>India</td>\n",
       "    </tr>\n",
       "    <tr>\n",
       "      <th>2</th>\n",
       "      <td>Washington DC</td>\n",
       "      <td>United States of America</td>\n",
       "    </tr>\n",
       "  </tbody>\n",
       "</table>\n",
       "</div>"
      ],
      "text/plain": [
       "         capital                   country\n",
       "0          Paris                    France\n",
       "1      New Delhi                     India\n",
       "2  Washington DC  United States of America"
      ]
     },
     "execution_count": 144,
     "metadata": {},
     "output_type": "execute_result"
    }
   ],
   "source": [
    "df1 = pd.DataFrame({'capital':['Paris','New Delhi', 'Washington DC'], \\\n",
    "                    'country':['France', 'India', 'United States of America']})\n",
    "df1"
   ]
  },
  {
   "cell_type": "code",
   "execution_count": 146,
   "id": "55f12225-da32-4938-84f4-51ac2de8eff8",
   "metadata": {},
   "outputs": [
    {
     "data": {
      "text/html": [
       "<div>\n",
       "<style scoped>\n",
       "    .dataframe tbody tr th:only-of-type {\n",
       "        vertical-align: middle;\n",
       "    }\n",
       "\n",
       "    .dataframe tbody tr th {\n",
       "        vertical-align: top;\n",
       "    }\n",
       "\n",
       "    .dataframe thead th {\n",
       "        text-align: right;\n",
       "    }\n",
       "</style>\n",
       "<table border=\"1\" class=\"dataframe\">\n",
       "  <thead>\n",
       "    <tr style=\"text-align: right;\">\n",
       "      <th></th>\n",
       "      <th>capital</th>\n",
       "      <th>country_iso_code</th>\n",
       "    </tr>\n",
       "  </thead>\n",
       "  <tbody>\n",
       "    <tr>\n",
       "      <th>0</th>\n",
       "      <td>Paris</td>\n",
       "      <td>FR</td>\n",
       "    </tr>\n",
       "    <tr>\n",
       "      <th>1</th>\n",
       "      <td>New Delhi</td>\n",
       "      <td>IN</td>\n",
       "    </tr>\n",
       "    <tr>\n",
       "      <th>2</th>\n",
       "      <td>Washington DC</td>\n",
       "      <td>US</td>\n",
       "    </tr>\n",
       "  </tbody>\n",
       "</table>\n",
       "</div>"
      ],
      "text/plain": [
       "         capital country_iso_code\n",
       "0          Paris               FR\n",
       "1      New Delhi               IN\n",
       "2  Washington DC               US"
      ]
     },
     "execution_count": 146,
     "metadata": {},
     "output_type": "execute_result"
    }
   ],
   "source": [
    "df2 = pd.DataFrame({'capital':['Paris','New Delhi', 'Washington DC'], \n",
    "                    'country_iso_code':['FR', 'IN', 'US']})\n",
    "df2"
   ]
  },
  {
   "cell_type": "code",
   "execution_count": 156,
   "id": "ec19cd9c-6099-4029-aa8a-dfa882990a4f",
   "metadata": {},
   "outputs": [
    {
     "data": {
      "text/html": [
       "<div>\n",
       "<style scoped>\n",
       "    .dataframe tbody tr th:only-of-type {\n",
       "        vertical-align: middle;\n",
       "    }\n",
       "\n",
       "    .dataframe tbody tr th {\n",
       "        vertical-align: top;\n",
       "    }\n",
       "\n",
       "    .dataframe thead th {\n",
       "        text-align: right;\n",
       "    }\n",
       "</style>\n",
       "<table border=\"1\" class=\"dataframe\">\n",
       "  <thead>\n",
       "    <tr style=\"text-align: right;\">\n",
       "      <th></th>\n",
       "      <th>capital</th>\n",
       "      <th>country</th>\n",
       "      <th>country_iso_code</th>\n",
       "    </tr>\n",
       "  </thead>\n",
       "  <tbody>\n",
       "    <tr>\n",
       "      <th>0</th>\n",
       "      <td>Paris</td>\n",
       "      <td>France</td>\n",
       "      <td>FR</td>\n",
       "    </tr>\n",
       "    <tr>\n",
       "      <th>1</th>\n",
       "      <td>New Delhi</td>\n",
       "      <td>India</td>\n",
       "      <td>IN</td>\n",
       "    </tr>\n",
       "    <tr>\n",
       "      <th>2</th>\n",
       "      <td>Washington DC</td>\n",
       "      <td>United States of America</td>\n",
       "      <td>US</td>\n",
       "    </tr>\n",
       "  </tbody>\n",
       "</table>\n",
       "</div>"
      ],
      "text/plain": [
       "         capital                   country country_iso_code\n",
       "0          Paris                    France               FR\n",
       "1      New Delhi                     India               IN\n",
       "2  Washington DC  United States of America               US"
      ]
     },
     "execution_count": 156,
     "metadata": {},
     "output_type": "execute_result"
    }
   ],
   "source": [
    "df_merged = pd.merge(df1, df2, on='capital')\n",
    "df_merged"
   ]
  },
  {
   "cell_type": "code",
   "execution_count": 150,
   "id": "b76250a1-58a6-4eec-b8ba-410b2033f61b",
   "metadata": {},
   "outputs": [
    {
     "data": {
      "text/html": [
       "<div>\n",
       "<style scoped>\n",
       "    .dataframe tbody tr th:only-of-type {\n",
       "        vertical-align: middle;\n",
       "    }\n",
       "\n",
       "    .dataframe tbody tr th {\n",
       "        vertical-align: top;\n",
       "    }\n",
       "\n",
       "    .dataframe thead th {\n",
       "        text-align: right;\n",
       "    }\n",
       "</style>\n",
       "<table border=\"1\" class=\"dataframe\">\n",
       "  <thead>\n",
       "    <tr style=\"text-align: right;\">\n",
       "      <th></th>\n",
       "      <th>capital</th>\n",
       "      <th>country</th>\n",
       "      <th>capital</th>\n",
       "      <th>country_iso_code</th>\n",
       "    </tr>\n",
       "  </thead>\n",
       "  <tbody>\n",
       "    <tr>\n",
       "      <th>0</th>\n",
       "      <td>Paris</td>\n",
       "      <td>France</td>\n",
       "      <td>Paris</td>\n",
       "      <td>FR</td>\n",
       "    </tr>\n",
       "    <tr>\n",
       "      <th>1</th>\n",
       "      <td>New Delhi</td>\n",
       "      <td>India</td>\n",
       "      <td>New Delhi</td>\n",
       "      <td>IN</td>\n",
       "    </tr>\n",
       "    <tr>\n",
       "      <th>2</th>\n",
       "      <td>Washington DC</td>\n",
       "      <td>United States of America</td>\n",
       "      <td>Washington DC</td>\n",
       "      <td>US</td>\n",
       "    </tr>\n",
       "  </tbody>\n",
       "</table>\n",
       "</div>"
      ],
      "text/plain": [
       "         capital                   country        capital country_iso_code\n",
       "0          Paris                    France          Paris               FR\n",
       "1      New Delhi                     India      New Delhi               IN\n",
       "2  Washington DC  United States of America  Washington DC               US"
      ]
     },
     "execution_count": 150,
     "metadata": {},
     "output_type": "execute_result"
    }
   ],
   "source": [
    "df_combined = pd.concat([df1, df2], axis = 1)\n",
    "df_combined"
   ]
  },
  {
   "cell_type": "code",
   "execution_count": null,
   "id": "1e113f0a-8160-4f80-8951-26dffe6e2c2a",
   "metadata": {},
   "outputs": [],
   "source": []
  },
  {
   "cell_type": "code",
   "execution_count": null,
   "id": "f70a82d4-f66d-4abb-974c-90b9c8addf1b",
   "metadata": {},
   "outputs": [],
   "source": []
  },
  {
   "cell_type": "code",
   "execution_count": null,
   "id": "f78306e3-7f16-4546-9279-f12dd138618e",
   "metadata": {},
   "outputs": [],
   "source": []
  },
  {
   "cell_type": "code",
   "execution_count": null,
   "id": "e9374095-2d01-43d1-879a-7cafef83726a",
   "metadata": {},
   "outputs": [],
   "source": []
  },
  {
   "cell_type": "code",
   "execution_count": null,
   "id": "12266fca-63af-43bb-9a67-36831f719a79",
   "metadata": {},
   "outputs": [],
   "source": []
  }
 ],
 "metadata": {
  "kernelspec": {
   "display_name": "Python (ensemble_learning)",
   "language": "python",
   "name": "ensemble_learning"
  },
  "language_info": {
   "codemirror_mode": {
    "name": "ipython",
    "version": 3
   },
   "file_extension": ".py",
   "mimetype": "text/x-python",
   "name": "python",
   "nbconvert_exporter": "python",
   "pygments_lexer": "ipython3",
   "version": "3.13.3"
  }
 },
 "nbformat": 4,
 "nbformat_minor": 5
}

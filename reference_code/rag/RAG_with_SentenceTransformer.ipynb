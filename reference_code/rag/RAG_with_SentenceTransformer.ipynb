{
 "cells": [
  {
   "cell_type": "markdown",
   "id": "5485752c",
   "metadata": {},
   "source": [
    "# RAG with Native Python and SentenceTransformer"
   ]
  },
  {
   "cell_type": "markdown",
   "id": "d991f7bc",
   "metadata": {},
   "source": [
    "\n",
    "This notebook demonstrates a simple Retrieval-Augmented Generation (RAG) pipeline using native Python and the `sentence-transformers` library.\n"
   ]
  },
  {
   "cell_type": "code",
   "execution_count": 12,
   "id": "8398f040",
   "metadata": {},
   "outputs": [
    {
     "name": "stdout",
     "output_type": "stream",
     "text": [
      "['Employees are paid bi-weekly via direct deposit.', 'Employees must submit a leave request for approval.', 'Company internet must be used for work-related tasks only.']\n",
      "['Employees are paid bi-weekly via direct deposit.', 'Employees must submit a leave request for approval.', 'Company internet must be used for work-related tasks only.']\n"
     ]
    }
   ],
   "source": [
    "# Step 1: Define Sample Documents\n",
    "documents = [\n",
    "    {\"section\": \"Pay Policies\", \"content\": \"Employees are paid bi-weekly via direct deposit.\"},\n",
    "    {\"section\": \"Leave of Absence\", \"content\": \"Employees must submit a leave request for approval.\"},\n",
    "    {\"section\": \"Internet Use\", \"content\": \"Company internet must be used for work-related tasks only.\"}\n",
    "]\n",
    "# \"What’s the internet usage policy?\"\n",
    "\n",
    "texts = [doc[\"content\"] for doc in documents]\n",
    "\n",
    "out = []\n",
    "for doc in documents:\n",
    "    out.append(doc[\"content\"])\n",
    "    \n",
    "print (out)    \n",
    "print (texts)    \n"
   ]
  },
  {
   "cell_type": "code",
   "execution_count": 14,
   "id": "b949dbb5-a0fb-4d55-a1b9-546477dc36a0",
   "metadata": {},
   "outputs": [
    {
     "data": {
      "text/plain": [
       "['Employees are paid bi-weekly via direct deposit.',\n",
       " 'Employees must submit a leave request for approval.',\n",
       " 'Company internet must be used for work-related tasks only.']"
      ]
     },
     "execution_count": 14,
     "metadata": {},
     "output_type": "execute_result"
    }
   ],
   "source": [
    "texts"
   ]
  },
  {
   "cell_type": "code",
   "execution_count": 16,
   "id": "8aeca9cb-7e2e-4d69-a02f-2c08142146c9",
   "metadata": {},
   "outputs": [],
   "source": [
    "# Step 2: Generate Embeddings using SentenceTransformers\n",
    "# import os\n",
    "# os.environ[\"TOKENIZERS_PARALLELISM\"] = \"false\"\n",
    "!pip install -q sentence-transformers\n"
   ]
  },
  {
   "cell_type": "code",
   "execution_count": 17,
   "id": "a6c84c0d",
   "metadata": {},
   "outputs": [],
   "source": [
    "from sentence_transformers import SentenceTransformer\n",
    "\n",
    "model = SentenceTransformer(\"all-MiniLM-L6-v2\")\n",
    "doc_vectors = model.encode(texts)"
   ]
  },
  {
   "cell_type": "code",
   "execution_count": 18,
   "id": "8350f8b4-fea2-45b7-9162-d610970ca8de",
   "metadata": {},
   "outputs": [
    {
     "data": {
      "text/plain": [
       "array([[ 0.02472513, -0.00908154,  0.0388713 , ...,  0.01965643,\n",
       "         0.04260011, -0.0270714 ],\n",
       "       [ 0.03315501,  0.04853382,  0.04736271, ...,  0.10182006,\n",
       "         0.09159283,  0.00358372],\n",
       "       [-0.07135905, -0.03066471,  0.03183768, ..., -0.04109796,\n",
       "         0.06524777, -0.00688536]], dtype=float32)"
      ]
     },
     "execution_count": 18,
     "metadata": {},
     "output_type": "execute_result"
    }
   ],
   "source": [
    "doc_vectors"
   ]
  },
  {
   "cell_type": "code",
   "execution_count": 19,
   "id": "5ae1f0ea-773d-4eee-beef-837e8feee3df",
   "metadata": {},
   "outputs": [],
   "source": [
    "# Step 3: User Query and Semantic Matching\n",
    "import numpy as np\n",
    "\n",
    "query = \"What’s the internet usage policy?\"\n",
    "query_vec = model.encode([query])[0]\n"
   ]
  },
  {
   "cell_type": "code",
   "execution_count": 21,
   "id": "7435bcf0-372c-42b9-a30f-8c8b394b9551",
   "metadata": {},
   "outputs": [
    {
     "data": {
      "text/plain": [
       "array([ 2.39813561e-03, -4.11839783e-02, -2.52490658e-02, -4.67050374e-02,\n",
       "        4.32102755e-03,  1.65876076e-02,  1.20891683e-01, -3.50352898e-02,\n",
       "        2.16830079e-03, -1.62922734e-04,  2.62875743e-02,  9.05028209e-02,\n",
       "       -2.66066529e-02, -1.82131957e-02,  3.06277610e-02,  1.67855043e-02,\n",
       "        1.55614521e-02, -8.26497599e-02, -3.40456255e-02, -3.08671687e-02,\n",
       "        7.89995119e-02, -3.16904001e-02,  1.35831600e-02,  9.12294374e-04,\n",
       "       -1.05809420e-02,  3.91190834e-02, -3.48707661e-02,  8.64400427e-05,\n",
       "       -3.52702551e-02,  3.56902480e-02,  9.55272932e-03, -3.57899293e-02,\n",
       "        4.84948931e-03, -4.10226807e-02, -7.66861960e-02, -1.00646719e-01,\n",
       "       -9.23561156e-02, -2.47272290e-03, -2.74321288e-02,  2.85045728e-02,\n",
       "        2.86296159e-02, -7.78359026e-02, -2.46465160e-03,  9.98250395e-02,\n",
       "        5.86106852e-02,  2.24836022e-02,  1.56629962e-04,  1.44218048e-02,\n",
       "        5.55960927e-04,  3.22429538e-02,  1.03300080e-01,  3.42919901e-02,\n",
       "        3.94683182e-02,  6.23769723e-02,  1.07596479e-02, -1.15800157e-01,\n",
       "        1.69064272e-02,  2.19254363e-02,  3.00978776e-02,  2.11112853e-02,\n",
       "       -2.59692478e-03, -7.27642179e-02, -6.76790178e-02,  7.68678039e-02,\n",
       "       -1.15296878e-02,  3.48517634e-02, -2.33591758e-02,  1.52927935e-02,\n",
       "       -2.97643058e-02,  4.55084406e-02, -1.15567736e-01,  3.93702835e-02,\n",
       "       -5.40503450e-02,  4.61292304e-02,  1.33388545e-02, -7.51991645e-02,\n",
       "        6.38950542e-02, -3.08051286e-03,  7.49371499e-02, -1.85617097e-02,\n",
       "        1.43101709e-02, -1.72361545e-02,  1.37788579e-01, -3.29505950e-02,\n",
       "       -2.56322753e-02,  8.07304494e-03, -5.46996482e-02, -2.44552828e-03,\n",
       "        6.52807802e-02, -4.95157167e-02,  1.53207332e-02,  6.97189197e-02,\n",
       "        4.46444452e-02,  9.65362638e-02, -5.11302352e-02, -2.05873512e-02,\n",
       "       -2.10972764e-02, -9.71185192e-02, -7.94049427e-02,  3.12589444e-02,\n",
       "       -7.50529999e-03,  4.97668311e-02, -1.00573506e-02,  2.52762157e-03,\n",
       "       -2.05895305e-03, -6.02670293e-03,  4.75016981e-02,  1.23082176e-01,\n",
       "        6.58616051e-02,  9.37834680e-02, -3.74155864e-02, -5.54867089e-02,\n",
       "        3.39797661e-02, -3.74260955e-02, -1.43938127e-03, -5.31308763e-02,\n",
       "       -2.65755206e-02,  8.18826724e-03,  1.13860309e-01,  5.81826493e-02,\n",
       "       -1.55394077e-02, -2.76697166e-02,  3.24097835e-02, -7.08238930e-02,\n",
       "        4.29186784e-03, -1.16477907e-02, -1.73570439e-02, -7.55855357e-33,\n",
       "        3.06552164e-02,  1.16771590e-02, -6.09755144e-02, -3.86530273e-02,\n",
       "        2.68617719e-02, -9.85140167e-03, -1.86320804e-02,  3.65657695e-02,\n",
       "       -2.80132126e-02, -6.09582774e-02,  3.79797034e-02,  5.13066687e-02,\n",
       "       -1.49087738e-02,  3.34051251e-02,  1.48161471e-01,  4.69705537e-02,\n",
       "        1.32075162e-03,  1.31207407e-01,  1.67063147e-01,  4.77649719e-02,\n",
       "        3.71823236e-02, -7.08109438e-02,  3.26992162e-02,  3.89834233e-02,\n",
       "        1.62046310e-02, -4.45157699e-02, -1.83472186e-02,  3.33901532e-02,\n",
       "        7.85625800e-02,  1.19626718e-02,  3.47427540e-02, -1.34447645e-02,\n",
       "       -5.79932891e-02, -2.93444935e-02,  1.02427244e-01,  2.88467407e-02,\n",
       "       -2.70553902e-02,  4.19908464e-02, -3.16849835e-02,  1.88855827e-02,\n",
       "       -4.65316735e-02,  3.45926872e-03, -1.98343378e-02,  2.03862619e-02,\n",
       "       -7.21614510e-02, -4.11909074e-02, -2.97252368e-02, -4.65086624e-02,\n",
       "       -8.75939149e-03,  7.15975314e-02,  5.49731590e-03,  2.10421439e-02,\n",
       "       -3.88432443e-02,  3.64192314e-02, -6.46178722e-02,  6.77569434e-02,\n",
       "       -6.87137991e-02, -1.51219117e-02,  6.75941110e-02, -2.46229153e-02,\n",
       "        1.07241333e-01, -2.48208158e-02, -9.58736427e-03,  2.40379497e-02,\n",
       "       -1.86629277e-02, -7.43626524e-03,  8.44405964e-03,  8.51176400e-03,\n",
       "       -3.66360173e-02,  7.39884039e-04,  4.95232362e-03,  1.98397692e-02,\n",
       "        3.04450076e-02,  2.42030043e-02, -6.73281699e-02,  5.20315617e-02,\n",
       "       -5.60340919e-02,  2.12671179e-02, -7.85245374e-02, -7.31086731e-03,\n",
       "       -1.28207905e-02,  7.62082683e-03,  5.63642569e-02, -4.32055928e-02,\n",
       "       -3.98840308e-02, -7.61049986e-02, -9.99084488e-03,  3.78900394e-02,\n",
       "       -6.75894842e-02,  7.69867748e-02, -3.56641896e-02, -5.13898907e-03,\n",
       "       -5.80386147e-02,  4.74707372e-02,  2.64645685e-02,  4.76736942e-33,\n",
       "       -5.03876656e-02,  2.03285310e-02, -5.34088491e-03,  2.58832630e-02,\n",
       "       -5.64486869e-02, -1.21453796e-02,  3.77588570e-02,  2.94775348e-02,\n",
       "        3.24929655e-02,  3.92705314e-02, -3.38439196e-02,  4.90851030e-02,\n",
       "        4.36564460e-02, -3.22917961e-02,  8.05930141e-03, -5.83074465e-02,\n",
       "       -3.06452550e-02, -7.70597011e-02, -9.39259306e-02, -1.01629384e-02,\n",
       "       -4.43021692e-02, -7.66233578e-02, -4.50960658e-02, -1.40237166e-02,\n",
       "        2.23381957e-03, -2.42459662e-02, -4.31172326e-02, -6.72469810e-02,\n",
       "       -8.69243592e-03, -7.64959957e-03, -3.22375447e-02, -2.70511489e-02,\n",
       "       -5.16184978e-02, -9.34266020e-03, -5.81298620e-02,  6.65489305e-03,\n",
       "        1.23528736e-02,  1.24266185e-01,  3.46941650e-02,  2.53748242e-02,\n",
       "        3.36179174e-02,  1.25614628e-02, -2.43623368e-02,  9.49835181e-02,\n",
       "        1.68447569e-02,  2.92414781e-02, -4.98966761e-02,  1.29347453e-02,\n",
       "       -6.95437193e-02, -9.73177887e-03,  7.63179287e-02, -4.15893234e-02,\n",
       "        3.08878012e-02, -2.62137074e-02, -4.42714654e-02,  2.73383278e-02,\n",
       "        9.84304864e-03, -7.10924249e-03, -6.75565144e-03,  1.73268151e-02,\n",
       "        7.15261847e-02, -4.79633957e-02, -1.44953117e-01,  5.72161563e-02,\n",
       "       -1.38593083e-02, -1.15896603e-02,  1.13691727e-03, -1.83663773e-03,\n",
       "        6.17345050e-02,  1.08358003e-02,  3.57802324e-02, -5.02969809e-02,\n",
       "       -2.63799708e-02, -1.84117369e-02, -1.93655454e-02, -3.46045606e-02,\n",
       "        1.31017894e-01,  5.20426147e-02, -8.03731382e-02,  6.47592247e-02,\n",
       "        1.00813969e-03,  7.17016011e-02,  1.30139745e-03, -3.62921096e-02,\n",
       "       -1.00092851e-02, -8.76510516e-02,  1.54927196e-02, -5.25876880e-02,\n",
       "       -9.96984243e-02, -5.92198176e-03, -6.65123910e-02, -3.05305030e-02,\n",
       "       -1.50843382e-01,  5.93997948e-02, -2.11996678e-02, -1.55651616e-08,\n",
       "       -3.90875153e-02,  1.00960815e-02,  1.02275096e-01,  1.59482751e-02,\n",
       "        6.27622753e-02,  4.61509787e-02,  7.00819045e-02,  1.54741360e-02,\n",
       "        1.24749262e-02, -1.12211592e-02,  8.47484469e-02,  7.65789971e-02,\n",
       "       -3.07727605e-02, -7.13087395e-02,  3.24047096e-02, -3.36870290e-02,\n",
       "        3.92961018e-02, -8.42217878e-02, -7.83958565e-03,  5.94570674e-02,\n",
       "        1.76957296e-03, -6.20616153e-02, -3.33138257e-02, -4.05824631e-02,\n",
       "        1.14716813e-02,  6.62660748e-02,  5.13358079e-02,  7.23474696e-02,\n",
       "        6.11062453e-04,  7.44848996e-02, -4.51177880e-02,  2.27409545e-02,\n",
       "       -3.77223454e-02, -7.05108568e-02, -8.18264633e-02,  9.12022404e-03,\n",
       "       -7.93218613e-02, -5.53481691e-02,  3.95663083e-02, -9.16413311e-03,\n",
       "        4.83492427e-02, -1.49150360e-02,  1.28193930e-01,  1.49262259e-02,\n",
       "        2.96469126e-02,  5.26853427e-02, -1.13804348e-01,  5.24924062e-02,\n",
       "        8.44675750e-02, -6.12895116e-02, -2.90583819e-02, -6.14745691e-02,\n",
       "        5.36277480e-02,  7.21471086e-02, -1.98238548e-02, -4.26707901e-02,\n",
       "        6.67688325e-02, -1.66884679e-02, -7.12624341e-02,  7.55198598e-02,\n",
       "        2.43237838e-02,  3.12411692e-03,  5.78151969e-03,  1.40317890e-03],\n",
       "      dtype=float32)"
      ]
     },
     "execution_count": 21,
     "metadata": {},
     "output_type": "execute_result"
    }
   ],
   "source": [
    "query_vec"
   ]
  },
  {
   "cell_type": "code",
   "execution_count": 22,
   "id": "e9865e70",
   "metadata": {},
   "outputs": [
    {
     "data": {
      "text/plain": [
       "array([0.12655607, 0.09747529, 0.44755283], dtype=float32)"
      ]
     },
     "execution_count": 22,
     "metadata": {},
     "output_type": "execute_result"
    }
   ],
   "source": [
    "\n",
    "# Step 3: User Query and Semantic Matching\n",
    "import numpy as np\n",
    "\n",
    "# Compute cosine similarity\n",
    "sims = np.dot(doc_vectors, query_vec)\n",
    "sims"
   ]
  },
  {
   "cell_type": "code",
   "execution_count": 40,
   "id": "c9d399a4-83af-47d4-9130-6f10503fa8ff",
   "metadata": {},
   "outputs": [
    {
     "data": {
      "text/plain": [
       "(array([0.12655607, 0.09747529, 0.44755283], dtype=float32), 2)"
      ]
     },
     "execution_count": 40,
     "metadata": {},
     "output_type": "execute_result"
    }
   ],
   "source": [
    "top_idx = np.argmax(sims)\n",
    "sims, top_idx"
   ]
  },
  {
   "cell_type": "code",
   "execution_count": 42,
   "id": "a7c556c7-6eab-47c5-a269-8f8aa5a79ec7",
   "metadata": {},
   "outputs": [
    {
     "name": "stdout",
     "output_type": "stream",
     "text": [
      "Matched section: Internet Use\n",
      "Matched content: Company internet must be used for work-related tasks only.\n",
      "{'section': 'Internet Use', 'content': 'Company internet must be used for work-related tasks only.'}\n"
     ]
    }
   ],
   "source": [
    "top_doc = documents[top_idx]\n",
    "\n",
    "\n",
    "print(\"Matched section:\", top_doc[\"section\"])\n",
    "print(\"Matched content:\", top_doc[\"content\"])\n",
    "print (top_doc)"
   ]
  },
  {
   "cell_type": "code",
   "execution_count": null,
   "id": "20e58cc3-bc00-4f55-905e-f6aa9f5139ce",
   "metadata": {},
   "outputs": [],
   "source": []
  },
  {
   "cell_type": "code",
   "execution_count": 52,
   "id": "e2e63c5c",
   "metadata": {},
   "outputs": [
    {
     "name": "stdout",
     "output_type": "stream",
     "text": [
      "LLM Answer: Within these walls, the net we weave,\n",
      "For work alone, its threads conceived.\n",
      "No wand’ring far on leisure’s shore,\n",
      "Its realm is tasks that duty bore.\n",
      "\n",
      "So mind the rule, keep purpose pure,\n",
      "For work-related use, ensure.\n",
      "The internet’s a tool, not play,\n",
      "Respect its course, throughout the day.\n"
     ]
    }
   ],
   "source": [
    "\n",
    "# Step 4: Use OpenAI to generate response (if you have an API key)\n",
    "# pip install openai --quiet\n",
    "\n",
    "from openai import OpenAI\n",
    "import os\n",
    "import openai\n",
    "\n",
    "\n",
    "\n",
    "\n",
    "client = OpenAI() \n",
    "\n",
    "# response = client.chat.completions.create(\n",
    "#     model=\"gpt-4.1-mini\",\n",
    "#     messages=[\n",
    "#         {\"role\": \"system\", \"content\": \"You are an assistant who answers only based on the given context.\"},\n",
    "#         {\"role\": \"user\", \"content\": f\"Question: {query}\"}\n",
    "#     ]\n",
    "# )\n",
    "\n",
    "\n",
    "response = client.chat.completions.create(\n",
    "    model=\"gpt-4.1-mini\",\n",
    "    messages=[\n",
    "        {\"role\": \"system\", \"content\": \"You are an assistant who answers only based on the given context. Make it sound like a poem!\"},\n",
    "        {\"role\": \"user\", \"content\": f\"Context: {top_doc['content']}\\n\\nQuestion: {query}\"}\n",
    "    ]\n",
    ")\n",
    "\n",
    "print(\"LLM Answer:\", response.choices[0].message.content)\n"
   ]
  },
  {
   "cell_type": "code",
   "execution_count": null,
   "id": "cd40bf9b-0054-4f87-88d6-47446fd497e7",
   "metadata": {},
   "outputs": [],
   "source": []
  },
  {
   "cell_type": "code",
   "execution_count": null,
   "id": "3af5ab65-7246-4b11-bbe1-ce395ac75a95",
   "metadata": {},
   "outputs": [],
   "source": []
  }
 ],
 "metadata": {
  "kernelspec": {
   "display_name": "Python 3 (ipykernel)",
   "language": "python",
   "name": "python3"
  },
  "language_info": {
   "codemirror_mode": {
    "name": "ipython",
    "version": 3
   },
   "file_extension": ".py",
   "mimetype": "text/x-python",
   "name": "python",
   "nbconvert_exporter": "python",
   "pygments_lexer": "ipython3",
   "version": "3.12.7"
  }
 },
 "nbformat": 4,
 "nbformat_minor": 5
}

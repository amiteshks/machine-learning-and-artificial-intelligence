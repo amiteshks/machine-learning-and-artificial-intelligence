{
 "cells": [
  {
   "attachments": {},
   "cell_type": "markdown",
   "metadata": {},
   "source": [
    "### Models for Classification Problems - Summary\n",
    "In this exercise, I would compare and summarize the following models for a Classification Problem:\n",
    "1. Logistic Regression\n",
    "2. Decision Tree Classifier\n",
    "3. K Nearest NEighbor CLassifier\n",
    "3. SVM (Support Vector Machine) Classifier\n",
    "\n",
    "We will aply this to hand written digits data provided by the sklearn dataset "
   ]
  },
  {
   "cell_type": "code",
   "execution_count": 40,
   "metadata": {},
   "outputs": [],
   "source": [
    "import pandas as pd\n",
    "import matplotlib.pyplot as plt\n",
    "from sklearn.datasets import load_digits"
   ]
  },
  {
   "cell_type": "markdown",
   "metadata": {},
   "source": [
    "The data is loaded below.  Note that the handwritten digit data is already split into features and target (`digits`, `labels`). "
   ]
  },
  {
   "cell_type": "code",
   "execution_count": 41,
   "metadata": {},
   "outputs": [
    {
     "data": {
      "text/plain": [
       "(array([[ 0.,  0.,  5., ...,  0.,  0.,  0.],\n",
       "        [ 0.,  0.,  0., ..., 10.,  0.,  0.],\n",
       "        [ 0.,  0.,  0., ..., 16.,  9.,  0.],\n",
       "        ...,\n",
       "        [ 0.,  0.,  1., ...,  6.,  0.,  0.],\n",
       "        [ 0.,  0.,  2., ..., 12.,  0.,  0.],\n",
       "        [ 0.,  0., 10., ..., 12.,  1.,  0.]], shape=(1797, 64)),\n",
       " array([0, 1, 2, ..., 8, 9, 8], shape=(1797,)))"
      ]
     },
     "execution_count": 41,
     "metadata": {},
     "output_type": "execute_result"
    }
   ],
   "source": [
    "digits, labels = load_digits(return_X_y=True)\n",
    "digits, labels\n"
   ]
  },
  {
   "cell_type": "code",
   "execution_count": 42,
   "metadata": {},
   "outputs": [
    {
     "data": {
      "image/png": "[encoded data removed]",
      "text/plain": [
       "<Figure size 640x480 with 1 Axes>"
      ]
     },
     "metadata": {},
     "output_type": "display_data"
    }
   ],
   "source": [
    "# fig, axes = plt.subplots(1, 3, figsize=(15, 5))  # 1 row, 3 columns\n",
    "\n",
    "plt.imshow(digits[2].reshape(8, 8))\n",
    "plt.title('This is a handwritten 2.');"
   ]
  },
  {
   "cell_type": "markdown",
   "metadata": {},
   "source": [
    "### As we have seen in few examples now, this problem would have following steps to solve:\n",
    "\n",
    "1. Normalize the Scalar features\n",
    "2. Get X_train, X_test, y_train and y_test\n",
    "3. Create the regression models Logitsic Regression, Decision Tree Classifier, KNN CLassifier and Support Vector Machine (SVM) Classifier\n",
    "4. Create a Grid Search Cross Validation Object and pass the relevant paramaters\n",
    "5. Fit the Grid Search and collect various stats, such as fit time, training accurracy, test accuracy, best fit etc  "
   ]
  },
  {
   "cell_type": "code",
   "execution_count": 43,
   "metadata": {},
   "outputs": [
    {
     "name": "stdout",
     "output_type": "stream",
     "text": [
      "[ 0.  0.  5. 13.  9.]\n",
      "[ 0.         -0.33501649 -0.04308102  0.27407152 -0.66447751]\n"
     ]
    }
   ],
   "source": [
    "# Normalize the Scalar features\n",
    "from sklearn.preprocessing import StandardScaler\n",
    "\n",
    "print (digits[0][:5])\n",
    "digits = StandardScaler().fit_transform(digits)\n",
    "print (digits[0][:5])"
   ]
  },
  {
   "cell_type": "code",
   "execution_count": 44,
   "metadata": {},
   "outputs": [],
   "source": [
    "# Get X_train, X_test, y_train and y_test\n",
    "from sklearn.model_selection import train_test_split\n",
    "\n",
    "X_train, X_test, y_train, y_test = train_test_split(digits, labels)"
   ]
  },
  {
   "cell_type": "markdown",
   "metadata": {},
   "source": [
    "#### Create the regression models with Grid Search CV\n",
    "3. Logitsic Regression, Decision Tree Classifier, KNN CLassifier and Simple Vector Machine (SVM) Classifier\n",
    "4. Create a Grid Search Cross Validation Object and pass the relevant paramaters\n",
    "5. Fit the Grid Search and collect various stats, such as fit time, training accurracy, test accuracy, best fit etc  "
   ]
  },
  {
   "cell_type": "code",
   "execution_count": 45,
   "metadata": {},
   "outputs": [
    {
     "name": "stdout",
     "output_type": "stream",
     "text": [
      "LogisticRegression(C=1, max_iter=1000)\n"
     ]
    },
    {
     "data": {
      "text/plain": [
       "[['Logistic Regression', 0.9985152190051967, 0.96, 0.4185933272043864]]"
      ]
     },
     "execution_count": 45,
     "metadata": {},
     "output_type": "execute_result"
    }
   ],
   "source": [
    "#Logistic Regression\n",
    "from sklearn.linear_model import LogisticRegression\n",
    "from sklearn.model_selection import GridSearchCV\n",
    "import time\n",
    "\n",
    "from sklearn.metrics import accuracy_score\n",
    "\n",
    "results = []\n",
    "\n",
    "param_dict = {'C': [0.1, 1, 10]}\n",
    "\n",
    "logistic_regression = LogisticRegression(max_iter=1000)\n",
    "grid = GridSearchCV(estimator=logistic_regression, param_grid=param_dict)\n",
    "\n",
    "start_time = time.time()\n",
    "grid.fit(X_train, y_train)\n",
    "fit_time = (time.time() - start_time) / len(grid.cv_results_['mean_fit_time'])\n",
    "    \n",
    "\n",
    "best_model = grid.best_estimator_\n",
    "print (best_model)\n",
    "\n",
    "# Evaluate on training and test sets\n",
    "train_score = best_model.score(X_train, y_train)\n",
    "test_score = best_model.score(X_test, y_test)\n",
    "\n",
    "results.append([\"Logistic Regression\", train_score, test_score, fit_time])\n",
    "\n",
    "results"
   ]
  },
  {
   "cell_type": "code",
   "execution_count": 46,
   "metadata": {},
   "outputs": [
    {
     "data": {
      "text/plain": [
       "[['Logistic Regression', 0.9985152190051967, 0.96, 0.4185933272043864],\n",
       " ['Decision Tree Classifier', 1.0, 0.8488888888888889, 0.1842824618021647]]"
      ]
     },
     "execution_count": 46,
     "metadata": {},
     "output_type": "execute_result"
    }
   ],
   "source": [
    "#Decision Trees\n",
    "from sklearn.tree import DecisionTreeClassifier\n",
    "\n",
    "y_pred = ''\n",
    "param_dict = {'max_depth': [5, 10, 15]}\n",
    "\n",
    "decision_tree = DecisionTreeClassifier()\n",
    "\n",
    "grid = GridSearchCV(estimator=decision_tree, param_grid=param_dict)\n",
    "start_time = time.time()\n",
    "    \n",
    "grid.fit(X_train, y_train)\n",
    "fit_time = (time.time() - start_time) / len(grid.cv_results_['mean_fit_time'])\n",
    "    \n",
    "\n",
    "best_model = grid.best_estimator_\n",
    "\n",
    "# Evaluate on training and test sets\n",
    "train_score = best_model.score(X_train, y_train)\n",
    "test_score = best_model.score(X_test, y_test)\n",
    "\n",
    "results.append([\"Decision Tree Classifier\", train_score, test_score, fit_time])\n",
    "\n",
    "results"
   ]
  },
  {
   "cell_type": "code",
   "execution_count": 47,
   "metadata": {},
   "outputs": [
    {
     "data": {
      "text/plain": [
       "[['Logistic Regression', 0.9985152190051967, 0.96, 0.4185933272043864],\n",
       " ['Decision Tree Classifier', 1.0, 0.8488888888888889, 0.1842824618021647],\n",
       " ['KNN Classifier',\n",
       "  0.9814402375649591,\n",
       "  0.9622222222222222,\n",
       "  0.055933475494384766]]"
      ]
     },
     "execution_count": 47,
     "metadata": {},
     "output_type": "execute_result"
    }
   ],
   "source": [
    "#KNN\n",
    "from sklearn.neighbors import KNeighborsClassifier\n",
    "\n",
    "param_dict = {'n_neighbors': [3, 5, 7]}\n",
    "knn_classifier = KNeighborsClassifier()\n",
    "grid = GridSearchCV(estimator=knn_classifier, param_grid=param_dict)\n",
    "\n",
    "start_time = time.time()\n",
    "grid.fit(X_train, y_train)\n",
    "fit_time = (time.time() - start_time) / len(grid.cv_results_['mean_fit_time'])\n",
    "    \n",
    "best_model = grid.best_estimator_\n",
    "\n",
    "# Evaluate on training and test sets\n",
    "train_score = best_model.score(X_train, y_train)\n",
    "test_score = best_model.score(X_test, y_test)\n",
    "\n",
    "results.append([\"KNN Classifier\", train_score, test_score, fit_time])\n",
    "\n",
    "results"
   ]
  },
  {
   "cell_type": "code",
   "execution_count": 48,
   "metadata": {},
   "outputs": [],
   "source": [
    "#SVM\n",
    "from sklearn.svm import SVC\n",
    "\n",
    "\n",
    "support_vector_classifier = SVC(kernel='linear', degree=2)\n",
    "support_vector_classifier.fit(X_train, y_train)\n",
    "\n",
    "param_dict = {'C': [0.1, 1, 10]}\n",
    "\n",
    "grid = GridSearchCV(estimator=support_vector_classifier, param_grid=param_dict)\n",
    "\n",
    "start_time = time.time()\n",
    "grid.fit(X_train, y_train)\n",
    "fit_time = (time.time() - start_time) / len(grid.cv_results_['mean_fit_time'])\n",
    "    \n",
    "\n",
    "best_model = grid.best_estimator_\n",
    "\n",
    "# Evaluate on training and test sets\n",
    "train_score = best_model.score(X_train, y_train)\n",
    "test_score = best_model.score(X_test, y_test)\n",
    "\n",
    "results.append([\"Support Vector Classifier\", train_score, test_score, fit_time])"
   ]
  },
  {
   "cell_type": "code",
   "execution_count": 49,
   "metadata": {},
   "outputs": [
    {
     "data": {
      "text/html": [
       "<div>\n",
       "<style scoped>\n",
       "    .dataframe tbody tr th:only-of-type {\n",
       "        vertical-align: middle;\n",
       "    }\n",
       "\n",
       "    .dataframe tbody tr th {\n",
       "        vertical-align: top;\n",
       "    }\n",
       "\n",
       "    .dataframe thead th {\n",
       "        text-align: right;\n",
       "    }\n",
       "</style>\n",
       "<table border=\"1\" class=\"dataframe\">\n",
       "  <thead>\n",
       "    <tr style=\"text-align: right;\">\n",
       "      <th></th>\n",
       "      <th>Name</th>\n",
       "      <th>Training Score</th>\n",
       "      <th>Test Score</th>\n",
       "      <th>Fit Time (Seconds)</th>\n",
       "    </tr>\n",
       "  </thead>\n",
       "  <tbody>\n",
       "    <tr>\n",
       "      <th>0</th>\n",
       "      <td>Logistic Regression</td>\n",
       "      <td>0.998515</td>\n",
       "      <td>0.960000</td>\n",
       "      <td>0.418593</td>\n",
       "    </tr>\n",
       "    <tr>\n",
       "      <th>1</th>\n",
       "      <td>Decision Tree Classifier</td>\n",
       "      <td>1.000000</td>\n",
       "      <td>0.848889</td>\n",
       "      <td>0.184282</td>\n",
       "    </tr>\n",
       "    <tr>\n",
       "      <th>2</th>\n",
       "      <td>KNN Classifier</td>\n",
       "      <td>0.981440</td>\n",
       "      <td>0.962222</td>\n",
       "      <td>0.055933</td>\n",
       "    </tr>\n",
       "    <tr>\n",
       "      <th>3</th>\n",
       "      <td>Support Vector Classifier</td>\n",
       "      <td>1.000000</td>\n",
       "      <td>0.971111</td>\n",
       "      <td>0.276682</td>\n",
       "    </tr>\n",
       "  </tbody>\n",
       "</table>\n",
       "</div>"
      ],
      "text/plain": [
       "                        Name  Training Score  Test Score  Fit Time (Seconds)\n",
       "0        Logistic Regression        0.998515    0.960000            0.418593\n",
       "1   Decision Tree Classifier        1.000000    0.848889            0.184282\n",
       "2             KNN Classifier        0.981440    0.962222            0.055933\n",
       "3  Support Vector Classifier        1.000000    0.971111            0.276682"
      ]
     },
     "execution_count": 49,
     "metadata": {},
     "output_type": "execute_result"
    }
   ],
   "source": [
    "results\n",
    "results_df = pd.DataFrame(results, columns=['Name','Training Score','Test Score','Fit Time (Seconds)'])\n",
    "\n",
    "results_df"
   ]
  }
 ],
 "metadata": {
  "kernelspec": {
   "display_name": "Python 3",
   "language": "python",
   "name": "python3"
  },
  "language_info": {
   "codemirror_mode": {
    "name": "ipython",
    "version": 3
   },
   "file_extension": ".py",
   "mimetype": "text/x-python",
   "name": "python",
   "nbconvert_exporter": "python",
   "pygments_lexer": "ipython3",
   "version": "3.12.9"
  }
 },
 "nbformat": 4,
 "nbformat_minor": 4
}

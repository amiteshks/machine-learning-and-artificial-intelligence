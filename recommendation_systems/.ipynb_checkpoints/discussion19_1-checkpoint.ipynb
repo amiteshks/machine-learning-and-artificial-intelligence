{
 "cells": [
  {
   "cell_type": "markdown",
   "metadata": {},
   "source": [
    "# Building a Recommender System with SURPRISE & Comparing Performance (RMSE) of Various Algorithms\r",
    "\r\n",
    "\r\n",
    "In this project, we build and compare various recommendation system algorithms using the `scikit-surprise` library. Our goal is to evaluate the performance of popular collaborative filtering algorithms using **cross-validation**, and identify which algorithm performs best on our dataset based on RMSE (Root Mean Squared Error).\r\n",
    "\r\n",
    "## Algorithms Covered\r\n",
    "\r\n",
    "We will implement and evaluate the following algorithms:\r\n",
    "\r\n",
    "- `KNNBasic` — K-Nearest Neighbors based collaborative filtering (user/item-based)\r\n",
    "- `SVD` — Singular Value Decomposition for matrix factorization\r\n",
    "- `NMF` — Non-negative Matrix Factorization\r\n",
    "- `SlopeOne` — Simple and efficient baseline recommender\r\n",
    "- `CoClustering` — Clustering-based matrix approximation method\r\n",
    "\r\n",
    "## Evaluation Method\r\n",
    "\r\n",
    "- **Metric**: RMSE (Root Mean Squared Error)\r\n",
    "- **Method**: 5-fold Cross-Validation using `surprise.model_selection.cross_validate`\r\n",
    "- We will also use `GridSearchCV` where applicable to tune hyperparameters and find the best performing configuration for each algorithm.\r\n",
    "\r\n",
    "## Output\r\n",
    "\r\n",
    "- Mean RMSE for each algorithm\r\n",
    "- Comparison table of performance\r\n",
    "- Recommendation on which thisrithm wo\n",
    "---\r\n",
    "\r\n",
    "Let’s get started! 🚀\r\n"
   ]
  },
  {
   "cell_type": "code",
   "execution_count": null,
   "metadata": {},
   "outputs": [],
   "source": [
    "# !pip install \"numpy<2.0\"\n",
    "# !pip install scikit-surprise"
   ]
  },
  {
   "cell_type": "code",
   "execution_count": null,
   "metadata": {},
   "outputs": [],
   "source": [
    "import pandas as pd"
   ]
  },
  {
   "cell_type": "code",
   "execution_count": null,
   "metadata": {},
   "outputs": [],
   "source": [
    "from surprise import Dataset, Reader, SVD, NMF, KNNBasic, SlopeOne, CoClustering\n",
    "from surprise.model_selection import cross_validate\n"
   ]
  },
  {
   "cell_type": "code",
   "execution_count": null,
   "metadata": {},
   "outputs": [],
   "source": [
    "movies_df = pd.read_csv(\"ml-latest-small/movies.csv\")\n",
    "ratings_df = pd.read_csv(\"ml-latest-small/ratings.csv\")"
   ]
  },
  {
   "cell_type": "code",
   "execution_count": null,
   "metadata": {},
   "outputs": [],
   "source": [
    "movies_df.head()"
   ]
  },
  {
   "cell_type": "code",
   "execution_count": null,
   "metadata": {},
   "outputs": [],
   "source": [
    "ratings_df.head()"
   ]
  },
  {
   "cell_type": "code",
   "execution_count": null,
   "metadata": {},
   "outputs": [],
   "source": [
    "movies_ratings_df = pd.merge(movies_df, ratings_df, on=\"movieId\")\n",
    "movies_ratings_df.head()"
   ]
  },
  {
   "cell_type": "code",
   "execution_count": null,
   "metadata": {},
   "outputs": [],
   "source": [
    "movies_ratings_df"
   ]
  },
  {
   "cell_type": "code",
   "execution_count": null,
   "metadata": {},
   "outputs": [],
   "source": [
    "data = movies_ratings_df[['userId', 'title', 'rating']]\n",
    "data.head()"
   ]
  },
  {
   "cell_type": "markdown",
   "metadata": {},
   "source": [
    "#### Populate Surprise Dataset"
   ]
  },
  {
   "cell_type": "code",
   "execution_count": null,
   "metadata": {},
   "outputs": [],
   "source": [
    "input = data[['userId', 'title', 'rating']]\n",
    "reader = Reader(rating_scale=(0, 5.0))\n",
    "surprise_data = Dataset.load_from_df(input, reader)\n",
    "train = surprise_data.build_full_trainset()\n",
    "test = train.build_testset()"
   ]
  },
  {
   "cell_type": "markdown",
   "metadata": {},
   "source": [
    " #### Compare KNNBasic, SVD, NMF, SlopeOne, and CoClustering"
   ]
  },
  {
   "cell_type": "code",
   "execution_count": null,
   "metadata": {},
   "outputs": [],
   "source": [
    "#### Singular Value Decomposition (SVD)"
   ]
  },
  {
   "cell_type": "code",
   "execution_count": null,
   "metadata": {},
   "outputs": [],
   "source": [
    "svd = SVD()\n",
    "svd.fit(train)\n",
    "prediction = svd.test(test)\n"
   ]
  },
  {
   "cell_type": "code",
   "execution_count": null,
   "metadata": {},
   "outputs": [],
   "source": [
    "prediction[:5]"
   ]
  },
  {
   "cell_type": "code",
   "execution_count": null,
   "metadata": {},
   "outputs": [],
   "source": [
    "from surprise.model_selection import cross_validate"
   ]
  },
  {
   "cell_type": "code",
   "execution_count": null,
   "metadata": {},
   "outputs": [],
   "source": [
    "cross_val_results = cross_validate(svd, surprise_data, measures=['RMSE'])"
   ]
  },
  {
   "cell_type": "code",
   "execution_count": null,
   "metadata": {},
   "outputs": [],
   "source": [
    "print (cross_val_results)"
   ]
  },
  {
   "cell_type": "code",
   "execution_count": null,
   "metadata": {},
   "outputs": [],
   "source": [
    "from surprise.model_selection import GridSearchCV\n",
    "param_grid = {\n",
    "    'n_factors': [2, 5, 10],\n",
    "    'n_epochs': [20, 30, 50],\n",
    "}\n",
    "gs = GridSearchCV(SVD, param_grid, measures=['rmse'], cv=5)\n",
    "gs.fit(surprise_data)\n",
    "\n",
    "print(gs.best_score['rmse'])\n",
    "print(gs.best_params['rmse'])"
   ]
  },
  {
   "cell_type": "code",
   "execution_count": null,
   "metadata": {},
   "outputs": [],
   "source": [
    "comparison_list = []\n",
    "comparison_list.append(['SVD', gs.best_score['rmse'], gs.best_params['rmse']])\n",
    "comparison_list"
   ]
  },
  {
   "cell_type": "markdown",
   "metadata": {},
   "source": [
    "#### KNNBasic"
   ]
  },
  {
   "cell_type": "code",
   "execution_count": null,
   "metadata": {},
   "outputs": [],
   "source": [
    "param_grid = {\n",
    "    'k': [10, 20, 30, 40]\n",
    "}\n",
    "gs_knn = GridSearchCV(KNNBasic, param_grid, measures=['rmse'], cv=5)\n",
    "gs_knn.fit(surprise_data)\n",
    "\n",
    "print(gs_knn.best_score['rmse'])\n",
    "print(gs_knn.best_params['rmse'])"
   ]
  },
  {
   "cell_type": "code",
   "execution_count": null,
   "metadata": {},
   "outputs": [],
   "source": [
    "comparison_list.append(['KNNBasic', gs_knn.best_score['rmse'], gs_knn.best_params['rmse']])\n",
    "comparison_list"
   ]
  },
  {
   "cell_type": "markdown",
   "metadata": {},
   "source": [
    "#### Collaborative Filtering - Non-negative Matrix Factorization (NMF)"
   ]
  },
  {
   "cell_type": "code",
   "execution_count": null,
   "metadata": {},
   "outputs": [],
   "source": [
    "param_grid = {\n",
    "    'n_factors': [10, 20, 30],\n",
    "    'n_epochs': [20, 50],\n",
    "}\n",
    "gs_nmf = GridSearchCV(NMF, param_grid, measures=['rmse'], cv=5)\n",
    "gs_nmf.fit(surprise_data)\n",
    "\n",
    "print(gs_nmf.best_score['rmse'])\n",
    "print(gs_nmf.best_params['rmse'])"
   ]
  },
  {
   "cell_type": "code",
   "execution_count": null,
   "metadata": {},
   "outputs": [],
   "source": [
    "comparison_list.append(['Non-negative Matrix Factorization', gs_nmf.best_score['rmse'], gs_nmf.best_params['rmse']])\n",
    "comparison_list"
   ]
  },
  {
   "cell_type": "markdown",
   "metadata": {},
   "source": [
    "#### SlopeOne"
   ]
  },
  {
   "cell_type": "code",
   "execution_count": null,
   "metadata": {},
   "outputs": [],
   "source": [
    "#SlopeOne does not take any Hyper parameters\n",
    "slope_one = SlopeOne()\n",
    "cv_results = cross_validate(slope_one, surprise_data, measures=['RMSE'], cv=5, verbose=True)\n",
    "\n",
    "print(\"Mean RMSE:\", cv_results['test_rmse'].mean())"
   ]
  },
  {
   "cell_type": "code",
   "execution_count": null,
   "metadata": {},
   "outputs": [],
   "source": [
    "comparison_list.append(['Slope One', cv_results['test_rmse'].mean(), 'No Hyper parameters'])\n",
    "comparison_list"
   ]
  },
  {
   "cell_type": "markdown",
   "metadata": {},
   "source": [
    "### CoClustering"
   ]
  },
  {
   "cell_type": "code",
   "execution_count": null,
   "metadata": {},
   "outputs": [],
   "source": [
    "param_grid = {\n",
    "    'n_epochs': [20, 50],\n",
    "}\n",
    "gs_co = GridSearchCV(CoClustering, param_grid, measures=['rmse'], cv=5)\n",
    "gs_co.fit(surprise_data)\n",
    "\n",
    "print(gs_co.best_score['rmse'])\n",
    "print(gs_co.best_params['rmse'])"
   ]
  },
  {
   "cell_type": "code",
   "execution_count": null,
   "metadata": {},
   "outputs": [],
   "source": [
    "comparison_list.append(['CoClustering', gs_co.best_score['rmse'], gs_co.best_params['rmse']])\n",
    "comparison_list"
   ]
  },
  {
   "cell_type": "code",
   "execution_count": null,
   "metadata": {},
   "outputs": [],
   "source": [
    "performance_comparison_dataframe = pd.DataFrame(comparison_list)\n",
    "performance_comparison_dataframe.sort_values(by=performance_comparison_dataframe.columns[1], ascending=False)"
   ]
  },
  {
   "cell_type": "code",
   "execution_count": null,
   "metadata": {},
   "outputs": [],
   "source": []
  }
 ],
 "metadata": {
  "kernelspec": {
   "display_name": "Python 3 (ipykernel)",
   "language": "python",
   "name": "python3"
  },
  "language_info": {
   "codemirror_mode": {
    "name": "ipython",
    "version": 3
   },
   "file_extension": ".py",
   "mimetype": "text/x-python",
   "name": "python",
   "nbconvert_exporter": "python",
   "pygments_lexer": "ipython3",
   "version": "3.12.4"
  }
 },
 "nbformat": 4,
 "nbformat_minor": 4
}

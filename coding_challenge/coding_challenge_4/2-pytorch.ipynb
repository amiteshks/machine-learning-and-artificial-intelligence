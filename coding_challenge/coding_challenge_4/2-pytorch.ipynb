{
 "cells": [
  {
   "cell_type": "markdown",
   "metadata": {},
   "source": [
    "### 🔁 PyTorch\n",
    "Tensor Creation\n",
    "Create a 2D tensor of shape (3, 4) filled with random values.\n",
    "\n",
    "Print its shape and datatype.\n"
   ]
  },
  {
   "cell_type": "code",
   "execution_count": 14,
   "metadata": {},
   "outputs": [],
   "source": [
    "# %pip install torch"
   ]
  },
  {
   "cell_type": "code",
   "execution_count": 16,
   "metadata": {},
   "outputs": [],
   "source": [
    "import torch"
   ]
  },
  {
   "cell_type": "code",
   "execution_count": 22,
   "metadata": {},
   "outputs": [
    {
     "name": "stdout",
     "output_type": "stream",
     "text": [
      "tensor([[0.2991, 0.1386, 0.0347, 0.4336],\n",
      "        [0.5118, 0.1207, 0.0092, 0.2391],\n",
      "        [0.3965, 0.4101, 0.8889, 0.0899]])\n",
      "torch.Size([3, 4])\n",
      "<class 'torch.Tensor'>\n"
     ]
    }
   ],
   "source": [
    "tensor = torch.rand(3,4)\n",
    "        \n",
    "print (tensor)\n",
    "print (tensor.shape)\n",
    "print (type(tensor))"
   ]
  },
  {
   "cell_type": "markdown",
   "metadata": {},
   "source": [
    "### Tensor Operations\n",
    "Perform element-wise addition, subtraction, and matrix multiplication using two tensors of shape (2, 2)."
   ]
  },
  {
   "cell_type": "code",
   "execution_count": 27,
   "metadata": {},
   "outputs": [
    {
     "name": "stdout",
     "output_type": "stream",
     "text": [
      "tensor([[1.3283, 0.6327],\n",
      "        [0.7917, 1.4076]])\n",
      "tensor([[ 0.3763, -0.1897],\n",
      "        [ 0.6718,  0.1656]])\n",
      "tensor([[0.4057, 0.0911],\n",
      "        [0.0439, 0.4885]])\n"
     ]
    }
   ],
   "source": [
    "tensor1 = torch.rand(2,2)\n",
    "tensor2 = torch.rand(2,2)\n",
    "print (tensor1 + tensor2)\n",
    "print (tensor1 - tensor2)\n",
    "print (tensor1 * tensor2)"
   ]
  },
  {
   "cell_type": "markdown",
   "metadata": {},
   "source": [
    "### Autograd Basics\n",
    "Create a tensor with requires_grad=True. Perform a few operations on it and then call .backward() to compute gradients. Print the gradients.\n"
   ]
  },
  {
   "cell_type": "code",
   "execution_count": 41,
   "metadata": {},
   "outputs": [
    {
     "name": "stdout",
     "output_type": "stream",
     "text": [
      "tensor([[-0.6047, -1.7458],\n",
      "        [ 1.9788,  0.4398]], requires_grad=True)\n",
      "tensor([[1.3953, 0.2542],\n",
      "        [3.9788, 2.4398]], grad_fn=<AddBackward0>)\n",
      "tensor([[ 5.8406,  0.1938],\n",
      "        [47.4916, 17.8575]], grad_fn=<MulBackward0>)\n"
     ]
    },
    {
     "data": {
      "text/plain": [
       "tensor([[2.0929, 0.3813],\n",
       "        [5.9681, 3.6597]])"
      ]
     },
     "execution_count": 41,
     "metadata": {},
     "output_type": "execute_result"
    }
   ],
   "source": [
    "tensor1 = torch.randn(2, 2, requires_grad=True)\n",
    "tensor2 = tensor1 + 2\n",
    "tensor3 = tensor2 * tensor2 * 3\n",
    "\n",
    "print (tensor1)\n",
    "print (tensor2)\n",
    "print (tensor3)\n",
    "\n",
    "out = tensor3.mean()\n",
    "out.backward()\n",
    "\n",
    "tensor1.grad"
   ]
  },
  {
   "cell_type": "markdown",
   "metadata": {},
   "source": [
    "### Linear Layer with nn.Linear\n",
    "Create a simple nn.Linear layer with input size 4 and output size 2. Pass a dummy tensor through it and print the output."
   ]
  },
  {
   "cell_type": "code",
   "execution_count": 45,
   "metadata": {},
   "outputs": [
    {
     "data": {
      "text/plain": [
       "tensor([[0.6549, 0.2250]], grad_fn=<AddmmBackward0>)"
      ]
     },
     "execution_count": 45,
     "metadata": {},
     "output_type": "execute_result"
    }
   ],
   "source": [
    "import torch.nn as nn\n",
    "\n",
    "linear = nn.Linear(4,2)\n",
    "dummy_input = torch.rand(1,4)\n",
    "output = linear(dummy_input)\n",
    "\n",
    "output"
   ]
  },
  {
   "cell_type": "markdown",
   "metadata": {},
   "source": [
    "### Build a Tiny Neural Network\n",
    "Use nn.Sequential to build a neural network with:\n",
    "\n",
    "Input layer: 3 neurons\n",
    "\n",
    "Hidden layer: 5 neurons with ReLU\n",
    "\n",
    "Output layer: 1 neuron with Sigmoid\n",
    "Pass a dummy input tensor of shape (1, 3) through the model."
   ]
  },
  {
   "cell_type": "code",
   "execution_count": 49,
   "metadata": {},
   "outputs": [],
   "source": [
    "model = nn.Sequential(\n",
    "    nn.Linear(3,5),\n",
    "    nn.ReLU(),\n",
    "    nn.Linear(5,1),\n",
    "    nn.Sigmoid()\n",
    ")\n",
    "\n",
    "dummy_input = torch.rand(1,3)\n",
    "output = model(dummy_input)"
   ]
  },
  {
   "cell_type": "code",
   "execution_count": 53,
   "metadata": {},
   "outputs": [
    {
     "name": "stdout",
     "output_type": "stream",
     "text": [
      "Dummy Input:\n",
      " tensor([[0.1740, 0.1836, 0.1522]])\n",
      "Model Output:\n",
      " tensor([[0.4272]], grad_fn=<SigmoidBackward0>)\n"
     ]
    }
   ],
   "source": [
    "print(\"Dummy Input:\\n\", dummy_input)\n",
    "print(\"Model Output:\\n\", output)"
   ]
  }
 ],
 "metadata": {
  "kernelspec": {
   "display_name": "Python (ensemble_learning)",
   "language": "python",
   "name": "ensemble_learning"
  },
  "language_info": {
   "codemirror_mode": {
    "name": "ipython",
    "version": 3
   },
   "file_extension": ".py",
   "mimetype": "text/x-python",
   "name": "python",
   "nbconvert_exporter": "python",
   "pygments_lexer": "ipython3",
   "version": "3.13.3"
  }
 },
 "nbformat": 4,
 "nbformat_minor": 4
}

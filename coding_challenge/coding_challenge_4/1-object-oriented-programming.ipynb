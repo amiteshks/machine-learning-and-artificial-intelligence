{
 "cells": [
  {
   "cell_type": "markdown",
   "metadata": {},
   "source": [
    "### 🔁 Python – Object-Oriented Programming (OOP)\n",
    "\n",
    "---\n",
    "\n",
    "#### Class Inheritance\n",
    "- Create a base class `Vehicle` with attributes `make` and `model`.\n",
    "- Derive a subclass `Car` that adds a `fuel_type` attribute.\n",
    "- Add a method `display_info()` that prints all attributes.\n",
    "\n",
    "\n"
   ]
  },
  {
   "cell_type": "code",
   "execution_count": 16,
   "metadata": {},
   "outputs": [
    {
     "name": "stdout",
     "output_type": "stream",
     "text": [
      "Merc - GLE350 - Gas\n",
      "BMW - X3 - Gas\n"
     ]
    }
   ],
   "source": [
    "class Vehicle:\n",
    "    def __init__(self, make: str, model: str):\n",
    "        self.make = make\n",
    "        self.model = model\n",
    "       \n",
    "class Car(Vehicle):\n",
    "    def __init__(self, make: str, model: str, fuels_type: str):\n",
    "        super().__init__(make, model)\n",
    "        self.fuels_type = fuels_type\n",
    "    \n",
    "my_car1 = Car(\"Merc\",\"GLE350\",\"Gas\")\n",
    "my_car2 = Car(\"BMW\",\"X3\",\"Gas\")\n",
    "print(f\"{my_car1.make} - {my_car1.model} - {my_car1.fuels_type}\")\n",
    "print(f\"{my_car2.make} - {my_car2.model} - {my_car2.fuels_type}\")\n"
   ]
  },
  {
   "cell_type": "markdown",
   "metadata": {},
   "source": [
    "#### Encapsulation and Properties\n",
    "- Implement a class `BankAccount` with a private attribute `__balance`.\n",
    "- Use `@property` to get the balance and a setter to update it only if the amount is positive.\n",
    "\n"
   ]
  },
  {
   "cell_type": "code",
   "execution_count": 34,
   "metadata": {},
   "outputs": [
    {
     "name": "stdout",
     "output_type": "stream",
     "text": [
      "50\n",
      "Balance must be positive.\n",
      "50\n",
      "55\n"
     ]
    }
   ],
   "source": [
    "class BankAccount:\n",
    "    def __init__(self, balance):\n",
    "        self.__balance = balance\n",
    "\n",
    "    # Getter\n",
    "    @property\n",
    "    def balance(self):\n",
    "        return self.__balance\n",
    "\n",
    "    # Setter\n",
    "    @balance.setter\n",
    "    def balance (self, balance):\n",
    "        if balance > 0:\n",
    "            self.__balance = balance\n",
    "        else:\n",
    "            print(\"Balance must be positive.\")\n",
    "        \n",
    "account = BankAccount(50)\n",
    "print (account.balance)\n",
    "\n",
    "account.balance = -5\n",
    "print (account.balance)\n",
    "\n",
    "\n",
    "account.balance = 55\n",
    "print (account.balance)\n",
    "\n"
   ]
  },
  {
   "cell_type": "markdown",
   "metadata": {},
   "source": [
    "#### Polymorphism\n",
    "- Create a class `Shape` with a method `area()`.\n",
    "- Create two subclasses `Rectangle` and `Circle` that override `area()` with appropriate calculations.\n",
    "\n"
   ]
  },
  {
   "cell_type": "code",
   "execution_count": 43,
   "metadata": {},
   "outputs": [
    {
     "name": "stdout",
     "output_type": "stream",
     "text": [
      "Shape - Area\n",
      "Circle - Area 50.24\n",
      "Shape - Area\n",
      "Rectangle - Area 20\n"
     ]
    }
   ],
   "source": [
    "class Shape:\n",
    "    def area(self):\n",
    "        print ('Shape - Area')\n",
    "\n",
    "class Rectangle(Shape):\n",
    "    def area(self, length, width):\n",
    "        super().area()\n",
    "        print ('Rectangle - Area', (length * width))\n",
    "\n",
    "class Circle(Shape):\n",
    "    def area(self, radius):\n",
    "        super().area()\n",
    "        print ('Circle - Area', (3.14 * radius ** 2))\n",
    "\n",
    "circle = Circle()\n",
    "circle.area(4)\n",
    "\n",
    "\n",
    "rect = Rectangle()\n",
    "rect.area(4, 5)"
   ]
  },
  {
   "cell_type": "markdown",
   "metadata": {},
   "source": [
    "#### Magic Methods\n",
    "- Implement a class `Vector` that supports addition using the `+` operator by overriding `__add__`.\n",
    "\n"
   ]
  },
  {
   "cell_type": "code",
   "execution_count": 67,
   "metadata": {},
   "outputs": [
    {
     "name": "stdout",
     "output_type": "stream",
     "text": [
      "(Vector: 8, 10)\n"
     ]
    },
    {
     "data": {
      "text/plain": [
       "(Vector: 8, 10)"
      ]
     },
     "execution_count": 67,
     "metadata": {},
     "output_type": "execute_result"
    }
   ],
   "source": [
    "class Vector:\n",
    "    def __init__(self, x, y):\n",
    "        self.x = x\n",
    "        self.y = y\n",
    "\n",
    "    def __add__(self, other):\n",
    "        return Vector(self.x + other.x, self.y + other.y)\n",
    "\n",
    "    def __str__(self):\n",
    "        return f\"(Vector: {self.x}, {self.y})\"\n",
    " \n",
    "    def __repr__(self):\n",
    "        return self.__str__()\n",
    "        \n",
    "v1 = Vector(4,5)\n",
    "v2 = Vector(4,5)\n",
    "v3 = v1 + v2\n",
    "print (v3)\n",
    "v3"
   ]
  },
  {
   "cell_type": "markdown",
   "metadata": {},
   "source": [
    "#### Class Method & Static Method\n",
    "- Write a class `Temperature` that can:\n",
    "  - Convert Celsius to Fahrenheit using a `@staticmethod`.\n",
    "  - Create an object from Fahrenheit using a `@classmethod`."
   ]
  },
  {
   "cell_type": "code",
   "execution_count": 79,
   "metadata": {},
   "outputs": [
    {
     "name": "stdout",
     "output_type": "stream",
     "text": [
      "0°C in Fahrenheit is 32.0°F\n",
      "32°F in Celsius is 0.0°C\n"
     ]
    }
   ],
   "source": [
    "class Temperature:\n",
    "    def __init__(self, celsius):\n",
    "        self.celsius = celsius\n",
    "        \n",
    "    @staticmethod\n",
    "    def convert_celsius_to_fahrenheit(celsius):\n",
    "        return (celsius * 9/5) + 32\n",
    "\n",
    "\n",
    "    @classmethod\n",
    "    def from_fahrenheit (cls, fahrenheit):\n",
    "        celsius = (fahrenheit - 32) * 5/9\n",
    "        return cls(celsius)\n",
    "\n",
    "t = Temperature(0)\n",
    "f = t.convert_celsius_to_fahrenheit(0)\n",
    "print(f\"0°C in Fahrenheit is {f}°F\")\n",
    "\n",
    "t2 = Temperature.from_fahrenheit(32)\n",
    "print(f\"32°F in Celsius is {t2.celsius}°C\")\n",
    "    "
   ]
  }
 ],
 "metadata": {
  "kernelspec": {
   "display_name": "Python (ensemble_learning)",
   "language": "python",
   "name": "ensemble_learning"
  },
  "language_info": {
   "codemirror_mode": {
    "name": "ipython",
    "version": 3
   },
   "file_extension": ".py",
   "mimetype": "text/x-python",
   "name": "python",
   "nbconvert_exporter": "python",
   "pygments_lexer": "ipython3",
   "version": "3.13.3"
  }
 },
 "nbformat": 4,
 "nbformat_minor": 4
}

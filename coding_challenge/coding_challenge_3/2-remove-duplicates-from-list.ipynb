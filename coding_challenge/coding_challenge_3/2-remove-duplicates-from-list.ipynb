{
 "cells": [
  {
   "cell_type": "markdown",
   "metadata": {},
   "source": [
    "### 🔁 Remove Duplicates from a List\n",
    "Create a Python program that removes duplicate elements from a list. e.g., convert [12, 12, 7, 8, 8, 9] to [12, 7, 8, 9]. Preserve the order.\n"
   ]
  },
  {
   "cell_type": "code",
   "execution_count": 13,
   "metadata": {},
   "outputs": [],
   "source": [
    "class RemoveDuplicate:\n",
    "\n",
    "    def __init__(self):\n",
    "        pass\n",
    "    # [3, 12, 7, 4]\n",
    "    def remove_duplicate(self, input_list):\n",
    "        \n",
    "        return_list = []\n",
    "        list_with_unique_elements = set() \n",
    "        for element in input_list:\n",
    "            if element not in list_with_unique_elements:\n",
    "                list_with_unique_elements.add(element)\n",
    "                return_list.append(element)\n",
    "\n",
    "        return return_list\n",
    "        \n",
    "    "
   ]
  },
  {
   "cell_type": "markdown",
   "metadata": {},
   "source": [
    "### Validation\n",
    "\n",
    "We will validate the function using two approaches:\n",
    "\n",
    "1. **Direct Method Invocation**  \n",
    "   Calling the method manually to verify the output.\n",
    "\n",
    "2. **Automated Testing with `ipytest`**  \n",
    "   Writing test cases using the `ipytest` framework to ensure correctness and reliability."
   ]
  },
  {
   "cell_type": "code",
   "execution_count": 14,
   "metadata": {},
   "outputs": [
    {
     "name": "stdout",
     "output_type": "stream",
     "text": [
      "[12, 7, 8, 9]\n"
     ]
    }
   ],
   "source": [
    "# 1. **Direct Method Invocation** - Calling the method manually to verify the output.\n",
    "\n",
    "obj = RemoveDuplicate()\n",
    "\n",
    "print(obj.remove_duplicate([12, 12, 7, 8, 8, 9]))\n",
    "\n",
    "\n"
   ]
  },
  {
   "cell_type": "code",
   "execution_count": 15,
   "metadata": {},
   "outputs": [],
   "source": [
    "# !pip install ipytest"
   ]
  },
  {
   "cell_type": "code",
   "execution_count": 16,
   "metadata": {},
   "outputs": [],
   "source": [
    "# 2. **Automated Testing with `ipytest`** - Writing test cases using the `ipytest` framework to ensure correctness and reliability.\n",
    "\n",
    "import ipytest\n",
    "ipytest.autoconfig()\n",
    "\n",
    "def test_is_prime():\n",
    "    assert [12, 7, 8, 9] == obj.remove_duplicate([12, 12, 7, 8, 8, 9])"
   ]
  },
  {
   "cell_type": "code",
   "execution_count": 17,
   "metadata": {},
   "outputs": [
    {
     "name": "stdout",
     "output_type": "stream",
     "text": [
      "\u001b[32m.\u001b[0m\u001b[32m                                                                                            [100%]\u001b[0m\n",
      "\u001b[32m\u001b[32m\u001b[1m1 passed\u001b[0m\u001b[32m in 0.03s\u001b[0m\u001b[0m\n"
     ]
    },
    {
     "data": {
      "text/plain": [
       "<ExitCode.OK: 0>"
      ]
     },
     "execution_count": 17,
     "metadata": {},
     "output_type": "execute_result"
    }
   ],
   "source": [
    "ipytest.run()"
   ]
  },
  {
   "cell_type": "code",
   "execution_count": null,
   "metadata": {},
   "outputs": [],
   "source": []
  }
 ],
 "metadata": {
  "kernelspec": {
   "display_name": "Python 3",
   "language": "python",
   "name": "python3"
  },
  "language_info": {
   "codemirror_mode": {
    "name": "ipython",
    "version": 3
   },
   "file_extension": ".py",
   "mimetype": "text/x-python",
   "name": "python",
   "nbconvert_exporter": "python",
   "pygments_lexer": "ipython3",
   "version": "3.12.9"
  }
 },
 "nbformat": 4,
 "nbformat_minor": 4
}

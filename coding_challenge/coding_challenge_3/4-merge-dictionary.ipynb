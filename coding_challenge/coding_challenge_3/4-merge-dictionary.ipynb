{
 "cells": [
  {
   "cell_type": "markdown",
   "metadata": {},
   "source": [
    "### 🔁 Merge Dictionary\n",
    "\n",
    "Write a program that merges two dictionaries into one.\n",
    "dict1 = {'a': 1, 'b': 2}\n",
    "dict2 = {'b': 3, 'c': 4}\n",
    "Expected Output:\n",
    "\n",
    "{'a': 1, 'b': 3, 'c': 4}\n",
    "If a key appears in both dictionaries, the value from the second dictionary should overwrite the one from the first.\n"
   ]
  },
  {
   "cell_type": "code",
   "execution_count": 15,
   "metadata": {},
   "outputs": [],
   "source": [
    "class MergeDictionary:\n",
    "\n",
    "    def __init__(self):\n",
    "        pass\n",
    "        \n",
    "    def merge(self, dict1, dict2):\n",
    "        final_dictionary = dict1.copy()\n",
    "        final_dictionary.update(dict2)\n",
    "\n",
    "        return final_dictionary\n",
    " "
   ]
  },
  {
   "cell_type": "markdown",
   "metadata": {},
   "source": [
    "### Validation\n",
    "\n",
    "We will validate the function using two approaches:\n",
    "\n",
    "1. **Direct Method Invocation**  \n",
    "   Calling the method manually to verify the output.\n",
    "\n",
    "2. **Automated Testing with `ipytest`**  \n",
    "   Writing test cases using the `ipytest` framework to ensure correctness and reliability."
   ]
  },
  {
   "cell_type": "code",
   "execution_count": 16,
   "metadata": {},
   "outputs": [
    {
     "name": "stdout",
     "output_type": "stream",
     "text": [
      "{'a': 1, 'b': 3, 'c': 4}\n"
     ]
    }
   ],
   "source": [
    "# 1. **Direct Method Invocation** - Calling the method manually to verify the output.\n",
    "dict1 = {'a': 1, 'b': 2}\n",
    "dict2 = {'b': 3, 'c': 4}\n",
    "obj = MergeDictionary()\n",
    "\n",
    "\n",
    "print(obj.merge(dict1, dict2))\n",
    "\n",
    "\n"
   ]
  },
  {
   "cell_type": "code",
   "execution_count": 17,
   "metadata": {},
   "outputs": [],
   "source": [
    "# !pip install ipytest"
   ]
  },
  {
   "cell_type": "code",
   "execution_count": 18,
   "metadata": {},
   "outputs": [],
   "source": [
    "def test_merge():\n",
    "    dict1 = {'a': 1, 'b': 2}\n",
    "    dict2 = {'b': 3, 'c': 4}\n",
    "    obj = MergeDictionary()\n",
    "\n",
    "    assert {'a': 1, 'b': 3, 'c': 4} == obj.merge(dict1, dict2)"
   ]
  },
  {
   "cell_type": "code",
   "execution_count": 19,
   "metadata": {},
   "outputs": [
    {
     "name": "stdout",
     "output_type": "stream",
     "text": [
      "\u001b[32m.\u001b[0m\u001b[32m                                                                                            [100%]\u001b[0m\n",
      "\u001b[32m\u001b[32m\u001b[1m1 passed\u001b[0m\u001b[32m in 0.03s\u001b[0m\u001b[0m\n"
     ]
    },
    {
     "data": {
      "text/plain": [
       "<ExitCode.OK: 0>"
      ]
     },
     "execution_count": 19,
     "metadata": {},
     "output_type": "execute_result"
    }
   ],
   "source": [
    "ipytest.run()"
   ]
  },
  {
   "cell_type": "code",
   "execution_count": null,
   "metadata": {},
   "outputs": [],
   "source": []
  }
 ],
 "metadata": {
  "kernelspec": {
   "display_name": "Python 3",
   "language": "python",
   "name": "python3"
  },
  "language_info": {
   "codemirror_mode": {
    "name": "ipython",
    "version": 3
   },
   "file_extension": ".py",
   "mimetype": "text/x-python",
   "name": "python",
   "nbconvert_exporter": "python",
   "pygments_lexer": "ipython3",
   "version": "3.12.9"
  }
 },
 "nbformat": 4,
 "nbformat_minor": 4
}

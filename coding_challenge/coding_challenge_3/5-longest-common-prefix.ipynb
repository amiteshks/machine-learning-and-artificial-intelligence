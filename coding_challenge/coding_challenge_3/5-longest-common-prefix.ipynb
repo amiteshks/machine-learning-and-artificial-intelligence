{
 "cells": [
  {
   "cell_type": "markdown",
   "metadata": {},
   "source": [
    "### 🔁 Longest Common Prefix\n",
    "\n",
    "\n",
    "Implement a function to find the **longest common prefix** among a list of strings.\n",
    "\n",
    "\n",
    "Example:\n",
    "\n",
    "Input: [\"Artificial Intelligence\", \"Artisan\", \"Article\", \"Articulate\"]\n",
    "\n",
    "Output: \"Arti\"\n"
   ]
  },
  {
   "cell_type": "code",
   "execution_count": 6,
   "metadata": {},
   "outputs": [],
   "source": [
    "class LongestCommonPrefix:\n",
    "\n",
    "    def __init__(self):\n",
    "        pass\n",
    "        \n",
    "    def get_longest_common_prefix(self, input_list):\n",
    "        #Emplty list\n",
    "        if not input_list:\n",
    "            return \"\"\n",
    "        \n",
    "        print (input_list)\n",
    "        input_list.sort()\n",
    "        print (input_list)\n",
    "\n",
    "        #Check the Prefix in the first and the last String\n",
    "        first = input_list[0]\n",
    "        last = input_list[-1]\n",
    "        return_str = ''\n",
    "        for i in range(min(len(first), len(last))):\n",
    "            if first[i] == last[i]:\n",
    "                return_str += first[i]\n",
    "\n",
    "\n",
    "        return return_str"
   ]
  },
  {
   "cell_type": "markdown",
   "metadata": {},
   "source": [
    "### Validation\n",
    "\n",
    "We will validate the function using two approaches:\n",
    "\n",
    "1. **Direct Method Invocation**  \n",
    "   Calling the method manually to verify the output.\n",
    "\n",
    "2. **Automated Testing with `ipytest`**  \n",
    "   Writing test cases using the `ipytest` framework to ensure correctness and reliability."
   ]
  },
  {
   "cell_type": "code",
   "execution_count": 7,
   "metadata": {},
   "outputs": [
    {
     "name": "stdout",
     "output_type": "stream",
     "text": [
      "['Artificial Intelligence', 'Artisan', 'Article', 'Articulate']\n",
      "['Article', 'Articulate', 'Artificial Intelligence', 'Artisan']\n",
      "Arti\n"
     ]
    }
   ],
   "source": [
    "obj = LongestCommonPrefix()\n",
    "\n",
    "print(obj.get_longest_common_prefix([\"Artificial Intelligence\", \"Artisan\", \"Article\", \"Articulate\"]))    "
   ]
  },
  {
   "cell_type": "code",
   "execution_count": 3,
   "metadata": {},
   "outputs": [],
   "source": [
    "# !pip install ipytest"
   ]
  },
  {
   "cell_type": "code",
   "execution_count": 4,
   "metadata": {},
   "outputs": [],
   "source": [
    "# 2. **Automated Testing with `ipytest`** - Writing test cases using the `ipytest` framework to ensure correctness and reliability.\n",
    "\n",
    "import ipytest\n",
    "ipytest.autoconfig()\n",
    "\n",
    "def test_get_longest_common_prefix():\n",
    "    obj = LongestCommonPrefix()\n",
    "\n",
    "    \n",
    "    assert \"Arti\" == obj.get_longest_common_prefix([\"Artificial Intelligence\", \"Artisan\", \"Article\", \"Articulate\"])\n",
    "    "
   ]
  },
  {
   "cell_type": "code",
   "execution_count": 5,
   "metadata": {},
   "outputs": [
    {
     "name": "stdout",
     "output_type": "stream",
     "text": [
      "\u001b[32m.\u001b[0m\u001b[32m                                                                                            [100%]\u001b[0m\n",
      "\u001b[32m\u001b[32m\u001b[1m1 passed\u001b[0m\u001b[32m in 0.07s\u001b[0m\u001b[0m\n"
     ]
    },
    {
     "data": {
      "text/plain": [
       "<ExitCode.OK: 0>"
      ]
     },
     "execution_count": 5,
     "metadata": {},
     "output_type": "execute_result"
    }
   ],
   "source": [
    "ipytest.run()"
   ]
  },
  {
   "cell_type": "code",
   "execution_count": null,
   "metadata": {},
   "outputs": [],
   "source": []
  }
 ],
 "metadata": {
  "kernelspec": {
   "display_name": "Python 3",
   "language": "python",
   "name": "python3"
  },
  "language_info": {
   "codemirror_mode": {
    "name": "ipython",
    "version": 3
   },
   "file_extension": ".py",
   "mimetype": "text/x-python",
   "name": "python",
   "nbconvert_exporter": "python",
   "pygments_lexer": "ipython3",
   "version": "3.12.10"
  }
 },
 "nbformat": 4,
 "nbformat_minor": 4
}

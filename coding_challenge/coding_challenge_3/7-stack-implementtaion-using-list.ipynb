{
 "cells": [
  {
   "cell_type": "markdown",
   "metadata": {},
   "source": [
    "### 🔁  Stack Implementation Using List\n",
    "Build a stack data structure using native Python lists.\n",
    "Implement the following operations:\n",
    "- `push(item)` → Add item to the stack\n",
    "- `pop()` → Remove and return the top item\n",
    "- `size()` → Return the number of items in the stack"
   ]
  },
  {
   "cell_type": "code",
   "execution_count": 22,
   "metadata": {},
   "outputs": [],
   "source": [
    "class StackImplementationUsingList:\n",
    "    \n",
    "    def __init__(self):\n",
    "        self.list_representing_stack = []\n",
    "        \n",
    "    def push(self, item):\n",
    "        self.list_representing_stack.append(item)\n",
    "        \n",
    "          \n",
    "    def pop(self):\n",
    "        length = len(self.list_representing_stack)\n",
    "        self.list_representing_stack = self.list_representing_stack[:length-1]\n",
    "        return self.list_representing_stack\n",
    "\n",
    "    def size(self):\n",
    "        length = len(self.list_representing_stack)\n",
    "        return length\n",
    "    \n",
    "    def __str__(self):\n",
    "        return str(self.list_representing_stack)\n",
    "    \n",
    "    def __eq__(self, other):\n",
    "        return self.list_representing_stack == other"
   ]
  },
  {
   "cell_type": "markdown",
   "metadata": {},
   "source": [
    "### Validation\n",
    "\n",
    "We will validate the function using two approaches:\n",
    "\n",
    "1. **Direct Method Invocation**  \n",
    "   Calling the method manually to verify the output.\n",
    "\n",
    "2. **Automated Testing with `ipytest`**  \n",
    "   Writing test cases using the `ipytest` framework to ensure correctness and reliability."
   ]
  },
  {
   "cell_type": "code",
   "execution_count": 24,
   "metadata": {},
   "outputs": [
    {
     "name": "stdout",
     "output_type": "stream",
     "text": [
      "After Pushing: [5]\n",
      "After Pushing: [5, 7]\n",
      "2\n",
      "After Popping: [5]\n",
      "1\n"
     ]
    }
   ],
   "source": [
    "my_stack =  StackImplementationUsingList()\n",
    "my_stack.push(5)\n",
    "print (f\"After Pushing: {my_stack}\")\n",
    "my_stack.push(7)\n",
    "print (f\"After Pushing: {my_stack}\")\n",
    "print (my_stack.size())\n",
    "my_stack.pop()\n",
    "print (f\"After Popping: {my_stack}\")\n",
    "print (my_stack.size())"
   ]
  },
  {
   "cell_type": "code",
   "execution_count": 19,
   "metadata": {},
   "outputs": [],
   "source": [
    "# !pip install ipytest"
   ]
  },
  {
   "cell_type": "code",
   "execution_count": 25,
   "metadata": {},
   "outputs": [],
   "source": [
    "# 2. **Automated Testing with `ipytest`** - Writing test cases using the `ipytest` framework to ensure correctness and reliability.\n",
    "\n",
    "import ipytest\n",
    "ipytest.autoconfig()\n",
    "\n",
    "def test_push():\n",
    "    my_stack =  StackImplementationUsingList()\n",
    "    my_stack.push(5)\n",
    "    my_stack.push(7)\n",
    "\n",
    "    assert [5, 7] == my_stack\n",
    "\n",
    "def test_pop():\n",
    "    my_stack =  StackImplementationUsingList()\n",
    "    my_stack.push(5)\n",
    "    my_stack.push(7)\n",
    "    my_stack.pop()\n",
    "\n",
    "    assert [5] == my_stack\n",
    "\n",
    "def test_size():\n",
    "    my_stack =  StackImplementationUsingList()\n",
    "    my_stack.push(5)\n",
    "    my_stack.push(7)\n",
    "    my_stack.pop()\n",
    "    \n",
    "    assert 1 == my_stack.size()"
   ]
  },
  {
   "cell_type": "code",
   "execution_count": 26,
   "metadata": {},
   "outputs": [
    {
     "name": "stdout",
     "output_type": "stream",
     "text": [
      "\u001b[32m.\u001b[0m\u001b[32m.\u001b[0m\u001b[32m.\u001b[0m\u001b[32m                                                                                          [100%]\u001b[0m\n",
      "\u001b[32m\u001b[32m\u001b[1m3 passed\u001b[0m\u001b[32m in 0.05s\u001b[0m\u001b[0m\n"
     ]
    },
    {
     "data": {
      "text/plain": [
       "<ExitCode.OK: 0>"
      ]
     },
     "execution_count": 26,
     "metadata": {},
     "output_type": "execute_result"
    }
   ],
   "source": [
    "ipytest.run()"
   ]
  },
  {
   "cell_type": "code",
   "execution_count": null,
   "metadata": {},
   "outputs": [],
   "source": []
  }
 ],
 "metadata": {
  "kernelspec": {
   "display_name": "Python 3",
   "language": "python",
   "name": "python3"
  },
  "language_info": {
   "codemirror_mode": {
    "name": "ipython",
    "version": 3
   },
   "file_extension": ".py",
   "mimetype": "text/x-python",
   "name": "python",
   "nbconvert_exporter": "python",
   "pygments_lexer": "ipython3",
   "version": "3.12.10"
  }
 },
 "nbformat": 4,
 "nbformat_minor": 4
}

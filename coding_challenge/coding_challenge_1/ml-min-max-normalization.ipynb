{
 "cells": [
  {
   "cell_type": "markdown",
   "metadata": {},
   "source": [
    "### 📊 Min-Max Normalization\n",
    "\n",
    "Write a function that normalizes a dataset using **Min-Max scaling** to bring all values into the range **[0, 1]**.\n",
    "\n",
    "This is useful for ensuring features are on the same scale, especially for machine learning algorithms sensitive to feature magnitudes.\n",
    "\n",
    "**Hint:** Hint: Use X_scaled = (X - X.min()) / (X.max() - X.min()). Use NumPy to compute `min` and `max`.\n",
    "\n",
    "**Example:**\n",
    "Input: `[10, 20, 30, 40, 50]`  \n",
    "Output: `[0.0, 0.25, 0.5, 0.75, 1.0]`\n"
   ]
  },
  {
   "cell_type": "code",
   "execution_count": 7,
   "metadata": {},
   "outputs": [],
   "source": [
    "import numpy as np\n",
    "\n",
    "class MinMaxNormalization:\n",
    "\n",
    "    def __init__(self):\n",
    "        pass\n",
    "        \n",
    "    def get_normalized_min_max(self, input_data):\n",
    "        \n",
    "\n",
    "        numerator = np.subtract(input_data, np.min(input_data))\n",
    "        denominator = np.subtract(np.max(input_data), np.min(input_data))\n",
    "        normalized_data = np.divide(numerator, denominator)\n",
    "       \n",
    "        return normalized_data\n"
   ]
  },
  {
   "cell_type": "markdown",
   "metadata": {},
   "source": [
    "### Validation\n",
    "\n",
    "We will validate the function using two approaches:\n",
    "\n",
    "1. **Direct Method Invocation**  \n",
    "   Calling the method manually to verify the output.\n",
    "\n",
    "2. **Automated Testing with `ipytest`**  \n",
    "   Writing test cases using the `ipytest` framework to ensure correctness and reliability."
   ]
  },
  {
   "cell_type": "code",
   "execution_count": 8,
   "metadata": {},
   "outputs": [
    {
     "name": "stdout",
     "output_type": "stream",
     "text": [
      "[0.   0.25 0.5  0.75 1.  ]\n"
     ]
    }
   ],
   "source": [
    "# 1. **Direct Method Invocation** - Calling the method manually to verify the output.\n",
    "\n",
    "min_max_normalization = MinMaxNormalization()\n",
    "\n",
    "print(min_max_normalization.get_normalized_min_max([1.0, 2.0, 3.0, 4.0, 5.0]))\n",
    "\n",
    "\n"
   ]
  },
  {
   "cell_type": "code",
   "execution_count": 9,
   "metadata": {},
   "outputs": [],
   "source": [
    "# 2. **Automated Testing with `ipytest`** - Writing test cases using the `ipytest` framework to ensure correctness and reliability.\n",
    "\n",
    "import ipytest\n",
    "ipytest.autoconfig()\n",
    "\n",
    "def test_get_normalized_z_scores():\n",
    "    \n",
    "    expected = [0., 0.25, 0.5, 0.75, 1.]\n",
    "    actual = min_max_normalization.get_normalized_min_max([1.0, 2.0, 3.0, 4.0, 5.0])\n",
    "\n",
    "    assert np.allclose(actual, expected, atol=1e-5)\n"
   ]
  },
  {
   "cell_type": "code",
   "execution_count": 10,
   "metadata": {},
   "outputs": [
    {
     "name": "stdout",
     "output_type": "stream",
     "text": [
      "\u001b[32m.\u001b[0m\u001b[32m                                                                                            [100%]\u001b[0m\n",
      "\u001b[32m\u001b[32m\u001b[1m1 passed\u001b[0m\u001b[32m in 0.04s\u001b[0m\u001b[0m\n"
     ]
    },
    {
     "data": {
      "text/plain": [
       "<ExitCode.OK: 0>"
      ]
     },
     "execution_count": 10,
     "metadata": {},
     "output_type": "execute_result"
    }
   ],
   "source": [
    "ipytest.run()"
   ]
  }
 ],
 "metadata": {
  "kernelspec": {
   "display_name": "Python 3",
   "language": "python",
   "name": "python3"
  },
  "language_info": {
   "codemirror_mode": {
    "name": "ipython",
    "version": 3
   },
   "file_extension": ".py",
   "mimetype": "text/x-python",
   "name": "python",
   "nbconvert_exporter": "python",
   "pygments_lexer": "ipython3",
   "version": "3.12.9"
  }
 },
 "nbformat": 4,
 "nbformat_minor": 2
}

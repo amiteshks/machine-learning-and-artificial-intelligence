{
 "cells": [
  {
   "cell_type": "markdown",
   "metadata": {},
   "source": [
    "### 🔄 Flatten Nested List\n",
    "\n",
    "Write a Python function that **flattens a nested list** into a single one-dimensional list, regardless of how deeply nested the original list is.\n",
    "\n",
    "**Example:**\n",
    "\n",
    "Input:  \n",
    "`[[1, 2], [6, [7, [5, 8]]], [3, [4, 5]]]`  \n",
    "\n",
    "Output:  \n",
    "`[1, 2, 6, 7, 5, 8, 3, 4, 5]`\n",
    "\n",
    "**Hint:** Use recursion to handle elements that are lists themselves.\n"
   ]
  },
  {
   "cell_type": "code",
   "execution_count": 5,
   "metadata": {},
   "outputs": [],
   "source": [
    "class FlattenNestedList:\n",
    "    def __init__(self):\n",
    "        pass\n",
    "        \n",
    "    def flatten(self, nested_list):\n",
    "        flattened_list = []\n",
    "\n",
    "        for item in nested_list:\n",
    "            if isinstance(item, type([])):  # This is correct - list is already a type\n",
    "                flattened_list.extend(self.flatten(item))\n",
    "            else:\n",
    "                flattened_list.append(item)\n",
    "    \n",
    "        return flattened_list    "
   ]
  },
  {
   "cell_type": "markdown",
   "metadata": {},
   "source": [
    "### Validation\n",
    "\n",
    "We will validate the function using two approaches:\n",
    "\n",
    "1. **Direct Method Invocation**  \n",
    "   Calling the method manually to verify the output.\n",
    "\n",
    "2. **Automated Testing with `ipytest`**  \n",
    "   Writing test cases using the `ipytest` framework to ensure correctness and reliability."
   ]
  },
  {
   "cell_type": "code",
   "execution_count": 6,
   "metadata": {},
   "outputs": [
    {
     "name": "stdout",
     "output_type": "stream",
     "text": [
      "[1, 2, 6, 7, 5, 8, 3, 4, 5]\n"
     ]
    }
   ],
   "source": [
    "# 1. **Direct Method Invocation** - Calling the method manually to verify the output.\n",
    "\n",
    "flatten_nested_list = FlattenNestedList()\n",
    "nested_list = [[1, 2], [6, [7, [5,8]]], [3, [4, 5]]] \n",
    "\n",
    "print(flatten_nested_list.flatten(nested_list))\n"
   ]
  },
  {
   "cell_type": "code",
   "execution_count": 7,
   "metadata": {},
   "outputs": [],
   "source": [
    "# 2. **Automated Testing with `ipytest`** - Writing test cases using the `ipytest` framework to ensure correctness and reliability.\n",
    "\n",
    "import ipytest\n",
    "ipytest.autoconfig()\n",
    "\n",
    "def test_check_palindrome_without_inbuilt_function():\n",
    "    nested_list =  [[1, 2], [6, [7, [5,8]]], [3, [4, 5]]] \n",
    "    actual = flatten_nested_list.flatten(nested_list)\n",
    "    expected = [1, 2, 6, 7, 5, 8, 3, 4, 5]\n",
    "    assert actual == expected\n",
    "    "
   ]
  },
  {
   "cell_type": "code",
   "execution_count": 8,
   "metadata": {},
   "outputs": [
    {
     "name": "stdout",
     "output_type": "stream",
     "text": [
      "\u001b[32m.\u001b[0m\u001b[32m                                                                                            [100%]\u001b[0m\n",
      "\u001b[32m\u001b[32m\u001b[1m1 passed\u001b[0m\u001b[32m in 0.03s\u001b[0m\u001b[0m\n"
     ]
    },
    {
     "data": {
      "text/plain": [
       "<ExitCode.OK: 0>"
      ]
     },
     "execution_count": 8,
     "metadata": {},
     "output_type": "execute_result"
    }
   ],
   "source": [
    "ipytest.run()"
   ]
  }
 ],
 "metadata": {
  "kernelspec": {
   "display_name": "Python 3",
   "language": "python",
   "name": "python3"
  },
  "language_info": {
   "codemirror_mode": {
    "name": "ipython",
    "version": 3
   },
   "file_extension": ".py",
   "mimetype": "text/x-python",
   "name": "python",
   "nbconvert_exporter": "python",
   "pygments_lexer": "ipython3",
   "version": "3.12.9"
  }
 },
 "nbformat": 4,
 "nbformat_minor": 2
}

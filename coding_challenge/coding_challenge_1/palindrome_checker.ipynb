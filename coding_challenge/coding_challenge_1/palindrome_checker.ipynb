{
 "cells": [
  {
   "cell_type": "markdown",
   "metadata": {},
   "source": [
    "### 🔁 Palindrome Checker\n",
    "\n",
    "Write a Python function that checks if a given string is a **palindrome**.\n",
    "\n",
    "A **palindrome** is a word that reads the same backward as forward.\n",
    "\n",
    "**Examples:**\n",
    "- `\"madam\"` → `True`\n",
    "- `\"hello\"` → `False`"
   ]
  },
  {
   "cell_type": "code",
   "execution_count": 51,
   "metadata": {},
   "outputs": [],
   "source": [
    "class PalindromeChecker:\n",
    "\n",
    "    def __init__(self):\n",
    "        pass\n",
    "        \n",
    "    def check_palindrome_without_inbuilt_function(self, input_string):\n",
    "        input_char_list = list(input_string)\n",
    "\n",
    "        length = len(input_char_list)\n",
    "        for i in range (0, length - 1):\n",
    "            if (input_char_list[i] != input_char_list[length -i -1]):\n",
    "                return False\n",
    "\n",
    "        return True\n",
    "\n",
    "    def check_palindrome_with_inbuilt_function(self, input_string):\n",
    "        \n",
    "        if (input_string != input_string[::-1]):\n",
    "            return False\n",
    "\n",
    "        return True"
   ]
  },
  {
   "cell_type": "markdown",
   "metadata": {},
   "source": [
    "### Validation\n",
    "\n",
    "We will validate the function using two approaches:\n",
    "\n",
    "1. **Direct Method Invocation**  \n",
    "   Calling the method manually to verify the output.\n",
    "\n",
    "2. **Automated Testing with `ipytest`**  \n",
    "   Writing test cases using the `ipytest` framework to ensure correctness and reliability."
   ]
  },
  {
   "cell_type": "code",
   "execution_count": 54,
   "metadata": {},
   "outputs": [
    {
     "name": "stdout",
     "output_type": "stream",
     "text": [
      "False\n",
      "True\n",
      "False\n",
      "True\n"
     ]
    }
   ],
   "source": [
    "# 1. **Direct Method Invocation** - Calling the method manually to verify the output.\n",
    "\n",
    "checker = PalindromeChecker()\n",
    "\n",
    "print(checker.check_palindrome_without_inbuilt_function(\"hello\"))\n",
    "print(checker.check_palindrome_without_inbuilt_function(\"madam\"))\n",
    "\n",
    "print(checker.check_palindrome_with_inbuilt_function(\"hello\"))\n",
    "print(checker.check_palindrome_with_inbuilt_function(\"madam\"))\n",
    "\n"
   ]
  },
  {
   "cell_type": "code",
   "execution_count": 55,
   "metadata": {},
   "outputs": [],
   "source": [
    "# 2. **Automated Testing with `ipytest`** - Writing test cases using the `ipytest` framework to ensure correctness and reliability.\n",
    "\n",
    "import ipytest\n",
    "ipytest.autoconfig()\n",
    "\n",
    "def test_check_palindrome_without_inbuilt_function():\n",
    "    assert not checker.check_palindrome_without_inbuilt_function(\"hello\")\n",
    "    assert checker.check_palindrome_without_inbuilt_function(\"madam\")\n",
    "\n",
    "def test_check_palindrome_with_inbuilt_function():\n",
    "    assert not checker.check_palindrome_with_inbuilt_function(\"hello\")\n",
    "    assert checker.check_palindrome_with_inbuilt_function(\"madam\")"
   ]
  },
  {
   "cell_type": "code",
   "execution_count": 56,
   "metadata": {},
   "outputs": [
    {
     "name": "stdout",
     "output_type": "stream",
     "text": [
      "\u001b[32m.\u001b[0m\u001b[32m.\u001b[0m\u001b[32m                                                                                           [100%]\u001b[0m\n",
      "\u001b[32m\u001b[32m\u001b[1m2 passed\u001b[0m\u001b[32m in 0.05s\u001b[0m\u001b[0m\n"
     ]
    },
    {
     "data": {
      "text/plain": [
       "<ExitCode.OK: 0>"
      ]
     },
     "execution_count": 56,
     "metadata": {},
     "output_type": "execute_result"
    }
   ],
   "source": [
    "ipytest.run()"
   ]
  },
  {
   "cell_type": "code",
   "execution_count": null,
   "metadata": {},
   "outputs": [],
   "source": []
  }
 ],
 "metadata": {
  "kernelspec": {
   "display_name": "Python 3",
   "language": "python",
   "name": "python3"
  },
  "language_info": {
   "codemirror_mode": {
    "name": "ipython",
    "version": 3
   },
   "file_extension": ".py",
   "mimetype": "text/x-python",
   "name": "python",
   "nbconvert_exporter": "python",
   "pygments_lexer": "ipython3",
   "version": "3.12.9"
  }
 },
 "nbformat": 4,
 "nbformat_minor": 2
}

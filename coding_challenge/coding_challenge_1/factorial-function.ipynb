{
 "cells": [
  {
   "cell_type": "markdown",
   "metadata": {},
   "source": [
    "### 🔁 Factorial Function\n",
    "\n",
    "Implement a function that calculates the **factorial** of a given number using **iteration** or **recursion**.\n",
    "\n",
    "A **factorial** is the product of all positive integers less than or equal to a given number `n`.\n",
    "\n",
    "**Formula:**  \n",
    "`factorial(n) = n × (n - 1) × (n - 2) × ... × 1`  \n",
    "`factorial(0) = 1` (by definition)\n",
    "\n",
    "**Example:**  \n",
    "`factorial(5)` → `120`  \n",
    "(Since `5 × 4 × 3 × 2 × 1 = 120`)\n"
   ]
  },
  {
   "cell_type": "code",
   "execution_count": 7,
   "metadata": {},
   "outputs": [],
   "source": [
    "class FactorialBuilder:\n",
    "\n",
    "    factorial: int\n",
    "\n",
    "    def __init__(self):\n",
    "\n",
    "        pass\n",
    "        \n",
    "    def get_factorial_recursive(self, input_number):\n",
    "        \n",
    "        if (input_number == 0):\n",
    "            return 1;\n",
    "        factorial = input_number * self.get_factorial_recursive(input_number-1)\n",
    "\n",
    "        return factorial\n",
    "    \n",
    "    def get_factorial_non_recursive(self, input_number):\n",
    "        \n",
    "        factorial = 1\n",
    "        for i in range (1, input_number + 1):\n",
    "            factorial *= i\n",
    "\n",
    "        return factorial\n"
   ]
  },
  {
   "cell_type": "markdown",
   "metadata": {},
   "source": [
    "### Validation\n",
    "\n",
    "We will validate the function using two approaches:\n",
    "\n",
    "1. **Direct Method Invocation**  \n",
    "   Calling the method manually to verify the output.\n",
    "\n",
    "2. **Automated Testing with `ipytest`**  \n",
    "   Writing test cases using the `ipytest` framework to ensure correctness and reliability."
   ]
  },
  {
   "cell_type": "code",
   "execution_count": 8,
   "metadata": {},
   "outputs": [
    {
     "name": "stdout",
     "output_type": "stream",
     "text": [
      "120\n",
      "120\n"
     ]
    }
   ],
   "source": [
    "# 1. **Direct Method Invocation** - Calling the method manually to verify the output.\n",
    "\n",
    "factorial = FactorialBuilder()\n",
    "\n",
    "print(factorial.get_factorial_recursive(5))\n",
    "\n",
    "print(factorial.get_factorial_non_recursive(5))\n",
    "\n",
    "\n"
   ]
  },
  {
   "cell_type": "code",
   "execution_count": 9,
   "metadata": {},
   "outputs": [],
   "source": [
    "# 2. **Automated Testing with `ipytest`** - Writing test cases using the `ipytest` framework to ensure correctness and reliability.\n",
    "\n",
    "import ipytest\n",
    "ipytest.autoconfig()\n",
    "\n",
    "def test_get_factorial_recursive():\n",
    "    \n",
    "    assert  120 == factorial.get_factorial_recursive(5)\n",
    "    assert  24 == factorial.get_factorial_recursive(4)\n",
    "    assert  6 == factorial.get_factorial_recursive(3)\n",
    "\n",
    "def test_get_factorial_non_recursive():\n",
    "    \n",
    "    assert  120 == factorial.get_factorial_non_recursive(5)\n",
    "    assert  24 == factorial.get_factorial_non_recursive(4)\n",
    "    assert  6 == factorial.get_factorial_non_recursive(3)\n"
   ]
  },
  {
   "cell_type": "code",
   "execution_count": 10,
   "metadata": {},
   "outputs": [
    {
     "name": "stdout",
     "output_type": "stream",
     "text": [
      "\u001b[32m.\u001b[0m\u001b[32m.\u001b[0m\u001b[32m                                                                                           [100%]\u001b[0m\n",
      "\u001b[32m\u001b[32m\u001b[1m2 passed\u001b[0m\u001b[32m in 0.06s\u001b[0m\u001b[0m\n"
     ]
    },
    {
     "data": {
      "text/plain": [
       "<ExitCode.OK: 0>"
      ]
     },
     "execution_count": 10,
     "metadata": {},
     "output_type": "execute_result"
    }
   ],
   "source": [
    "ipytest.run()"
   ]
  },
  {
   "cell_type": "code",
   "execution_count": null,
   "metadata": {},
   "outputs": [],
   "source": []
  }
 ],
 "metadata": {
  "kernelspec": {
   "display_name": "Python 3",
   "language": "python",
   "name": "python3"
  },
  "language_info": {
   "codemirror_mode": {
    "name": "ipython",
    "version": 3
   },
   "file_extension": ".py",
   "mimetype": "text/x-python",
   "name": "python",
   "nbconvert_exporter": "python",
   "pygments_lexer": "ipython3",
   "version": "3.12.9"
  }
 },
 "nbformat": 4,
 "nbformat_minor": 2
}

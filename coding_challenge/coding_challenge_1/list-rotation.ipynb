{
 "cells": [
  {
   "cell_type": "markdown",
   "metadata": {},
   "source": [
    "### 🔁 List Rotation\n",
    "\n",
    "Implement a function that rotates a list `k` times to the **right**.\n",
    "\n",
    "Each rotation moves the last element to the front of the list.\n",
    "\n",
    "**Example:**  \n",
    "Input: `[1, 2, 3, 4, 5]`, `k = 3`  \n",
    "Output: `[4, 5, 1, 2, 3]`\n"
   ]
  },
  {
   "cell_type": "code",
   "execution_count": 4,
   "metadata": {},
   "outputs": [],
   "source": [
    "class ListRotation:\n",
    "\n",
    "    def __init__(self):\n",
    "        pass\n",
    "        \n",
    "    def rotate_list(self, input_list, rotation_steps):\n",
    "\n",
    "        list_to_be_apended = input_list[:rotation_steps]\n",
    "        del input_list[:rotation_steps]\n",
    "        input_list.extend(list_to_be_apended)\n",
    "\n",
    "\n",
    "        return input_list"
   ]
  },
  {
   "cell_type": "markdown",
   "metadata": {},
   "source": [
    "### Validation\n",
    "\n",
    "We will validate the function using two approaches:\n",
    "\n",
    "1. **Direct Method Invocation**  \n",
    "   Calling the method manually to verify the output.\n",
    "\n",
    "2. **Automated Testing with `ipytest`**  \n",
    "   Writing test cases using the `ipytest` framework to ensure correctness and reliability."
   ]
  },
  {
   "cell_type": "code",
   "execution_count": 5,
   "metadata": {},
   "outputs": [
    {
     "name": "stdout",
     "output_type": "stream",
     "text": [
      "[4, 5, 1, 2, 3]\n"
     ]
    }
   ],
   "source": [
    "# 1. **Direct Method Invocation** - Calling the method manually to verify the output.\n",
    "\n",
    "list_rotation = ListRotation()\n",
    "\n",
    "print(list_rotation.rotate_list([1, 2, 3, 4, 5], 3))\n"
   ]
  },
  {
   "cell_type": "code",
   "execution_count": 6,
   "metadata": {},
   "outputs": [],
   "source": [
    "# 2. **Automated Testing with `ipytest`** - Writing test cases using the `ipytest` framework to ensure correctness and reliability.\n",
    "\n",
    "import ipytest\n",
    "ipytest.autoconfig()\n",
    "\n",
    "def test_rotate_list():\n",
    "    assert list_rotation.rotate_list([1, 2, 3, 4, 5], 3) == [4, 5, 1, 2, 3]\n",
    "   "
   ]
  },
  {
   "cell_type": "code",
   "execution_count": 7,
   "metadata": {},
   "outputs": [
    {
     "name": "stdout",
     "output_type": "stream",
     "text": [
      "\u001b[32m.\u001b[0m\u001b[32m                                                                                            [100%]\u001b[0m\n",
      "\u001b[32m\u001b[32m\u001b[1m1 passed\u001b[0m\u001b[32m in 0.02s\u001b[0m\u001b[0m\n"
     ]
    },
    {
     "data": {
      "text/plain": [
       "<ExitCode.OK: 0>"
      ]
     },
     "execution_count": 7,
     "metadata": {},
     "output_type": "execute_result"
    }
   ],
   "source": [
    "ipytest.run()"
   ]
  }
 ],
 "metadata": {
  "kernelspec": {
   "display_name": "Python 3",
   "language": "python",
   "name": "python3"
  },
  "language_info": {
   "codemirror_mode": {
    "name": "ipython",
    "version": 3
   },
   "file_extension": ".py",
   "mimetype": "text/x-python",
   "name": "python",
   "nbconvert_exporter": "python",
   "pygments_lexer": "ipython3",
   "version": "3.12.9"
  }
 },
 "nbformat": 4,
 "nbformat_minor": 2
}
